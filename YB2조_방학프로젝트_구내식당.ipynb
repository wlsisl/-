{
  "nbformat": 4,
  "nbformat_minor": 0,
  "metadata": {
    "colab": {
      "provenance": [],
      "include_colab_link": true
    },
    "kernelspec": {
      "name": "python3",
      "display_name": "Python 3"
    },
    "language_info": {
      "name": "python"
    }
  },
  "cells": [
    {
      "cell_type": "markdown",
      "metadata": {
        "id": "view-in-github",
        "colab_type": "text"
      },
      "source": [
        "<a href=\"https://colab.research.google.com/github/wlsisl/-/blob/main/YB2%EC%A1%B0_%EB%B0%A9%ED%95%99%ED%94%84%EB%A1%9C%EC%A0%9D%ED%8A%B8_%EA%B5%AC%EB%82%B4%EC%8B%9D%EB%8B%B9.ipynb\" target=\"_parent\"><img src=\"https://colab.research.google.com/assets/colab-badge.svg\" alt=\"Open In Colab\"/></a>"
      ]
    },
    {
      "cell_type": "markdown",
      "source": [
        "# **구내식당 식수 인원 예측 AI 경진대회**"
      ],
      "metadata": {
        "id": "OsMZl9562r4v"
      }
    },
    {
      "cell_type": "markdown",
      "source": [
        "---\n",
        "## **1. 대회 소개 및 변수 설명**\n",
        "**[데이콘] 구내식당 식수 인원 예측 AI 경진대회** <br/>\n",
        "- 빅데이터 분석으로 얻어지는 정확도 높은 예측을 통해 구내식당의 요일별 점심, 저녁식사를 먹는 인원 예측\n",
        "- 평가산식: MAE (Mean Absolute Error)\n",
        "- https://dacon.io/competitions/official/235743/overview/rules\n",
        "\n",
        "**변수 (12개)**\n",
        "- 일자\n",
        "- 요일\n",
        "- 본사정원수\n",
        "- 본사휴가자수\n",
        "- 본사출장자수\n",
        "- 시간외근무명령서승인건수\n",
        "- 현본사소속재택근무자수\n",
        "- 조식메뉴\n",
        "- 중식메뉴\n",
        "- 석식메뉴\n",
        "- **중식계**\n",
        "- **석식계**"
      ],
      "metadata": {
        "id": "bCYg_NQ13dmP"
      }
    },
    {
      "cell_type": "markdown",
      "source": [
        "## **2. 데이터 불러오기**"
      ],
      "metadata": {
        "id": "XajDDTRRRT0u"
      }
    },
    {
      "cell_type": "code",
      "source": [
        "from google.colab import drive\n",
        "drive.mount('/content/drive')"
      ],
      "metadata": {
        "id": "URqGplm085nx",
        "colab": {
          "base_uri": "https://localhost:8080/"
        },
        "outputId": "374c2faf-8345-4d9f-b59c-3add6ae3b42b"
      },
      "execution_count": null,
      "outputs": [
        {
          "output_type": "stream",
          "name": "stdout",
          "text": [
            "Mounted at /content/drive\n"
          ]
        }
      ]
    },
    {
      "cell_type": "code",
      "source": [
        "import pandas as pd\n",
        "import numpy as np \n",
        "\n",
        "import matplotlib.pyplot as plt\n",
        "import seaborn as sns\n",
        "%matplotlib inline\n",
        "\n",
        "from sklearn.preprocessing import LabelEncoder"
      ],
      "metadata": {
        "id": "UQFtlD1b88Vf"
      },
      "execution_count": null,
      "outputs": []
    },
    {
      "cell_type": "code",
      "source": [
        "train=pd.read_csv('/content/drive/MyDrive/YB_2조/23년 1월 프로젝트/train.csv')\n",
        "test=pd.read_csv('/content/drive/MyDrive/YB_2조/23년 1월 프로젝트/test.csv')"
      ],
      "metadata": {
        "id": "Be5MXoC-9A0N"
      },
      "execution_count": null,
      "outputs": []
    },
    {
      "cell_type": "markdown",
      "source": [
        "**warning 무시 코드**"
      ],
      "metadata": {
        "id": "tjqAukzH5kOx"
      }
    },
    {
      "cell_type": "code",
      "source": [
        "import warnings \n",
        "warnings.filterwarnings(action='ignore')"
      ],
      "metadata": {
        "id": "rDprOJ97tJvF"
      },
      "execution_count": null,
      "outputs": []
    },
    {
      "cell_type": "markdown",
      "source": [
        "**폰트 설치**"
      ],
      "metadata": {
        "id": "vkb4Ruy55tPV"
      }
    },
    {
      "cell_type": "code",
      "source": [
        "%config InlineBackend.figure_format = 'retina'\n",
        "\n",
        "!apt -qq -y install fonts-nanum > /dev/null"
      ],
      "metadata": {
        "colab": {
          "base_uri": "https://localhost:8080/"
        },
        "id": "Wwz2IFNe5NQh",
        "outputId": "83bc3693-06f5-4491-8e59-3cf7120dfece"
      },
      "execution_count": null,
      "outputs": [
        {
          "output_type": "stream",
          "name": "stdout",
          "text": [
            "\n",
            "WARNING: apt does not have a stable CLI interface. Use with caution in scripts.\n",
            "\n"
          ]
        }
      ]
    },
    {
      "cell_type": "code",
      "source": [
        "import matplotlib.font_manager as fm\n",
        "fontpath = '/usr/share/fonts/truetype/nanum/NanumBarunGothic.ttf'\n",
        "font = fm.FontProperties(fname=fontpath, size=9)"
      ],
      "metadata": {
        "id": "8sglihUk5RIs"
      },
      "execution_count": null,
      "outputs": []
    },
    {
      "cell_type": "code",
      "source": [
        "# 기본 글꼴 변경\n",
        "import matplotlib as mpl\n",
        "mpl.font_manager._rebuild()\n",
        "mpl.pyplot.rc('font', family='NanumBarunGothic')"
      ],
      "metadata": {
        "id": "TvR4DpJf5TbO"
      },
      "execution_count": null,
      "outputs": []
    },
    {
      "cell_type": "markdown",
      "source": [
        "## **3. 데이터 살펴보기 (EDA)**"
      ],
      "metadata": {
        "id": "r0RkZyqDOTBp"
      }
    },
    {
      "cell_type": "markdown",
      "source": [
        "#### **점심** "
      ],
      "metadata": {
        "id": "1WyIr8M2Wha9"
      }
    },
    {
      "cell_type": "markdown",
      "source": [
        "> **1. 요일과 중식계** <br/>\n",
        "요일별로 중식계에 얼마나 차이가 생기는지 확인"
      ],
      "metadata": {
        "id": "8B9sywkxWotT"
      }
    },
    {
      "cell_type": "code",
      "source": [
        "lunch=train.groupby('요일').mean('중식계')\n",
        "\n",
        "fig=plt.figure()\n",
        "axes=fig.add_subplot(1,1,1)\n",
        "\n",
        "axes=sns.barplot(lunch.index, lunch.중식계, order=['월', '화', '수', '목', '금'])\n",
        "axes.set_title('요일과 중식계의 관계')"
      ],
      "metadata": {
        "colab": {
          "base_uri": "https://localhost:8080/"
        },
        "id": "XNwqPH_8LjQD",
        "outputId": "1838acc1-bb5f-4f70-dd24-0d3086a3d1fe"
      },
      "execution_count": null,
      "outputs": [
        {
          "output_type": "execute_result",
          "data": {
            "text/plain": [
              "Text(0.5, 1.0, '요일과 중식계의 관계')"
            ]
          },
          "metadata": {},
          "execution_count": 8
        },
        {
          "output_type": "stream",
          "name": "stderr",
          "text": [
            "WARNING:matplotlib.font_manager:findfont: Font family ['NanumBarunGothic'] not found. Falling back to DejaVu Sans.\n",
            "WARNING:matplotlib.font_manager:findfont: Font family ['NanumBarunGothic'] not found. Falling back to DejaVu Sans.\n"
          ]
        },
        {
          "output_type": "display_data",
          "data": {
            "text/plain": [
              "<Figure size 432x288 with 1 Axes>"
            ],
            "image/png": "[encoded data removed]"
          },
          "metadata": {
            "image/png": {
              "width": 395,
              "height": 277
            },
            "needs_background": "light"
          }
        }
      ]
    },
    {
      "cell_type": "markdown",
      "source": [
        "- 월요일에 가장 중식계가 많으며, 금요일로 갈수록 줄어드는 추세를 보임"
      ],
      "metadata": {
        "id": "kVpl-6JkW9g6"
      }
    },
    {
      "cell_type": "markdown",
      "source": [
        "> **2. 식수가능인원수와 중식계** <br/>\n",
        "본사정원수에서 본사휴가자수, 본사출장자수, 현본사소속재택근무자수를 제외한 식수가능인원수가 <br/> 중식계와 어떤 관계를 보이는지 확인"
      ],
      "metadata": {
        "id": "ZUVIj9OepxDB"
      }
    },
    {
      "cell_type": "code",
      "source": [
        "#식수 가능 인원수 = 정원-휴가-출장-재택 와 중식계\n",
        "\n",
        "train['식수가능인원수']= train['본사정원수'] - train['본사휴가자수'] - train['본사출장자수'] - train['현본사소속재택근무자수']"
      ],
      "metadata": {
        "id": "QlIsr2xS9fix"
      },
      "execution_count": null,
      "outputs": []
    },
    {
      "cell_type": "code",
      "source": [
        "fig=plt.figure()\n",
        "graph1=fig.add_subplot(1,1,1)\n",
        "\n",
        "graph1=sns.scatterplot('식수가능인원수', '중식계', data=train,alpha=0.7)\n",
        "graph1.set_title('식수가능인원수와 중식계 관계')"
      ],
      "metadata": {
        "id": "FJXVsdIi8buf",
        "colab": {
          "base_uri": "https://localhost:8080/"
        },
        "outputId": "ca6c3185-7f33-40c9-b286-fc3086910891"
      },
      "execution_count": null,
      "outputs": [
        {
          "output_type": "execute_result",
          "data": {
            "text/plain": [
              "Text(0.5, 1.0, '식수가능인원수와 중식계 관계')"
            ]
          },
          "metadata": {},
          "execution_count": 10
        },
        {
          "output_type": "display_data",
          "data": {
            "text/plain": [
              "<Figure size 432x288 with 1 Axes>"
            ],
            "image/png": "[encoded data removed]"
          },
          "metadata": {
            "image/png": {
              "width": 395,
              "height": 277
            },
            "needs_background": "light"
          }
        }
      ]
    },
    {
      "cell_type": "markdown",
      "source": [
        "- 식수가능인원수가 많은 날일수록 중식계가 높게 나오므로 양의 상관성을 띄고 있음"
      ],
      "metadata": {
        "id": "ZTjzz12_qO9i"
      }
    },
    {
      "cell_type": "markdown",
      "source": [
        "> **3. 년도별 정원 대비 중식계 비율** <br/>\n",
        "코로나 이전 (2016-02-01 ~ 2020-01-06)과 코로나 이후 (2020-01-07 ~ 2021-01-26)로 구분지어 확인"
      ],
      "metadata": {
        "id": "JqlAPJ_NqkKO"
      }
    },
    {
      "cell_type": "code",
      "source": [
        "train['일자']=pd.to_datetime(train['일자'])\n",
        "\n",
        "train['년']=train['일자'].dt.year\n",
        "train['월']=train['일자'].dt.month\n",
        "train['일']=train['일자'].dt.day"
      ],
      "metadata": {
        "id": "sYjPl6H3RiDg"
      },
      "execution_count": null,
      "outputs": []
    },
    {
      "cell_type": "markdown",
      "source": [
        "- '일자' 변수를 datetime type으로 변환 후 년/월/일 변수로 새롭게 생성"
      ],
      "metadata": {
        "id": "uhhzqO-MpriY"
      }
    },
    {
      "cell_type": "code",
      "source": [
        "#년도별 정원 대비 중식계 비율\n",
        "\n",
        "rot = sns.boxplot(x=train.년 ,y=train.중식계/train.본사정원수)\n",
        "\n",
        "for item in rot.get_xticklabels():\n",
        "    item.set_rotation(90)"
      ],
      "metadata": {
        "id": "sFbQZUOv8boG",
        "colab": {
          "base_uri": "https://localhost:8080/",
          "height": 314
        },
        "outputId": "9201ebb5-9908-4373-ad54-6287d70d60c4"
      },
      "execution_count": null,
      "outputs": [
        {
          "output_type": "display_data",
          "data": {
            "text/plain": [
              "<Figure size 432x288 with 1 Axes>"
            ],
            "image/png": "[encoded data removed]"
          },
          "metadata": {
            "image/png": {
              "width": 372,
              "height": 277
            },
            "needs_background": "light"
          }
        }
      ]
    },
    {
      "cell_type": "markdown",
      "source": [
        "- 코로나 이전인 2016 ~ 2019년까지는 중식계가 감소하는 추세를 보이다가, 2020년 코로나가 시작되고 오히려 증가\n",
        "- 코로나로 인해 오히려 직장 내에서 식사를 하는 사람들이 증가한 것으로 추정"
      ],
      "metadata": {
        "id": "ldnnaN02r_uy"
      }
    },
    {
      "cell_type": "markdown",
      "source": [
        "#### **저녁** "
      ],
      "metadata": {
        "id": "Bo5Yk5RQ8UYe"
      }
    },
    {
      "cell_type": "markdown",
      "source": [
        "> **1. 요일과 석식계** <br/>\n",
        "요일별로 석식계에 얼마나 차이가 생기는지 확인"
      ],
      "metadata": {
        "id": "TRNBD4wPtTHX"
      }
    },
    {
      "cell_type": "code",
      "source": [
        "dinner=train.groupby('요일').mean('석식계')\n",
        "\n",
        "fig=plt.figure()\n",
        "axes=fig.add_subplot(1,1,1)\n",
        "\n",
        "axes=sns.barplot(dinner.index, dinner.석식계, order=['월', '화', '수', '목', '금'])\n",
        "axes.set_title('요일과 석식계의 관계')"
      ],
      "metadata": {
        "id": "feETUMnXL7CG",
        "colab": {
          "base_uri": "https://localhost:8080/"
        },
        "outputId": "943cad71-3c22-4b0e-d58a-609ef5933b7b"
      },
      "execution_count": null,
      "outputs": [
        {
          "output_type": "execute_result",
          "data": {
            "text/plain": [
              "Text(0.5, 1.0, '요일과 석식계의 관계')"
            ]
          },
          "metadata": {},
          "execution_count": 13
        },
        {
          "output_type": "display_data",
          "data": {
            "text/plain": [
              "<Figure size 432x288 with 1 Axes>"
            ],
            "image/png": "[encoded data removed]"
          },
          "metadata": {
            "image/png": {
              "width": 388,
              "height": 277
            },
            "needs_background": "light"
          }
        }
      ]
    },
    {
      "cell_type": "markdown",
      "source": [
        "- 월요일에 가장 중식계가 많으며, 수요일과 금요일에 상대적으로 적음\n",
        "- 비교적 쉬는 일이 많은 수요일과 금요일에는 밖에서 저녁식사를 할 것이라 예상 됨"
      ],
      "metadata": {
        "id": "ViNUUi8ktbEL"
      }
    },
    {
      "cell_type": "markdown",
      "source": [
        "> **2. 식수가능인원수와 석식계** <br/>\n",
        "본사정원수에서 본사휴가자수, 본사출장자수, 현본사소속재택근무자수를 제외한 식수가능인원수가 <br/> 석식계와 어떤 관계를 보이는지 확인"
      ],
      "metadata": {
        "id": "R76P3cLKuM2J"
      }
    },
    {
      "cell_type": "code",
      "source": [
        "#식수 가능 인원수 = 정원-휴가-출장-재택 와 석식계\n",
        "fig=plt.figure()\n",
        "graph1=fig.add_subplot(1,1,1)\n",
        "\n",
        "graph1=sns.scatterplot('식수가능인원수', '석식계', data=train,alpha=0.7)\n",
        "graph1.set_title('식수가능인원수와 석식계 관계')"
      ],
      "metadata": {
        "id": "Ywl4JRZZ8cEO",
        "colab": {
          "base_uri": "https://localhost:8080/"
        },
        "outputId": "5b18cfc5-5f59-4c4d-a9e3-608b60b4a8ae"
      },
      "execution_count": null,
      "outputs": [
        {
          "output_type": "execute_result",
          "data": {
            "text/plain": [
              "Text(0.5, 1.0, '식수가능인원수와 석식계 관계')"
            ]
          },
          "metadata": {},
          "execution_count": 14
        },
        {
          "output_type": "display_data",
          "data": {
            "text/plain": [
              "<Figure size 432x288 with 1 Axes>"
            ],
            "image/png": "[encoded data removed]"
          },
          "metadata": {
            "image/png": {
              "width": 388,
              "height": 277
            },
            "needs_background": "light"
          }
        }
      ]
    },
    {
      "cell_type": "markdown",
      "source": [
        "- 식수가능인원수가 많은 날일수록 석식계가 높게 나오므로 양의 상관성을 띄고 있음"
      ],
      "metadata": {
        "id": "r3AmZrC6uaif"
      }
    },
    {
      "cell_type": "markdown",
      "source": [
        "> **3. 년도별 정원 대비 석식계 비율** <br/>\n",
        "코로나 이전 (2016-02-01 ~ 2020-01-06)과 코로나 이후 (2020-01-07 ~ 2021-01-26)로 구분지어 확인"
      ],
      "metadata": {
        "id": "0nnXYiRvvUww"
      }
    },
    {
      "cell_type": "code",
      "source": [
        "#년도별 정원 대비 석식계 비율\n",
        "rot = sns.boxplot(x=train.년 ,y=train.석식계/train.본사정원수)\n",
        "\n",
        "for item in rot.get_xticklabels():\n",
        "    item.set_rotation(90)"
      ],
      "metadata": {
        "id": "QctFHiC-8b_O",
        "colab": {
          "base_uri": "https://localhost:8080/"
        },
        "outputId": "482c1f3b-c6aa-4193-a9d5-0c9b215807ee"
      },
      "execution_count": null,
      "outputs": [
        {
          "output_type": "display_data",
          "data": {
            "text/plain": [
              "<Figure size 432x288 with 1 Axes>"
            ],
            "image/png": "[encoded data removed]"
          },
          "metadata": {
            "image/png": {
              "width": 378,
              "height": 278
            },
            "needs_background": "light"
          }
        }
      ]
    },
    {
      "cell_type": "markdown",
      "source": [
        "- 2020년 코로나 발생 이후 정원 대비 석식계 비율은 감소하고 있으나, <br/>\n",
        "코로나 이전에도 감소하는 추세를 보여왔기 때문에 석식계에 코로나의 영향이 크다고 판단하기 어려움"
      ],
      "metadata": {
        "id": "AEcC_dUxwBxx"
      }
    },
    {
      "cell_type": "code",
      "source": [
        "#원활한 전처리를 위해 일시적으로 drop\n",
        "train.drop('식수가능인원수', axis=1, inplace=True)"
      ],
      "metadata": {
        "id": "CvsOyYADL9rm"
      },
      "execution_count": null,
      "outputs": []
    },
    {
      "cell_type": "markdown",
      "source": [
        "# **데이터 전처리-중식**\n",
        "\n",
        "### **< train 데이터 >**\n",
        "\n",
        "\n",
        "**1.column명 간단하게 바꾸기**\n",
        "\n",
        "본사정원수 - '정원'\n",
        "\n",
        "본사휴가자수 - '휴가'\n",
        "\n",
        "본사출장자수 - '출장'\n",
        "\n",
        "본사시간외근무명령서승인건수 - '야근'\n",
        "\n",
        "현본사소속재택근무자수 - '재택'\n",
        "\n",
        "<식수 가능 인원수,공휴일,계절,날씨 변수 생성>\n",
        "\n",
        "식수 가능 인원수 = 정원-휴가-출장-재택\n",
        "\n",
        "\n"
      ],
      "metadata": {
        "id": "6tq8Dl8aRRjb"
      }
    },
    {
      "cell_type": "code",
      "source": [
        "#column명 간단하게 바꾸기\n",
        "#위에서 datetime해줘버려서 년월일있음.\n",
        "train.columns=['일자', '요일', '정원', '휴가', '출장', '야근', '재택', '조식메뉴', '중식메뉴', '석식메뉴', '중식계', '석식계','년','월','일']\n"
      ],
      "metadata": {
        "id": "AZMDv5jxPKsx"
      },
      "execution_count": null,
      "outputs": []
    },
    {
      "cell_type": "markdown",
      "source": [
        "**2.일자를 datetime 형식으로 바꾸기** \n",
        " \n",
        "'일자' column 없애고 year,month,day 칼럼 추가"
      ],
      "metadata": {
        "id": "sygeszRX-VYP"
      }
    },
    {
      "cell_type": "code",
      "source": [
        "#위에서 처리해줌.\n",
        "train['일자']=pd.to_datetime(train['일자'])\n",
        "\n",
        "train['년']=train['일자'].dt.year\n",
        "train['월']=train['일자'].dt.month\n",
        "train['일']=train['일자'].dt.day"
      ],
      "metadata": {
        "id": "KvFZD9a_A4ed"
      },
      "execution_count": null,
      "outputs": []
    },
    {
      "cell_type": "markdown",
      "source": [
        "식사가능인원수 생성"
      ],
      "metadata": {
        "id": "keWGGzvBOePm"
      }
    },
    {
      "cell_type": "code",
      "source": [
        "train['식사가능인원수']=train.정원- train.휴가 -train.출장 -train.재택"
      ],
      "metadata": {
        "id": "De-xEvr0AslW"
      },
      "execution_count": null,
      "outputs": []
    },
    {
      "cell_type": "markdown",
      "source": [
        "공휴일 변수 생성"
      ],
      "metadata": {
        "id": "yGaB_RrpOg57"
      }
    },
    {
      "cell_type": "code",
      "source": [
        "#공휴일 지정 노가다 (노가다라는 표현말고 좋은 게 있을까요..)\n",
        "train['공휴일전후'] = 0\n",
        "\n",
        "train['공휴일전후'][17] = 1\n",
        "train['공휴일전후'][3] = 1\n",
        "train['공휴일전후'][62] = 1\n",
        "# train['공휴일전후'][67] = 1\n",
        "# train['공휴일전후'][82] = 1\n",
        "train['공휴일전후'][131] = 1\n",
        "# train['공휴일전후'][130] = 1\n",
        "train['공휴일전후'][152] = 1\n",
        "train['공휴일전후'][226] = 1\n",
        "train['공휴일전후'][221] = 1\n",
        "train['공휴일전후'][224] = 1\n",
        "# train['공휴일전후'][244] = 1\n",
        "train['공휴일전후'][245] = 1\n",
        "# train['공휴일전후'][267] = 1\n",
        "train['공휴일전후'][310] = 1\n",
        "train['공휴일전후'][311] = 1\n",
        "train['공휴일전후'][309] = 1\n",
        "train['공휴일전후'][330] = 1\n",
        "train['공휴일전후'][379] = 1\n",
        "train['공휴일전후'][467] = 1\n",
        "# train['공휴일전후'][469] = 1\n",
        "train['공휴일전후'][470] = 1\n",
        "train['공휴일전후'][502] = 1\n",
        "# train['공휴일전후'][501] = 1\n",
        "# train['공휴일전후'][511] = 1\n",
        "train['공휴일전후'][565] = 1\n",
        "train['공휴일전후'][623] = 1\n",
        "train['공휴일전후'][651] = 1\n",
        "# train['공휴일전후'][650] = 1\n",
        "train['공휴일전후'][705] = 1\n",
        "# train['공휴일전후'][707] = 1\n",
        "train['공휴일전후'][709] = 1\n",
        "# train['공휴일전후'][733] = 1\n",
        "# train['공휴일전후'][748] = 1\n",
        "# train['공휴일전후'][792] = 1\n",
        "train['공휴일전후'][815] = 1\n",
        "train['공휴일전후'][864] = 1\n",
        "# train['공휴일전후'][863] = 1\n",
        "train['공휴일전후'][950] = 1\n",
        "train['공휴일전후'][951] = 1\n",
        "train['공휴일전후'][953] = 1\n",
        "train['공휴일전후'][954] = 1\n",
        "train['공휴일전후'][955] = 1\n",
        "train['공휴일전후'][971] = 1\n",
        "# train['공휴일전후'][970] = 1\n",
        "# train['공휴일전후'][1037] = 1\n",
        "train['공휴일전후'][1038] = 1\n",
        "train['공휴일전후'][1099] = 1\n",
        "train['공휴일전후'][1129] = 1\n",
        "# train['공휴일전후'][1128] = 1\n",
        "train['공휴일전후'][1187] = 1\n",
        "# train['공휴일전후'][1186] = 1"
      ],
      "metadata": {
        "id": "LUwXNU7rnteh"
      },
      "execution_count": null,
      "outputs": []
    },
    {
      "cell_type": "markdown",
      "source": [
        "계절 변수 생성"
      ],
      "metadata": {
        "id": "1y6nv0MGOjmH"
      }
    },
    {
      "cell_type": "code",
      "source": [
        "#추가) 계절\n",
        "def transform_season(x) :\n",
        "    if 3<=x<=5 :\n",
        "        return '봄'\n",
        "    elif 6<=x<=8:\n",
        "        return '여름'\n",
        "    elif 9<=x<=11 :\n",
        "        return '가을'\n",
        "    else :\n",
        "        return '겨울'\n",
        "\n",
        "train['월_계절']=train['월'].apply(transform_season)"
      ],
      "metadata": {
        "id": "EZW1HYCv10v5"
      },
      "execution_count": null,
      "outputs": []
    },
    {
      "cell_type": "markdown",
      "source": [
        "날씨 데이터 가져오기"
      ],
      "metadata": {
        "id": "7GR6vpCJOlM3"
      }
    },
    {
      "cell_type": "code",
      "source": [
        "#불러오기\n",
        "weather=pd.read_table('/content/drive/MyDrive/YB_2조/23년 1월 프로젝트/weather.csv', sep=',',encoding='cp949')"
      ],
      "metadata": {
        "id": "-znrrjQENMjl"
      },
      "execution_count": null,
      "outputs": []
    },
    {
      "cell_type": "code",
      "source": [
        "#필요없는 두 칼럼 삭제\n",
        "weather = weather.iloc[:,2:]"
      ],
      "metadata": {
        "id": "TOGqbHEkOrry"
      },
      "execution_count": null,
      "outputs": []
    },
    {
      "cell_type": "code",
      "source": [
        "#nan 0으로 채우기\n",
        "weather = weather.fillna(0)"
      ],
      "metadata": {
        "id": "G0WOR4WLOsSJ"
      },
      "execution_count": null,
      "outputs": []
    },
    {
      "cell_type": "code",
      "source": [
        "weather['일시']=pd.to_datetime(weather['일시'])\n",
        "weather['년']=weather['일시'].dt.year\n",
        "weather['월']=weather['일시'].dt.month\n",
        "weather['일']=weather['일시'].dt.day"
      ],
      "metadata": {
        "id": "MmytirkOOpFw"
      },
      "execution_count": null,
      "outputs": []
    },
    {
      "cell_type": "code",
      "source": [
        "#merge함수를 씀, 년월일기준으로 일치한 것끼리 데이터프레임병합\n",
        "train=pd.merge(train,weather,how= 'left', on=['년','월','일'])\n",
        "\n",
        "#weather에 있던 일시 중복되므로 삭제\n",
        "train.drop('일시',axis=1,inplace=True)"
      ],
      "metadata": {
        "id": "zslVOQPHOqfW"
      },
      "execution_count": null,
      "outputs": []
    },
    {
      "cell_type": "code",
      "source": [
        "train"
      ],
      "metadata": {
        "colab": {
          "base_uri": "https://localhost:8080/"
        },
        "id": "SGXyin7dPc4u",
        "outputId": "bf9d9b67-40f0-4000-cd08-ad85623786ea"
      },
      "execution_count": null,
      "outputs": [
        {
          "output_type": "execute_result",
          "data": {
            "text/plain": [
              "             일자 요일    정원   휴가   출장   야근     재택  \\\n",
              "0    2016-02-01  월  2601   50  150  238    0.0   \n",
              "1    2016-02-02  화  2601   50  173  319    0.0   \n",
              "2    2016-02-03  수  2601   56  180  111    0.0   \n",
              "3    2016-02-04  목  2601  104  220  355    0.0   \n",
              "4    2016-02-05  금  2601  278  181   34    0.0   \n",
              "...         ... ..   ...  ...  ...  ...    ...   \n",
              "1200 2021-01-20  수  2983   75  198    4  391.0   \n",
              "1201 2021-01-21  목  2983   92  231  462  351.0   \n",
              "1202 2021-01-22  금  2983  255  248    1  303.0   \n",
              "1203 2021-01-25  월  2983  107  153  616  327.0   \n",
              "1204 2021-01-26  화  2983   69  183  551  362.0   \n",
              "\n",
              "                                                   조식메뉴  \\\n",
              "0     모닝롤/찐빵  우유/두유/주스 계란후라이  호두죽/쌀밥 (쌀:국내산) 된장찌개  쥐...   \n",
              "1     모닝롤/단호박샌드  우유/두유/주스 계란후라이  팥죽/쌀밥 (쌀:국내산) 호박젓국찌...   \n",
              "2     모닝롤/베이글  우유/두유/주스 계란후라이  표고버섯죽/쌀밥 (쌀:국내산) 콩나물국...   \n",
              "3     모닝롤/토마토샌드  우유/두유/주스 계란후라이  닭죽/쌀밥 (쌀,닭:국내산) 근대국...   \n",
              "4     모닝롤/와플  우유/두유/주스 계란후라이  쇠고기죽/쌀밥 (쌀:국내산) 재첩국  방...   \n",
              "...                                                 ...   \n",
              "1200  모닝롤/페퍼로니피자 우유/주스 계란후라이/찐계란 크루통크림스프/흑미밥 아귀지리 마늘...   \n",
              "1201  모닝롤/생크림단팥빵 우유/주스 계란후라이/찐계란 누룽지탕/흑미밥 떡국 해물땡굴소스볶...   \n",
              "1202  모닝롤/BLT샌드위치 우유/주스 계란후라이/찐계란 흑임자죽/흑미밥 바지락살국 두부조...   \n",
              "1203  모닝롤/호박고구마오븐구이 우유/주스 계란후라이/찐계란 누룽지탕/흑미밥 감자양파국 분...   \n",
              "1204  모닝롤/야채샌드 우유/주스 계란후라이/찐계란 참치죽/흑미밥 홍합탕 애호박새우젓볶음 ...   \n",
              "\n",
              "                                                   중식메뉴  \\\n",
              "0     쌀밥/잡곡밥 (쌀,현미흑미:국내산) 오징어찌개  쇠불고기 (쇠고기:호주산) 계란찜 ...   \n",
              "1     쌀밥/잡곡밥 (쌀,현미흑미:국내산) 김치찌개  가자미튀김  모둠소세지구이  마늘쫑무...   \n",
              "2     카레덮밥 (쌀,현미흑미:국내산) 팽이장국  치킨핑거 (닭고기:국내산) 쫄면야채무침 ...   \n",
              "3     쌀밥/잡곡밥 (쌀,현미흑미:국내산) 쇠고기무국  주꾸미볶음  부추전  시금치나물  ...   \n",
              "4     쌀밥/잡곡밥 (쌀,현미흑미:국내산) 떡국  돈육씨앗강정 (돼지고기:국내산) 우엉잡채...   \n",
              "...                                                 ...   \n",
              "1200  쌀밥/흑미밥/찰현미밥 아욱국 수제함박스테이크 견과류마카로니범벅 생깻잎지 단호박물김치...   \n",
              "1201  쌀밥/수수밥/찰현미밥 냉이된장국 동파육 봄동전 청경채/버섯숙회*초장 무생채 양상추샐...   \n",
              "1202  전주비빔밥*약고추장 계란파국 요거닭 올방개묵무침 파프리카해초무침 포기김치 양상추샐러...   \n",
              "1203  쌀밥/흑미밥/찰현미밥 전주식콩나물해장국 돈육간장불고기 깐풍연근 연두부*달래양념장 봄...   \n",
              "1204  쌀밥/귀리밥/찰현미밥 들깨미역국 교촌간장치킨 옥수수콘치즈구이 가지고추장무침 포기김치...   \n",
              "\n",
              "                                                   석식메뉴  ...  월   일  식사가능인원수  \\\n",
              "0     쌀밥/잡곡밥 (쌀,현미흑미:국내산) 육개장  자반고등어구이  두부조림  건파래무침 ...  ...  2   1   2401.0   \n",
              "1     콩나물밥*양념장 (쌀,현미흑미:국내산) 어묵국  유산슬 (쇠고기:호주산) 아삭고추무...  ...  2   2   2378.0   \n",
              "2     쌀밥/잡곡밥 (쌀,현미흑미:국내산) 청국장찌개  황태양념구이 (황태:러시아산) 고기...  ...  2   3   2365.0   \n",
              "3     미니김밥*겨자장 (쌀,현미흑미:국내산) 우동  멕시칸샐러드  군고구마  무피클  포...  ...  2   4   2277.0   \n",
              "4     쌀밥/잡곡밥 (쌀,현미흑미:국내산) 차돌박이찌개 (쇠고기:호주산) 닭갈비 (닭고기:...  ...  2   5   2142.0   \n",
              "...                                                 ...  ... ..  ..      ...   \n",
              "1200     김치볶음밥 미니쫄우동*맛살튀김 브로콜리깨소스무침 계란후라이 고들빼기무침 겉절이김치   ...  1  20   2319.0   \n",
              "1201            흑미밥 쇠고기무국 삼치양념구이 비엔나채소볶음 숙주나물당근무침 포기김치   ...  1  21   2309.0   \n",
              "1202        흑미밥 수제비국 수제맛쵸킹탕수육 유부채소겨자냉채 참나물무침 갓김치/겉절이김치   ...  1  22   2177.0   \n",
              "1203            흑미밥 열무된장국 장어강정*데리야끼소스 깻잎쌈*생강채 오이선 포기김치   ...  1  25   2396.0   \n",
              "1204         (New)할라피뇨멸치주먹밥 잔치국수 수제고기육전 쑥갓나물 양파초절임 깍두기   ...  1  26   2369.0   \n",
              "\n",
              "      공휴일전후  월_계절  평균기온(°C)  최저기온(°C) 최고기온(°C)  일강수량(mm)  평균 상대습도(%)  \n",
              "0         0    겨울      -0.6      -4.1      5.0       0.0        43.9  \n",
              "1         0    겨울      -2.3      -9.1      6.2       0.0        47.5  \n",
              "2         0    겨울      -1.7      -9.3      7.7       0.0        57.1  \n",
              "3         1    겨울      -0.2      -7.7      7.7       0.0        53.4  \n",
              "4         0    겨울       1.3      -6.5      9.6       0.0        44.4  \n",
              "...     ...   ...       ...       ...      ...       ...         ...  \n",
              "1200      0    겨울      -0.4      -9.7     10.6       0.0        64.0  \n",
              "1201      0    겨울       5.2      -2.6     12.6       1.7        77.8  \n",
              "1202      0    겨울       7.0       5.1      9.8       1.2        97.5  \n",
              "1203      0    겨울       6.3      -1.2     14.3       0.0        75.8  \n",
              "1204      0    겨울       4.7       1.5      7.4      10.3        94.5  \n",
              "\n",
              "[1205 rows x 23 columns]"
            ],
            "text/html": [
              "\n",
              "  <div id=\"df-7f1f44ee-1259-440d-93c7-f33c6b32171e\">\n",
              "    <div class=\"colab-df-container\">\n",
              "      <div>\n",
              "<style scoped>\n",
              "    .dataframe tbody tr th:only-of-type {\n",
              "        vertical-align: middle;\n",
              "    }\n",
              "\n",
              "    .dataframe tbody tr th {\n",
              "        vertical-align: top;\n",
              "    }\n",
              "\n",
              "    .dataframe thead th {\n",
              "        text-align: right;\n",
              "    }\n",
              "</style>\n",
              "<table border=\"1\" class=\"dataframe\">\n",
              "  <thead>\n",
              "    <tr style=\"text-align: right;\">\n",
              "      <th></th>\n",
              "      <th>일자</th>\n",
              "      <th>요일</th>\n",
              "      <th>정원</th>\n",
              "      <th>휴가</th>\n",
              "      <th>출장</th>\n",
              "      <th>야근</th>\n",
              "      <th>재택</th>\n",
              "      <th>조식메뉴</th>\n",
              "      <th>중식메뉴</th>\n",
              "      <th>석식메뉴</th>\n",
              "      <th>...</th>\n",
              "      <th>월</th>\n",
              "      <th>일</th>\n",
              "      <th>식사가능인원수</th>\n",
              "      <th>공휴일전후</th>\n",
              "      <th>월_계절</th>\n",
              "      <th>평균기온(°C)</th>\n",
              "      <th>최저기온(°C)</th>\n",
              "      <th>최고기온(°C)</th>\n",
              "      <th>일강수량(mm)</th>\n",
              "      <th>평균 상대습도(%)</th>\n",
              "    </tr>\n",
              "  </thead>\n",
              "  <tbody>\n",
              "    <tr>\n",
              "      <th>0</th>\n",
              "      <td>2016-02-01</td>\n",
              "      <td>월</td>\n",
              "      <td>2601</td>\n",
              "      <td>50</td>\n",
              "      <td>150</td>\n",
              "      <td>238</td>\n",
              "      <td>0.0</td>\n",
              "      <td>모닝롤/찐빵  우유/두유/주스 계란후라이  호두죽/쌀밥 (쌀:국내산) 된장찌개  쥐...</td>\n",
              "      <td>쌀밥/잡곡밥 (쌀,현미흑미:국내산) 오징어찌개  쇠불고기 (쇠고기:호주산) 계란찜 ...</td>\n",
              "      <td>쌀밥/잡곡밥 (쌀,현미흑미:국내산) 육개장  자반고등어구이  두부조림  건파래무침 ...</td>\n",
              "      <td>...</td>\n",
              "      <td>2</td>\n",
              "      <td>1</td>\n",
              "      <td>2401.0</td>\n",
              "      <td>0</td>\n",
              "      <td>겨울</td>\n",
              "      <td>-0.6</td>\n",
              "      <td>-4.1</td>\n",
              "      <td>5.0</td>\n",
              "      <td>0.0</td>\n",
              "      <td>43.9</td>\n",
              "    </tr>\n",
              "    <tr>\n",
              "      <th>1</th>\n",
              "      <td>2016-02-02</td>\n",
              "      <td>화</td>\n",
              "      <td>2601</td>\n",
              "      <td>50</td>\n",
              "      <td>173</td>\n",
              "      <td>319</td>\n",
              "      <td>0.0</td>\n",
              "      <td>모닝롤/단호박샌드  우유/두유/주스 계란후라이  팥죽/쌀밥 (쌀:국내산) 호박젓국찌...</td>\n",
              "      <td>쌀밥/잡곡밥 (쌀,현미흑미:국내산) 김치찌개  가자미튀김  모둠소세지구이  마늘쫑무...</td>\n",
              "      <td>콩나물밥*양념장 (쌀,현미흑미:국내산) 어묵국  유산슬 (쇠고기:호주산) 아삭고추무...</td>\n",
              "      <td>...</td>\n",
              "      <td>2</td>\n",
              "      <td>2</td>\n",
              "      <td>2378.0</td>\n",
              "      <td>0</td>\n",
              "      <td>겨울</td>\n",
              "      <td>-2.3</td>\n",
              "      <td>-9.1</td>\n",
              "      <td>6.2</td>\n",
              "      <td>0.0</td>\n",
              "      <td>47.5</td>\n",
              "    </tr>\n",
              "    <tr>\n",
              "      <th>2</th>\n",
              "      <td>2016-02-03</td>\n",
              "      <td>수</td>\n",
              "      <td>2601</td>\n",
              "      <td>56</td>\n",
              "      <td>180</td>\n",
              "      <td>111</td>\n",
              "      <td>0.0</td>\n",
              "      <td>모닝롤/베이글  우유/두유/주스 계란후라이  표고버섯죽/쌀밥 (쌀:국내산) 콩나물국...</td>\n",
              "      <td>카레덮밥 (쌀,현미흑미:국내산) 팽이장국  치킨핑거 (닭고기:국내산) 쫄면야채무침 ...</td>\n",
              "      <td>쌀밥/잡곡밥 (쌀,현미흑미:국내산) 청국장찌개  황태양념구이 (황태:러시아산) 고기...</td>\n",
              "      <td>...</td>\n",
              "      <td>2</td>\n",
              "      <td>3</td>\n",
              "      <td>2365.0</td>\n",
              "      <td>0</td>\n",
              "      <td>겨울</td>\n",
              "      <td>-1.7</td>\n",
              "      <td>-9.3</td>\n",
              "      <td>7.7</td>\n",
              "      <td>0.0</td>\n",
              "      <td>57.1</td>\n",
              "    </tr>\n",
              "    <tr>\n",
              "      <th>3</th>\n",
              "      <td>2016-02-04</td>\n",
              "      <td>목</td>\n",
              "      <td>2601</td>\n",
              "      <td>104</td>\n",
              "      <td>220</td>\n",
              "      <td>355</td>\n",
              "      <td>0.0</td>\n",
              "      <td>모닝롤/토마토샌드  우유/두유/주스 계란후라이  닭죽/쌀밥 (쌀,닭:국내산) 근대국...</td>\n",
              "      <td>쌀밥/잡곡밥 (쌀,현미흑미:국내산) 쇠고기무국  주꾸미볶음  부추전  시금치나물  ...</td>\n",
              "      <td>미니김밥*겨자장 (쌀,현미흑미:국내산) 우동  멕시칸샐러드  군고구마  무피클  포...</td>\n",
              "      <td>...</td>\n",
              "      <td>2</td>\n",
              "      <td>4</td>\n",
              "      <td>2277.0</td>\n",
              "      <td>1</td>\n",
              "      <td>겨울</td>\n",
              "      <td>-0.2</td>\n",
              "      <td>-7.7</td>\n",
              "      <td>7.7</td>\n",
              "      <td>0.0</td>\n",
              "      <td>53.4</td>\n",
              "    </tr>\n",
              "    <tr>\n",
              "      <th>4</th>\n",
              "      <td>2016-02-05</td>\n",
              "      <td>금</td>\n",
              "      <td>2601</td>\n",
              "      <td>278</td>\n",
              "      <td>181</td>\n",
              "      <td>34</td>\n",
              "      <td>0.0</td>\n",
              "      <td>모닝롤/와플  우유/두유/주스 계란후라이  쇠고기죽/쌀밥 (쌀:국내산) 재첩국  방...</td>\n",
              "      <td>쌀밥/잡곡밥 (쌀,현미흑미:국내산) 떡국  돈육씨앗강정 (돼지고기:국내산) 우엉잡채...</td>\n",
              "      <td>쌀밥/잡곡밥 (쌀,현미흑미:국내산) 차돌박이찌개 (쇠고기:호주산) 닭갈비 (닭고기:...</td>\n",
              "      <td>...</td>\n",
              "      <td>2</td>\n",
              "      <td>5</td>\n",
              "      <td>2142.0</td>\n",
              "      <td>0</td>\n",
              "      <td>겨울</td>\n",
              "      <td>1.3</td>\n",
              "      <td>-6.5</td>\n",
              "      <td>9.6</td>\n",
              "      <td>0.0</td>\n",
              "      <td>44.4</td>\n",
              "    </tr>\n",
              "    <tr>\n",
              "      <th>...</th>\n",
              "      <td>...</td>\n",
              "      <td>...</td>\n",
              "      <td>...</td>\n",
              "      <td>...</td>\n",
              "      <td>...</td>\n",
              "      <td>...</td>\n",
              "      <td>...</td>\n",
              "      <td>...</td>\n",
              "      <td>...</td>\n",
              "      <td>...</td>\n",
              "      <td>...</td>\n",
              "      <td>...</td>\n",
              "      <td>...</td>\n",
              "      <td>...</td>\n",
              "      <td>...</td>\n",
              "      <td>...</td>\n",
              "      <td>...</td>\n",
              "      <td>...</td>\n",
              "      <td>...</td>\n",
              "      <td>...</td>\n",
              "      <td>...</td>\n",
              "    </tr>\n",
              "    <tr>\n",
              "      <th>1200</th>\n",
              "      <td>2021-01-20</td>\n",
              "      <td>수</td>\n",
              "      <td>2983</td>\n",
              "      <td>75</td>\n",
              "      <td>198</td>\n",
              "      <td>4</td>\n",
              "      <td>391.0</td>\n",
              "      <td>모닝롤/페퍼로니피자 우유/주스 계란후라이/찐계란 크루통크림스프/흑미밥 아귀지리 마늘...</td>\n",
              "      <td>쌀밥/흑미밥/찰현미밥 아욱국 수제함박스테이크 견과류마카로니범벅 생깻잎지 단호박물김치...</td>\n",
              "      <td>김치볶음밥 미니쫄우동*맛살튀김 브로콜리깨소스무침 계란후라이 고들빼기무침 겉절이김치</td>\n",
              "      <td>...</td>\n",
              "      <td>1</td>\n",
              "      <td>20</td>\n",
              "      <td>2319.0</td>\n",
              "      <td>0</td>\n",
              "      <td>겨울</td>\n",
              "      <td>-0.4</td>\n",
              "      <td>-9.7</td>\n",
              "      <td>10.6</td>\n",
              "      <td>0.0</td>\n",
              "      <td>64.0</td>\n",
              "    </tr>\n",
              "    <tr>\n",
              "      <th>1201</th>\n",
              "      <td>2021-01-21</td>\n",
              "      <td>목</td>\n",
              "      <td>2983</td>\n",
              "      <td>92</td>\n",
              "      <td>231</td>\n",
              "      <td>462</td>\n",
              "      <td>351.0</td>\n",
              "      <td>모닝롤/생크림단팥빵 우유/주스 계란후라이/찐계란 누룽지탕/흑미밥 떡국 해물땡굴소스볶...</td>\n",
              "      <td>쌀밥/수수밥/찰현미밥 냉이된장국 동파육 봄동전 청경채/버섯숙회*초장 무생채 양상추샐...</td>\n",
              "      <td>흑미밥 쇠고기무국 삼치양념구이 비엔나채소볶음 숙주나물당근무침 포기김치</td>\n",
              "      <td>...</td>\n",
              "      <td>1</td>\n",
              "      <td>21</td>\n",
              "      <td>2309.0</td>\n",
              "      <td>0</td>\n",
              "      <td>겨울</td>\n",
              "      <td>5.2</td>\n",
              "      <td>-2.6</td>\n",
              "      <td>12.6</td>\n",
              "      <td>1.7</td>\n",
              "      <td>77.8</td>\n",
              "    </tr>\n",
              "    <tr>\n",
              "      <th>1202</th>\n",
              "      <td>2021-01-22</td>\n",
              "      <td>금</td>\n",
              "      <td>2983</td>\n",
              "      <td>255</td>\n",
              "      <td>248</td>\n",
              "      <td>1</td>\n",
              "      <td>303.0</td>\n",
              "      <td>모닝롤/BLT샌드위치 우유/주스 계란후라이/찐계란 흑임자죽/흑미밥 바지락살국 두부조...</td>\n",
              "      <td>전주비빔밥*약고추장 계란파국 요거닭 올방개묵무침 파프리카해초무침 포기김치 양상추샐러...</td>\n",
              "      <td>흑미밥 수제비국 수제맛쵸킹탕수육 유부채소겨자냉채 참나물무침 갓김치/겉절이김치</td>\n",
              "      <td>...</td>\n",
              "      <td>1</td>\n",
              "      <td>22</td>\n",
              "      <td>2177.0</td>\n",
              "      <td>0</td>\n",
              "      <td>겨울</td>\n",
              "      <td>7.0</td>\n",
              "      <td>5.1</td>\n",
              "      <td>9.8</td>\n",
              "      <td>1.2</td>\n",
              "      <td>97.5</td>\n",
              "    </tr>\n",
              "    <tr>\n",
              "      <th>1203</th>\n",
              "      <td>2021-01-25</td>\n",
              "      <td>월</td>\n",
              "      <td>2983</td>\n",
              "      <td>107</td>\n",
              "      <td>153</td>\n",
              "      <td>616</td>\n",
              "      <td>327.0</td>\n",
              "      <td>모닝롤/호박고구마오븐구이 우유/주스 계란후라이/찐계란 누룽지탕/흑미밥 감자양파국 분...</td>\n",
              "      <td>쌀밥/흑미밥/찰현미밥 전주식콩나물해장국 돈육간장불고기 깐풍연근 연두부*달래양념장 봄...</td>\n",
              "      <td>흑미밥 열무된장국 장어강정*데리야끼소스 깻잎쌈*생강채 오이선 포기김치</td>\n",
              "      <td>...</td>\n",
              "      <td>1</td>\n",
              "      <td>25</td>\n",
              "      <td>2396.0</td>\n",
              "      <td>0</td>\n",
              "      <td>겨울</td>\n",
              "      <td>6.3</td>\n",
              "      <td>-1.2</td>\n",
              "      <td>14.3</td>\n",
              "      <td>0.0</td>\n",
              "      <td>75.8</td>\n",
              "    </tr>\n",
              "    <tr>\n",
              "      <th>1204</th>\n",
              "      <td>2021-01-26</td>\n",
              "      <td>화</td>\n",
              "      <td>2983</td>\n",
              "      <td>69</td>\n",
              "      <td>183</td>\n",
              "      <td>551</td>\n",
              "      <td>362.0</td>\n",
              "      <td>모닝롤/야채샌드 우유/주스 계란후라이/찐계란 참치죽/흑미밥 홍합탕 애호박새우젓볶음 ...</td>\n",
              "      <td>쌀밥/귀리밥/찰현미밥 들깨미역국 교촌간장치킨 옥수수콘치즈구이 가지고추장무침 포기김치...</td>\n",
              "      <td>(New)할라피뇨멸치주먹밥 잔치국수 수제고기육전 쑥갓나물 양파초절임 깍두기</td>\n",
              "      <td>...</td>\n",
              "      <td>1</td>\n",
              "      <td>26</td>\n",
              "      <td>2369.0</td>\n",
              "      <td>0</td>\n",
              "      <td>겨울</td>\n",
              "      <td>4.7</td>\n",
              "      <td>1.5</td>\n",
              "      <td>7.4</td>\n",
              "      <td>10.3</td>\n",
              "      <td>94.5</td>\n",
              "    </tr>\n",
              "  </tbody>\n",
              "</table>\n",
              "<p>1205 rows × 23 columns</p>\n",
              "</div>\n",
              "      <button class=\"colab-df-convert\" onclick=\"convertToInteractive('df-7f1f44ee-1259-440d-93c7-f33c6b32171e')\"\n",
              "              title=\"Convert this dataframe to an interactive table.\"\n",
              "              style=\"display:none;\">\n",
              "        \n",
              "  <svg xmlns=\"http://www.w3.org/2000/svg\" height=\"24px\"viewBox=\"0 0 24 24\"\n",
              "       width=\"24px\">\n",
              "    <path d=\"M0 0h24v24H0V0z\" fill=\"none\"/>\n",
              "    <path d=\"M18.56 5.44l.94 2.06.94-2.06 2.06-.94-2.06-.94-.94-2.06-.94 2.06-2.06.94zm-11 1L8.5 8.5l.94-2.06 2.06-.94-2.06-.94L8.5 2.5l-.94 2.06-2.06.94zm10 10l.94 2.06.94-2.06 2.06-.94-2.06-.94-.94-2.06-.94 2.06-2.06.94z\"/><path d=\"M17.41 7.96l-1.37-1.37c-.4-.4-.92-.59-1.43-.59-.52 0-1.04.2-1.43.59L10.3 9.45l-7.72 7.72c-.78.78-.78 2.05 0 2.83L4 21.41c.39.39.9.59 1.41.59.51 0 1.02-.2 1.41-.59l7.78-7.78 2.81-2.81c.8-.78.8-2.07 0-2.86zM5.41 20L4 18.59l7.72-7.72 1.47 1.35L5.41 20z\"/>\n",
              "  </svg>\n",
              "      </button>\n",
              "      \n",
              "  <style>\n",
              "    .colab-df-container {\n",
              "      display:flex;\n",
              "      flex-wrap:wrap;\n",
              "      gap: 12px;\n",
              "    }\n",
              "\n",
              "    .colab-df-convert {\n",
              "      background-color: #E8F0FE;\n",
              "      border: none;\n",
              "      border-radius: 50%;\n",
              "      cursor: pointer;\n",
              "      display: none;\n",
              "      fill: #1967D2;\n",
              "      height: 32px;\n",
              "      padding: 0 0 0 0;\n",
              "      width: 32px;\n",
              "    }\n",
              "\n",
              "    .colab-df-convert:hover {\n",
              "      background-color: #E2EBFA;\n",
              "      box-shadow: 0px 1px 2px rgba(60, 64, 67, 0.3), 0px 1px 3px 1px rgba(60, 64, 67, 0.15);\n",
              "      fill: #174EA6;\n",
              "    }\n",
              "\n",
              "    [theme=dark] .colab-df-convert {\n",
              "      background-color: #3B4455;\n",
              "      fill: #D2E3FC;\n",
              "    }\n",
              "\n",
              "    [theme=dark] .colab-df-convert:hover {\n",
              "      background-color: #434B5C;\n",
              "      box-shadow: 0px 1px 3px 1px rgba(0, 0, 0, 0.15);\n",
              "      filter: drop-shadow(0px 1px 2px rgba(0, 0, 0, 0.3));\n",
              "      fill: #FFFFFF;\n",
              "    }\n",
              "  </style>\n",
              "\n",
              "      <script>\n",
              "        const buttonEl =\n",
              "          document.querySelector('#df-7f1f44ee-1259-440d-93c7-f33c6b32171e button.colab-df-convert');\n",
              "        buttonEl.style.display =\n",
              "          google.colab.kernel.accessAllowed ? 'block' : 'none';\n",
              "\n",
              "        async function convertToInteractive(key) {\n",
              "          const element = document.querySelector('#df-7f1f44ee-1259-440d-93c7-f33c6b32171e');\n",
              "          const dataTable =\n",
              "            await google.colab.kernel.invokeFunction('convertToInteractive',\n",
              "                                                     [key], {});\n",
              "          if (!dataTable) return;\n",
              "\n",
              "          const docLinkHtml = 'Like what you see? Visit the ' +\n",
              "            '<a target=\"_blank\" href=https://colab.research.google.com/notebooks/data_table.ipynb>data table notebook</a>'\n",
              "            + ' to learn more about interactive tables.';\n",
              "          element.innerHTML = '';\n",
              "          dataTable['output_type'] = 'display_data';\n",
              "          await google.colab.output.renderOutput(dataTable, element);\n",
              "          const docLink = document.createElement('div');\n",
              "          docLink.innerHTML = docLinkHtml;\n",
              "          element.appendChild(docLink);\n",
              "        }\n",
              "      </script>\n",
              "    </div>\n",
              "  </div>\n",
              "  "
            ]
          },
          "metadata": {},
          "execution_count": 27
        }
      ]
    },
    {
      "cell_type": "markdown",
      "source": [
        "**3.중식계 메뉴명 전처리**\n",
        "\n",
        "\n",
        "\n",
        "'밥', '국', '반찬1', '반찬2', '반찬3', '후식', '김치', '기타' 순서로 나열\n",
        "\n",
        "모든 메뉴가 띄어쓰기로 구분되어 나열\n",
        "\n",
        "메뉴의 원산지가  선택적으로 괄호 안에 표기\n",
        "\n",
        "- 띄어쓰기 기준으로 메뉴 분리하기 \n",
        "- 한식 분류법을 이용해 메인메뉴를 분류\n",
        "- 밥 level 줄이기\n",
        "\n"
      ],
      "metadata": {
        "id": "BD2Bs7BfBJyV"
      }
    },
    {
      "cell_type": "markdown",
      "source": [
        "1) 띄어쓰기 기준으로 메뉴 분리하기"
      ],
      "metadata": {
        "id": "ULHzvuJ2rECI"
      }
    },
    {
      "cell_type": "markdown",
      "source": [
        "- 띄어쓰기를 기준으로 분리하여 리스트 형식으로 변경\n",
        "- 원산지 및 비어있는 값을 삭제"
      ],
      "metadata": {
        "id": "z6wsn-DvrMM3"
      }
    },
    {
      "cell_type": "code",
      "source": [
        "train.중식메뉴=train.중식메뉴.str.split(' ')"
      ],
      "metadata": {
        "id": "8_NTXW_jBKNv"
      },
      "execution_count": null,
      "outputs": []
    },
    {
      "cell_type": "code",
      "source": [
        "for j in range(1205):\n",
        "  menus= train.중식메뉴[j]\n",
        "  menu_add=train.중식메뉴[j]\n",
        "  index=[]\n",
        "  for menu in menus :\n",
        "    if (':' in menu) or (menu==''):\n",
        "      menu_add.remove(menu)\n",
        "  train.중식메뉴[j]=menu_add"
      ],
      "metadata": {
        "id": "qcbij6PgCC3G"
      },
      "execution_count": null,
      "outputs": []
    },
    {
      "cell_type": "markdown",
      "source": [
        "원산지 삭제를 위해 괄호 ‘( )’ 를 사용하면 위와 같은 표기로 되어 있는 메뉴가 함께 삭제 되므로 ‘ : ’기호가 포함된 경우를 삭제\n",
        "\n",
        "\n",
        "---\n"
      ],
      "metadata": {
        "id": "GLzfz5ULrP__"
      }
    },
    {
      "cell_type": "markdown",
      "source": [
        "\n",
        "중식메뉴 리스트에서 밥, 국, 반찬1을 분리하여 개별 변수로 저장\n",
        "\n",
        "- 중식과 석식을 구분하기 위해 'l_'을 변수명에 붙여줌\n",
        "- 대부분 반찬1이 메인 메뉴임을 확인할 수 있으므로 메인메뉴로 저장\n"
      ],
      "metadata": {
        "id": "8l35RCWfrVY4"
      }
    },
    {
      "cell_type": "code",
      "source": [
        "bob=[]\n",
        "for j in range(1205):\n",
        "  bob.append(train.중식메뉴[j][0])\n",
        "train['l_bob']=bob"
      ],
      "metadata": {
        "id": "yDTeiKDGCOU9"
      },
      "execution_count": null,
      "outputs": []
    },
    {
      "cell_type": "code",
      "source": [
        "gug=[]\n",
        "for j in range(1205):\n",
        "  gug.append(train.중식메뉴[j][1])\n",
        "train['l_gug']=gug"
      ],
      "metadata": {
        "id": "EpZCbPI4CPye"
      },
      "execution_count": null,
      "outputs": []
    },
    {
      "cell_type": "code",
      "source": [
        "ban_1=[]\n",
        "for j in range(1205):\n",
        "  ban_1.append(train.중식메뉴[j][2])\n",
        "train['l_main']=ban_1"
      ],
      "metadata": {
        "id": "aN4AjpRtCRYd"
      },
      "execution_count": null,
      "outputs": []
    },
    {
      "cell_type": "markdown",
      "source": [
        "2) 메뉴를 살펴본 결과, 반찬1이 메인메뉴라고 판단\n",
        "\n",
        "-> 메뉴명을 그대로 이용하기 보다는 한식 분류법을 이용해 메인메뉴를 분류\n",
        "\n",
        "- 중분류(조리 재료)\n",
        "\n",
        "**곡류, 두류, 난류, 묵류, 어패류, 육류, 채소류, 해조류, 떡류, 양념 및 장류, 김치류, 만두류, 면류, 과일류**\n",
        "\n",
        "(스프레드 시트를 이용하여 입력)\n",
        "\n",
        "- 이때 양념 및 장류, 과일류의 경우 \n",
        "거의 모든 데이터가 해당하거나 해당하지 않았기 때문에 해당 열은 삭제\n",
        "\n",
        "\n",
        "---\n",
        "\n",
        "- 중분류에 해당하는 경우 1, 그 밖의 데이터는 채우지 않았기 때문에 NaN이므로 0으로 대체\n"
      ],
      "metadata": {
        "id": "ph181eue-VxO"
      }
    },
    {
      "cell_type": "code",
      "source": [
        "train_l_main=pd.read_csv('/content/drive/MyDrive/YB_2조/23년 1월 프로젝트/lunch_main.csv')\n",
        "train_l_main = train_l_main.fillna(0)"
      ],
      "metadata": {
        "id": "DZdWQIF0BD53"
      },
      "execution_count": null,
      "outputs": []
    },
    {
      "cell_type": "markdown",
      "source": [
        "- 데이터에 포함되어 있는 메뉴명에 해당하는 열을 삭제\n",
        "- 0과 1로 이루어져 있으므로 int 변수로 형변환"
      ],
      "metadata": {
        "id": "7J_kn_bzsLYH"
      }
    },
    {
      "cell_type": "code",
      "source": [
        "train_l_main=train_l_main.iloc[:,1:]\n",
        "train_l_main=train_l_main.astype('int')"
      ],
      "metadata": {
        "id": "G1RSUFItEg-O"
      },
      "execution_count": null,
      "outputs": []
    },
    {
      "cell_type": "code",
      "source": [
        "train_l_main.head(5)"
      ],
      "metadata": {
        "colab": {
          "base_uri": "https://localhost:8080/"
        },
        "id": "ffFQAgDWERNO",
        "outputId": "3213f311-1dd2-4285-bca8-8d9a956d052f"
      },
      "execution_count": null,
      "outputs": [
        {
          "output_type": "execute_result",
          "data": {
            "text/plain": [
              "   곡류  두류  난류  묵류  어패류  육류  채소류  해조류  떡류  김치류  만두류  면류\n",
              "0   0   0   0   0    0   1    0    0   0    0    0   0\n",
              "1   0   0   0   0    1   0    0    0   0    0    0   0\n",
              "2   0   0   0   0    0   1    0    0   0    0    0   0\n",
              "3   0   0   0   0    1   0    0    0   0    0    0   0\n",
              "4   0   1   0   0    0   1    0    0   0    0    0   0"
            ],
            "text/html": [
              "\n",
              "  <div id=\"df-d873acbc-15dc-4c7c-a0f3-5b8569c2adaf\">\n",
              "    <div class=\"colab-df-container\">\n",
              "      <div>\n",
              "<style scoped>\n",
              "    .dataframe tbody tr th:only-of-type {\n",
              "        vertical-align: middle;\n",
              "    }\n",
              "\n",
              "    .dataframe tbody tr th {\n",
              "        vertical-align: top;\n",
              "    }\n",
              "\n",
              "    .dataframe thead th {\n",
              "        text-align: right;\n",
              "    }\n",
              "</style>\n",
              "<table border=\"1\" class=\"dataframe\">\n",
              "  <thead>\n",
              "    <tr style=\"text-align: right;\">\n",
              "      <th></th>\n",
              "      <th>곡류</th>\n",
              "      <th>두류</th>\n",
              "      <th>난류</th>\n",
              "      <th>묵류</th>\n",
              "      <th>어패류</th>\n",
              "      <th>육류</th>\n",
              "      <th>채소류</th>\n",
              "      <th>해조류</th>\n",
              "      <th>떡류</th>\n",
              "      <th>김치류</th>\n",
              "      <th>만두류</th>\n",
              "      <th>면류</th>\n",
              "    </tr>\n",
              "  </thead>\n",
              "  <tbody>\n",
              "    <tr>\n",
              "      <th>0</th>\n",
              "      <td>0</td>\n",
              "      <td>0</td>\n",
              "      <td>0</td>\n",
              "      <td>0</td>\n",
              "      <td>0</td>\n",
              "      <td>1</td>\n",
              "      <td>0</td>\n",
              "      <td>0</td>\n",
              "      <td>0</td>\n",
              "      <td>0</td>\n",
              "      <td>0</td>\n",
              "      <td>0</td>\n",
              "    </tr>\n",
              "    <tr>\n",
              "      <th>1</th>\n",
              "      <td>0</td>\n",
              "      <td>0</td>\n",
              "      <td>0</td>\n",
              "      <td>0</td>\n",
              "      <td>1</td>\n",
              "      <td>0</td>\n",
              "      <td>0</td>\n",
              "      <td>0</td>\n",
              "      <td>0</td>\n",
              "      <td>0</td>\n",
              "      <td>0</td>\n",
              "      <td>0</td>\n",
              "    </tr>\n",
              "    <tr>\n",
              "      <th>2</th>\n",
              "      <td>0</td>\n",
              "      <td>0</td>\n",
              "      <td>0</td>\n",
              "      <td>0</td>\n",
              "      <td>0</td>\n",
              "      <td>1</td>\n",
              "      <td>0</td>\n",
              "      <td>0</td>\n",
              "      <td>0</td>\n",
              "      <td>0</td>\n",
              "      <td>0</td>\n",
              "      <td>0</td>\n",
              "    </tr>\n",
              "    <tr>\n",
              "      <th>3</th>\n",
              "      <td>0</td>\n",
              "      <td>0</td>\n",
              "      <td>0</td>\n",
              "      <td>0</td>\n",
              "      <td>1</td>\n",
              "      <td>0</td>\n",
              "      <td>0</td>\n",
              "      <td>0</td>\n",
              "      <td>0</td>\n",
              "      <td>0</td>\n",
              "      <td>0</td>\n",
              "      <td>0</td>\n",
              "    </tr>\n",
              "    <tr>\n",
              "      <th>4</th>\n",
              "      <td>0</td>\n",
              "      <td>1</td>\n",
              "      <td>0</td>\n",
              "      <td>0</td>\n",
              "      <td>0</td>\n",
              "      <td>1</td>\n",
              "      <td>0</td>\n",
              "      <td>0</td>\n",
              "      <td>0</td>\n",
              "      <td>0</td>\n",
              "      <td>0</td>\n",
              "      <td>0</td>\n",
              "    </tr>\n",
              "  </tbody>\n",
              "</table>\n",
              "</div>\n",
              "      <button class=\"colab-df-convert\" onclick=\"convertToInteractive('df-d873acbc-15dc-4c7c-a0f3-5b8569c2adaf')\"\n",
              "              title=\"Convert this dataframe to an interactive table.\"\n",
              "              style=\"display:none;\">\n",
              "        \n",
              "  <svg xmlns=\"http://www.w3.org/2000/svg\" height=\"24px\"viewBox=\"0 0 24 24\"\n",
              "       width=\"24px\">\n",
              "    <path d=\"M0 0h24v24H0V0z\" fill=\"none\"/>\n",
              "    <path d=\"M18.56 5.44l.94 2.06.94-2.06 2.06-.94-2.06-.94-.94-2.06-.94 2.06-2.06.94zm-11 1L8.5 8.5l.94-2.06 2.06-.94-2.06-.94L8.5 2.5l-.94 2.06-2.06.94zm10 10l.94 2.06.94-2.06 2.06-.94-2.06-.94-.94-2.06-.94 2.06-2.06.94z\"/><path d=\"M17.41 7.96l-1.37-1.37c-.4-.4-.92-.59-1.43-.59-.52 0-1.04.2-1.43.59L10.3 9.45l-7.72 7.72c-.78.78-.78 2.05 0 2.83L4 21.41c.39.39.9.59 1.41.59.51 0 1.02-.2 1.41-.59l7.78-7.78 2.81-2.81c.8-.78.8-2.07 0-2.86zM5.41 20L4 18.59l7.72-7.72 1.47 1.35L5.41 20z\"/>\n",
              "  </svg>\n",
              "      </button>\n",
              "      \n",
              "  <style>\n",
              "    .colab-df-container {\n",
              "      display:flex;\n",
              "      flex-wrap:wrap;\n",
              "      gap: 12px;\n",
              "    }\n",
              "\n",
              "    .colab-df-convert {\n",
              "      background-color: #E8F0FE;\n",
              "      border: none;\n",
              "      border-radius: 50%;\n",
              "      cursor: pointer;\n",
              "      display: none;\n",
              "      fill: #1967D2;\n",
              "      height: 32px;\n",
              "      padding: 0 0 0 0;\n",
              "      width: 32px;\n",
              "    }\n",
              "\n",
              "    .colab-df-convert:hover {\n",
              "      background-color: #E2EBFA;\n",
              "      box-shadow: 0px 1px 2px rgba(60, 64, 67, 0.3), 0px 1px 3px 1px rgba(60, 64, 67, 0.15);\n",
              "      fill: #174EA6;\n",
              "    }\n",
              "\n",
              "    [theme=dark] .colab-df-convert {\n",
              "      background-color: #3B4455;\n",
              "      fill: #D2E3FC;\n",
              "    }\n",
              "\n",
              "    [theme=dark] .colab-df-convert:hover {\n",
              "      background-color: #434B5C;\n",
              "      box-shadow: 0px 1px 3px 1px rgba(0, 0, 0, 0.15);\n",
              "      filter: drop-shadow(0px 1px 2px rgba(0, 0, 0, 0.3));\n",
              "      fill: #FFFFFF;\n",
              "    }\n",
              "  </style>\n",
              "\n",
              "      <script>\n",
              "        const buttonEl =\n",
              "          document.querySelector('#df-d873acbc-15dc-4c7c-a0f3-5b8569c2adaf button.colab-df-convert');\n",
              "        buttonEl.style.display =\n",
              "          google.colab.kernel.accessAllowed ? 'block' : 'none';\n",
              "\n",
              "        async function convertToInteractive(key) {\n",
              "          const element = document.querySelector('#df-d873acbc-15dc-4c7c-a0f3-5b8569c2adaf');\n",
              "          const dataTable =\n",
              "            await google.colab.kernel.invokeFunction('convertToInteractive',\n",
              "                                                     [key], {});\n",
              "          if (!dataTable) return;\n",
              "\n",
              "          const docLinkHtml = 'Like what you see? Visit the ' +\n",
              "            '<a target=\"_blank\" href=https://colab.research.google.com/notebooks/data_table.ipynb>data table notebook</a>'\n",
              "            + ' to learn more about interactive tables.';\n",
              "          element.innerHTML = '';\n",
              "          dataTable['output_type'] = 'display_data';\n",
              "          await google.colab.output.renderOutput(dataTable, element);\n",
              "          const docLink = document.createElement('div');\n",
              "          docLink.innerHTML = docLinkHtml;\n",
              "          element.appendChild(docLink);\n",
              "        }\n",
              "      </script>\n",
              "    </div>\n",
              "  </div>\n",
              "  "
            ]
          },
          "metadata": {},
          "execution_count": 35
        }
      ]
    },
    {
      "cell_type": "markdown",
      "source": [
        "\n",
        "3) 밥 level 줄이기\n",
        "\n",
        "- 밥 변수는 75개의 level로 이루어져 있어 라벨 인코딩을 진행할 경우 문제가 발생할 수 있음\n",
        "- 밥, 비빔밥, 카레짜장 등 8개로 변수의 level을 축소\n",
        "\n"
      ],
      "metadata": {
        "id": "Eh0paU5iBDXv"
      }
    },
    {
      "cell_type": "code",
      "source": [
        "for i in range(len(train.l_bob)):\n",
        "  bob=train.l_bob[i]\n",
        "  if ('쌀밥' in bob) or ('흑미밥' in bob) or ('오곡' in bob)or ('초복' in bob)or ('삼계탕' in bob):\n",
        "    train.l_bob[i]='밥'\n",
        "  elif ('비빔밥' in bob ):\n",
        "    train.l_bob[i]='비빔밥'\n",
        "  elif ('카레' in bob ) or ('짜장' in bob ):\n",
        "    train.l_bob[i]='카레짜장'\n",
        "  elif ('볶음밥' in bob ) or ('필라프' in bob ):\n",
        "    train.l_bob[i]='볶음밥'\n",
        "  elif ('덮밥' in bob ):\n",
        "    train.l_bob[i]='덮밥'\n",
        "  elif ('곤드레' in bob ) or ('콩나물' in bob ):\n",
        "    train.l_bob[i]='나물밥'\n",
        "  elif ('영양밥' in bob ):\n",
        "    train.l_bob[i]='영양밥'"
      ],
      "metadata": {
        "id": "u6-CMIQsEuam"
      },
      "execution_count": null,
      "outputs": []
    },
    {
      "cell_type": "code",
      "source": [
        "train.l_bob.value_counts()"
      ],
      "metadata": {
        "colab": {
          "base_uri": "https://localhost:8080/"
        },
        "id": "0t0SdhptBEIe",
        "outputId": "a78fa4f6-ca68-4af3-f4db-653c8506605d"
      },
      "execution_count": null,
      "outputs": [
        {
          "output_type": "execute_result",
          "data": {
            "text/plain": [
              "밥        1006\n",
              "나물밥        61\n",
              "비빔밥        54\n",
              "카레짜장       41\n",
              "덮밥         21\n",
              "영양밥        12\n",
              "볶음밥         9\n",
              "오므라이스       1\n",
              "Name: l_bob, dtype: int64"
            ]
          },
          "metadata": {},
          "execution_count": 37
        }
      ]
    },
    {
      "cell_type": "markdown",
      "source": [
        "**4. 최종 마무리**\n",
        "\n",
        "초복특식과 같은 경우 메뉴의 순서가 밀려있기 때문에 밥이 메뉴에 있음을 확인 후 분류\n"
      ],
      "metadata": {
        "id": "riluoQys-b9m"
      }
    },
    {
      "cell_type": "markdown",
      "source": [
        "# **데이터 전처리-석식**\n",
        "\n",
        "### **< train 데이터 >**\n",
        "\n",
        "\n",
        "**1.자기계발의 날 처리**\n",
        "\n",
        "석식계 0인 행을 지우기 위해 이에 해당하는 행의 index 찾아놓기\n"
      ],
      "metadata": {
        "id": "_46YBufhWZ45"
      }
    },
    {
      "cell_type": "code",
      "source": [
        "np.where(train.석식계==0)"
      ],
      "metadata": {
        "colab": {
          "base_uri": "https://localhost:8080/"
        },
        "id": "J8JmNjkkDWJG",
        "outputId": "5ec70358-93a3-47a4-ce74-2a29b367d6f5"
      },
      "execution_count": null,
      "outputs": [
        {
          "output_type": "execute_result",
          "data": {
            "text/plain": [
              "(array([ 204,  224,  244,  262,  281,  306,  327,  346,  366,  392,  410,\n",
              "         412,  424,  449,  468,  492,  502,  510,  529,  549,  571,  589,\n",
              "         609,  633,  648,  667,  687,  706,  730,  747,  766,  786,  809,\n",
              "         828,  853,  872,  890,  912,  932,  955,  973,  993, 1166]),)"
            ]
          },
          "metadata": {},
          "execution_count": 38
        }
      ]
    },
    {
      "cell_type": "markdown",
      "source": [
        "\n",
        "**2.column명 간단하게 바꾸기**\n",
        "\n",
        "본사정원수 - '정원'\n",
        "\n",
        "본사휴가자수 - '휴가'\n",
        "\n",
        "본사출장자수 - '출장'\n",
        "\n",
        "본사시간외근무명령서승인건수 - '야근'\n",
        "\n",
        "현본사소속재택근무자수 - '재택'\n",
        "\n",
        "<식수 가능 인원수 변수 생성>\n",
        "\n",
        "식수 가능 인원수 = 정원-휴가-출장-재택\n"
      ],
      "metadata": {
        "id": "edYSuBk_Ca1u"
      }
    },
    {
      "cell_type": "markdown",
      "source": [
        "**3.일자를 datetime 형식으로 바꾸기**\n",
        " \n",
        "'일자' column 없애고 year,month,day 칼럼 추가\n"
      ],
      "metadata": {
        "id": "zXE1-lylCc7-"
      }
    },
    {
      "cell_type": "markdown",
      "source": [
        "**4.메뉴명 전처리**\n",
        "(중식메뉴와 동일한 방법 사용)\n",
        "\n",
        "1) 띄어쓰기 기준으로 메뉴 분리하기\n",
        "- 띄어쓰기를 기준으로 분리하여 리스트 형식으로 변경\n",
        "- 원산지 및 비어있는 값을 삭제"
      ],
      "metadata": {
        "id": "Q9jNGJ_nCgJe"
      }
    },
    {
      "cell_type": "code",
      "source": [
        "train.석식메뉴=train.석식메뉴.str.split(' ')"
      ],
      "metadata": {
        "id": "uXf2irl6D1yl"
      },
      "execution_count": null,
      "outputs": []
    },
    {
      "cell_type": "code",
      "source": [
        "for j in range(1205):\n",
        "  menus= train.석식메뉴[j]\n",
        "  menu_add=train.석식메뉴[j]\n",
        "  for menu in menus :\n",
        "    if (':' in menu) or (menu==''):\n",
        "      menu_add.remove(menu)\n",
        "  train.석식메뉴[j]=menu_add"
      ],
      "metadata": {
        "id": "vx5ZGHzlD371"
      },
      "execution_count": null,
      "outputs": []
    },
    {
      "cell_type": "markdown",
      "source": [
        "원산지 삭제를 위해 괄호 ‘( )’ 를 사용하면 위와 같은 표기로 되어 있는 메뉴가 함께 삭제 되므로 ‘ : ’기호가 포함된 경우를 삭제\n",
        "\n",
        "\n",
        "---\n"
      ],
      "metadata": {
        "id": "wUF9iyngtIwu"
      }
    },
    {
      "cell_type": "markdown",
      "source": [
        "\n",
        "중식메뉴 리스트에서 밥, 국, 반찬1을 분리하여 개별 변수로 저장\n",
        "\n",
        "- 중식과 석식을 구분하기 위해 'd_'을 변수명에 붙여줌\n",
        "- 대부분 반찬1이 메인 메뉴임을 확인할 수 있으므로 메인메뉴로 저장\n"
      ],
      "metadata": {
        "id": "HzbDV36mtDRP"
      }
    },
    {
      "cell_type": "code",
      "source": [
        "bob=[]\n",
        "for j in range(1205):\n",
        "  bob.append(train.석식메뉴[j][0])\n",
        "train['d_bob']=bob"
      ],
      "metadata": {
        "id": "AX917ekUD954"
      },
      "execution_count": null,
      "outputs": []
    },
    {
      "cell_type": "code",
      "source": [
        "gug=[]\n",
        "for j in range(1205):\n",
        "  gug.append(train.석식메뉴[j][1])\n",
        "train['d_gug']=gug"
      ],
      "metadata": {
        "id": "wBglVTgKD-fm"
      },
      "execution_count": null,
      "outputs": []
    },
    {
      "cell_type": "code",
      "source": [
        "ban_1=[]\n",
        "for j in range(1205):\n",
        "  ban_1.append(train.석식메뉴[j][2])\n",
        "train['d_main']=ban_1"
      ],
      "metadata": {
        "id": "2n4JBwr9D_Se"
      },
      "execution_count": null,
      "outputs": []
    },
    {
      "cell_type": "markdown",
      "source": [
        "2) 메뉴를 살펴본 결과, 반찬1이 메인메뉴라고 판단\n",
        "\n",
        "-> 메뉴명을 그대로 이용하기 보다는 한식 분류법을 이용해 메인메뉴를 분류\n",
        "\n",
        "- 중분류(조리 재료)\n",
        "\n",
        "**곡류, 두류, 난류, 묵류, 어패류, 육류, 채소류, 해조류, 떡류, 양념 및 장류, 김치류, 만두류, 면류, 과일류**\n",
        "\n",
        "(스프레드 시트를 이용하여 입력)\n",
        "\n",
        "- 이때 양념 및 장류, 과일류의 경우 \n",
        "거의 모든 데이터가 해당하거나 해당하지 않았기 때문에 해당 열은 삭제\n",
        "\n",
        "\n",
        "---\n",
        "\n",
        "- 중분류에 해당하는 경우 1, 그 밖의 데이터는 채우지 않았기 때문에 NaN이므로 0으로 대체\n"
      ],
      "metadata": {
        "id": "ftEaBJa8DxJ-"
      }
    },
    {
      "cell_type": "code",
      "source": [
        "train_d_main=pd.read_csv('/content/drive/MyDrive/YB_2조/23년 1월 프로젝트/dinner_main.csv')\n",
        "train_d_main = train_d_main.fillna(0)"
      ],
      "metadata": {
        "id": "B18KoqpgEE4v"
      },
      "execution_count": null,
      "outputs": []
    },
    {
      "cell_type": "code",
      "source": [
        "train_d_main=train_d_main.iloc[:,1:]\n",
        "train_d_main=train_d_main.astype('int')"
      ],
      "metadata": {
        "id": "xsxY3RtzEpHG"
      },
      "execution_count": null,
      "outputs": []
    },
    {
      "cell_type": "code",
      "source": [
        "train_d_main.head(5)"
      ],
      "metadata": {
        "id": "k6GTC_7FEM6e",
        "colab": {
          "base_uri": "https://localhost:8080/"
        },
        "outputId": "2e4ed352-7756-4f46-b889-5c369e95232a"
      },
      "execution_count": null,
      "outputs": [
        {
          "output_type": "execute_result",
          "data": {
            "text/plain": [
              "   곡류  두류  난류  묵류  어패류  육류  채소류  해조류  떡류  김치류  만두류  면류\n",
              "0   0   0   0   0    1   0    0    0   0    0    0   0\n",
              "1   0   0   0   0    1   1    1    0   0    0    0   0\n",
              "2   0   0   0   0    1   0    0    0   0    0    0   0\n",
              "3   0   0   0   0    0   0    0    0   0    0    0   1\n",
              "4   0   0   0   0    0   1    0    0   0    0    0   0"
            ],
            "text/html": [
              "\n",
              "  <div id=\"df-f1f0513f-4107-4008-9590-248a5aa1fce8\">\n",
              "    <div class=\"colab-df-container\">\n",
              "      <div>\n",
              "<style scoped>\n",
              "    .dataframe tbody tr th:only-of-type {\n",
              "        vertical-align: middle;\n",
              "    }\n",
              "\n",
              "    .dataframe tbody tr th {\n",
              "        vertical-align: top;\n",
              "    }\n",
              "\n",
              "    .dataframe thead th {\n",
              "        text-align: right;\n",
              "    }\n",
              "</style>\n",
              "<table border=\"1\" class=\"dataframe\">\n",
              "  <thead>\n",
              "    <tr style=\"text-align: right;\">\n",
              "      <th></th>\n",
              "      <th>곡류</th>\n",
              "      <th>두류</th>\n",
              "      <th>난류</th>\n",
              "      <th>묵류</th>\n",
              "      <th>어패류</th>\n",
              "      <th>육류</th>\n",
              "      <th>채소류</th>\n",
              "      <th>해조류</th>\n",
              "      <th>떡류</th>\n",
              "      <th>김치류</th>\n",
              "      <th>만두류</th>\n",
              "      <th>면류</th>\n",
              "    </tr>\n",
              "  </thead>\n",
              "  <tbody>\n",
              "    <tr>\n",
              "      <th>0</th>\n",
              "      <td>0</td>\n",
              "      <td>0</td>\n",
              "      <td>0</td>\n",
              "      <td>0</td>\n",
              "      <td>1</td>\n",
              "      <td>0</td>\n",
              "      <td>0</td>\n",
              "      <td>0</td>\n",
              "      <td>0</td>\n",
              "      <td>0</td>\n",
              "      <td>0</td>\n",
              "      <td>0</td>\n",
              "    </tr>\n",
              "    <tr>\n",
              "      <th>1</th>\n",
              "      <td>0</td>\n",
              "      <td>0</td>\n",
              "      <td>0</td>\n",
              "      <td>0</td>\n",
              "      <td>1</td>\n",
              "      <td>1</td>\n",
              "      <td>1</td>\n",
              "      <td>0</td>\n",
              "      <td>0</td>\n",
              "      <td>0</td>\n",
              "      <td>0</td>\n",
              "      <td>0</td>\n",
              "    </tr>\n",
              "    <tr>\n",
              "      <th>2</th>\n",
              "      <td>0</td>\n",
              "      <td>0</td>\n",
              "      <td>0</td>\n",
              "      <td>0</td>\n",
              "      <td>1</td>\n",
              "      <td>0</td>\n",
              "      <td>0</td>\n",
              "      <td>0</td>\n",
              "      <td>0</td>\n",
              "      <td>0</td>\n",
              "      <td>0</td>\n",
              "      <td>0</td>\n",
              "    </tr>\n",
              "    <tr>\n",
              "      <th>3</th>\n",
              "      <td>0</td>\n",
              "      <td>0</td>\n",
              "      <td>0</td>\n",
              "      <td>0</td>\n",
              "      <td>0</td>\n",
              "      <td>0</td>\n",
              "      <td>0</td>\n",
              "      <td>0</td>\n",
              "      <td>0</td>\n",
              "      <td>0</td>\n",
              "      <td>0</td>\n",
              "      <td>1</td>\n",
              "    </tr>\n",
              "    <tr>\n",
              "      <th>4</th>\n",
              "      <td>0</td>\n",
              "      <td>0</td>\n",
              "      <td>0</td>\n",
              "      <td>0</td>\n",
              "      <td>0</td>\n",
              "      <td>1</td>\n",
              "      <td>0</td>\n",
              "      <td>0</td>\n",
              "      <td>0</td>\n",
              "      <td>0</td>\n",
              "      <td>0</td>\n",
              "      <td>0</td>\n",
              "    </tr>\n",
              "  </tbody>\n",
              "</table>\n",
              "</div>\n",
              "      <button class=\"colab-df-convert\" onclick=\"convertToInteractive('df-f1f0513f-4107-4008-9590-248a5aa1fce8')\"\n",
              "              title=\"Convert this dataframe to an interactive table.\"\n",
              "              style=\"display:none;\">\n",
              "        \n",
              "  <svg xmlns=\"http://www.w3.org/2000/svg\" height=\"24px\"viewBox=\"0 0 24 24\"\n",
              "       width=\"24px\">\n",
              "    <path d=\"M0 0h24v24H0V0z\" fill=\"none\"/>\n",
              "    <path d=\"M18.56 5.44l.94 2.06.94-2.06 2.06-.94-2.06-.94-.94-2.06-.94 2.06-2.06.94zm-11 1L8.5 8.5l.94-2.06 2.06-.94-2.06-.94L8.5 2.5l-.94 2.06-2.06.94zm10 10l.94 2.06.94-2.06 2.06-.94-2.06-.94-.94-2.06-.94 2.06-2.06.94z\"/><path d=\"M17.41 7.96l-1.37-1.37c-.4-.4-.92-.59-1.43-.59-.52 0-1.04.2-1.43.59L10.3 9.45l-7.72 7.72c-.78.78-.78 2.05 0 2.83L4 21.41c.39.39.9.59 1.41.59.51 0 1.02-.2 1.41-.59l7.78-7.78 2.81-2.81c.8-.78.8-2.07 0-2.86zM5.41 20L4 18.59l7.72-7.72 1.47 1.35L5.41 20z\"/>\n",
              "  </svg>\n",
              "      </button>\n",
              "      \n",
              "  <style>\n",
              "    .colab-df-container {\n",
              "      display:flex;\n",
              "      flex-wrap:wrap;\n",
              "      gap: 12px;\n",
              "    }\n",
              "\n",
              "    .colab-df-convert {\n",
              "      background-color: #E8F0FE;\n",
              "      border: none;\n",
              "      border-radius: 50%;\n",
              "      cursor: pointer;\n",
              "      display: none;\n",
              "      fill: #1967D2;\n",
              "      height: 32px;\n",
              "      padding: 0 0 0 0;\n",
              "      width: 32px;\n",
              "    }\n",
              "\n",
              "    .colab-df-convert:hover {\n",
              "      background-color: #E2EBFA;\n",
              "      box-shadow: 0px 1px 2px rgba(60, 64, 67, 0.3), 0px 1px 3px 1px rgba(60, 64, 67, 0.15);\n",
              "      fill: #174EA6;\n",
              "    }\n",
              "\n",
              "    [theme=dark] .colab-df-convert {\n",
              "      background-color: #3B4455;\n",
              "      fill: #D2E3FC;\n",
              "    }\n",
              "\n",
              "    [theme=dark] .colab-df-convert:hover {\n",
              "      background-color: #434B5C;\n",
              "      box-shadow: 0px 1px 3px 1px rgba(0, 0, 0, 0.15);\n",
              "      filter: drop-shadow(0px 1px 2px rgba(0, 0, 0, 0.3));\n",
              "      fill: #FFFFFF;\n",
              "    }\n",
              "  </style>\n",
              "\n",
              "      <script>\n",
              "        const buttonEl =\n",
              "          document.querySelector('#df-f1f0513f-4107-4008-9590-248a5aa1fce8 button.colab-df-convert');\n",
              "        buttonEl.style.display =\n",
              "          google.colab.kernel.accessAllowed ? 'block' : 'none';\n",
              "\n",
              "        async function convertToInteractive(key) {\n",
              "          const element = document.querySelector('#df-f1f0513f-4107-4008-9590-248a5aa1fce8');\n",
              "          const dataTable =\n",
              "            await google.colab.kernel.invokeFunction('convertToInteractive',\n",
              "                                                     [key], {});\n",
              "          if (!dataTable) return;\n",
              "\n",
              "          const docLinkHtml = 'Like what you see? Visit the ' +\n",
              "            '<a target=\"_blank\" href=https://colab.research.google.com/notebooks/data_table.ipynb>data table notebook</a>'\n",
              "            + ' to learn more about interactive tables.';\n",
              "          element.innerHTML = '';\n",
              "          dataTable['output_type'] = 'display_data';\n",
              "          await google.colab.output.renderOutput(dataTable, element);\n",
              "          const docLink = document.createElement('div');\n",
              "          docLink.innerHTML = docLinkHtml;\n",
              "          element.appendChild(docLink);\n",
              "        }\n",
              "      </script>\n",
              "    </div>\n",
              "  </div>\n",
              "  "
            ]
          },
          "metadata": {},
          "execution_count": 46
        }
      ]
    },
    {
      "cell_type": "markdown",
      "source": [
        "3) 밥 level 줄이기\n"
      ],
      "metadata": {
        "id": "llqYOfsWDyBW"
      }
    },
    {
      "cell_type": "markdown",
      "source": [
        "- 석식의 경우 자기계발의 날과 같은 특수한 날은 미운영\n",
        "- 석식메뉴가 존재함에도 석식계가 0인 데이터의 경우는 오류가 있을 가능성이 있음\n",
        "\n",
        "=> 석식계가 0인 행의 인덱스를 이용하여 삭제\n",
        "\n",
        "*\n",
        "메인메뉴를 중분류한 데이터 프레임도 함께 행을 삭제\n",
        "이후 데이터 처리에 용이하도록 인덱스 초기화\n"
      ],
      "metadata": {
        "id": "fONRxAzptdCv"
      }
    },
    {
      "cell_type": "code",
      "source": [
        "train.drop([ 204,  224,  244,  262,  281,  306,  327,  346,  366,  392,  410, 412,  424,  449,  468,  492,  502,  510,  529,  549,  571,  589,\n",
        "         609,  633,  648,  667,  687,  706,  730,  747,  766,  786,  809,\n",
        "         828,  853,  872,  890,  912,  932,  955,  973,  993, 1166], axis=0, inplace=True)\n",
        "train_l_main.drop([ 204,  224,  244,  262,  281,  306,  327,  346,  366,  392,  410, 412,  424,  449,  468,  492,  502,  510,  529,  549,  571,  589,\n",
        "         609,  633,  648,  667,  687,  706,  730,  747,  766,  786,  809,\n",
        "         828,  853,  872,  890,  912,  932,  955,  973,  993, 1166], axis=0, inplace=True)\n",
        "train_d_main.drop([ 204,  224,  244,  262,  281,  306,  327,  346,  366,  392,  410, 412,  424,  449,  468,  492,  502,  510,  529,  549,  571,  589,\n",
        "         609,  633,  648,  667,  687,  706,  730,  747,  766,  786,  809,\n",
        "         828,  853,  872,  890,  912,  932,  955,  973,  993, 1166], axis=0, inplace=True)"
      ],
      "metadata": {
        "id": "ZiXao_DFFjYd"
      },
      "execution_count": null,
      "outputs": []
    },
    {
      "cell_type": "code",
      "source": [
        "train = train.reset_index(drop=True)\n",
        "train_d_main=train_d_main.reset_index(drop=True)\n",
        "train_l_main=train_l_main.reset_index(drop=True)"
      ],
      "metadata": {
        "id": "LqOnGEGkHmem"
      },
      "execution_count": null,
      "outputs": []
    },
    {
      "cell_type": "markdown",
      "source": [
        "- 중식과 동일한 방식으로 밥 변수 level 정리\n",
        "- 주먹밥, 초밥김밥 등이 추가되어 약 10가지 이상의 level로 축소 및 구성"
      ],
      "metadata": {
        "id": "z5Yxrb7ntmG_"
      }
    },
    {
      "cell_type": "code",
      "source": [
        "for i in range(len(train.d_bob)):\n",
        "  bob=train.d_bob[i]\n",
        "  if ('쌀밥' in bob) or ('흑미밥' in bob) or ('오곡' in bob)or ('초복' in bob)or ('삼계탕' in bob)  or ('작은밥' in bob) or ('추가밥' in bob) or ('＜' in bob):\n",
        "    train.d_bob[i]='밥'\n",
        "  elif ('비빔밥' in bob ):\n",
        "    train.d_bob[i]='비빔밥'\n",
        "  elif ('카레' in bob ) or ('짜장' in bob ):\n",
        "    train.d_bob[i]='카레짜장'\n",
        "  elif ('볶음밥' in bob ) or ('필라프' in bob ):\n",
        "    train.d_bob[i]='볶음밥'\n",
        "  elif ('덮밥' in bob ):\n",
        "    train.d_bob[i]='덮밥'\n",
        "  elif ('곤드레' in bob ) or ('콩나물' in bob ):\n",
        "    train.d_bob[i]='나물밥'\n",
        "  elif ('영양밥' in bob ):\n",
        "    train.d_bob[i]='영양밥'\n",
        "  elif ('주먹밥' in bob ):\n",
        "    train.d_bob[i]='주먹밥'\n",
        "  elif ('초밥' in bob ) or ('김밥' in bob ):\n",
        "    train.d_bob[i]='초밥김밥'"
      ],
      "metadata": {
        "id": "q9g-2E7MFnm9"
      },
      "execution_count": null,
      "outputs": []
    },
    {
      "cell_type": "markdown",
      "source": [
        "=> 추가밥이 포함되어 있어 순서가 뒤바뀌거나 특이한 메뉴가 포함되어 추가적인 처리가 필요\n"
      ],
      "metadata": {
        "id": "JAa1hsebt0mn"
      }
    },
    {
      "cell_type": "code",
      "source": [
        "train.d_bob.value_counts()"
      ],
      "metadata": {
        "id": "WzGI-Q4kFpet",
        "colab": {
          "base_uri": "https://localhost:8080/"
        },
        "outputId": "2b873ffb-0901-445a-c2c7-0bf9d8f5aa67"
      },
      "execution_count": null,
      "outputs": [
        {
          "output_type": "execute_result",
          "data": {
            "text/plain": [
              "밥                 768\n",
              "볶음밥               119\n",
              "초밥김밥               85\n",
              "주먹밥                59\n",
              "덮밥                 34\n",
              "카레짜장               31\n",
              "오므라이스              22\n",
              "빠에야                10\n",
              "비빔밥                 8\n",
              "나물밥                 7\n",
              "토마토스파게티             3\n",
              "콩국수                 2\n",
              "우육비빔냉면              1\n",
              "마파두부                1\n",
              "꼬치어묵매운탕             1\n",
              "(New)케일쌈밥*씨앗쌈장      1\n",
              "채소라면                1\n",
              "타워함박스테이크            1\n",
              "나가사끼짬뽕              1\n",
              "부채살오므라이스            1\n",
              "영양밥                 1\n",
              "투움바스파게티             1\n",
              "*                   1\n",
              "옛날왕돈까스              1\n",
              "나가사키면&김             1\n",
              "(New)팟시금치무쌉         1\n",
              "Name: d_bob, dtype: int64"
            ]
          },
          "metadata": {},
          "execution_count": 50
        }
      ]
    },
    {
      "cell_type": "markdown",
      "source": [
        "**5. 최종 마무리**\n",
        "\n",
        "1. 직접 train 원본을 살펴본 후  수정 및 분류\n",
        "2. 자기 계발의 날의 경우 ‘ * ’로 표시된 경우가 있으므로 행삭제\n",
        "\n",
        "=> 총 12개의 level로 재분류"
      ],
      "metadata": {
        "id": "rk0q8JfbCiUW"
      }
    },
    {
      "cell_type": "code",
      "source": [
        "train.d_bob[train.d_bob == '마파두부']='덮밥'\n",
        "train.d_bob[train.d_bob =='콩국수']= '밥'\n",
        "train.d_bob[train.d_bob =='타워함박스테이크' ] = '밥'\n",
        "train.d_bob[train.d_bob =='옛날왕돈까스'] = '밥'\n",
        "train.d_bob[train.d_bob =='우육비빔냉면'] = '밥'\n",
        "train.d_bob[train.d_bob =='채소라면'] = '초밥김밥'\n",
        "train.d_bob[train.d_bob =='나가사끼짬뽕'] = '볶음밥'\n",
        "train.d_bob[train.d_bob =='나가사키면&김' ] = '주먹밥'\n",
        "train.d_bob[train.d_bob =='꼬치어묵매운탕'] = '주먹밥'\n",
        "train.d_bob[train.d_bob =='토마토스파게티'] = '파스타'\n",
        "train.d_bob[train.d_bob =='투움바스파게티'] = '파스타'\n",
        "train.d_bob[train.d_bob =='(New)팟시금치무쌉'] = '볶음밥'\n",
        "train.d_bob[train.d_bob =='(New)케일쌈밥*씨앗쌈장'] = '나물밥'\n",
        "train.d_bob[train.d_bob =='부채살오므라이스'] = '오므라이스'"
      ],
      "metadata": {
        "id": "W1saA0kRI-GF"
      },
      "execution_count": null,
      "outputs": []
    },
    {
      "cell_type": "code",
      "source": [
        "train[train.d_bob=='*'].index"
      ],
      "metadata": {
        "id": "z04XrjlSIde9",
        "colab": {
          "base_uri": "https://localhost:8080/"
        },
        "outputId": "95303c38-8655-4bdd-a2de-24c8145165a2"
      },
      "execution_count": null,
      "outputs": [
        {
          "output_type": "execute_result",
          "data": {
            "text/plain": [
              "Int64Index([565], dtype='int64')"
            ]
          },
          "metadata": {},
          "execution_count": 52
        }
      ]
    },
    {
      "cell_type": "code",
      "source": [
        "train.drop(565, axis=0, inplace=True)\n",
        "train_l_main.drop(565, axis=0, inplace=True)\n",
        "train_d_main.drop(565, axis=0, inplace=True)"
      ],
      "metadata": {
        "id": "Xj-KaSDiImlv"
      },
      "execution_count": null,
      "outputs": []
    },
    {
      "cell_type": "code",
      "source": [
        "train = train.reset_index(drop=True)\n",
        "train_d_main=train_d_main.reset_index(drop=True)\n",
        "train_l_main=train_l_main.reset_index(drop=True)"
      ],
      "metadata": {
        "id": "-VYk0RCfIuwM"
      },
      "execution_count": null,
      "outputs": []
    },
    {
      "cell_type": "code",
      "source": [
        "train.d_bob.value_counts()"
      ],
      "metadata": {
        "id": "LjuuVAWlJV7l",
        "colab": {
          "base_uri": "https://localhost:8080/"
        },
        "outputId": "8b0af1fb-401c-402e-926b-005142f0b58c"
      },
      "execution_count": null,
      "outputs": [
        {
          "output_type": "execute_result",
          "data": {
            "text/plain": [
              "밥        773\n",
              "볶음밥      121\n",
              "초밥김밥      86\n",
              "주먹밥       61\n",
              "덮밥        35\n",
              "카레짜장      31\n",
              "오므라이스     23\n",
              "빠에야       10\n",
              "나물밥        8\n",
              "비빔밥        8\n",
              "파스타        4\n",
              "영양밥        1\n",
              "Name: d_bob, dtype: int64"
            ]
          },
          "metadata": {},
          "execution_count": 55
        }
      ]
    },
    {
      "cell_type": "markdown",
      "source": [
        "## **< test 데이터 >**\n",
        "\n",
        "test도 train 과 같은 방식으로 처리\n"
      ],
      "metadata": {
        "id": "0pc76gEWClW3"
      }
    },
    {
      "cell_type": "code",
      "source": [
        "#column명 간단하게 바꾸기\n",
        "test.columns = ['일자', '요일', '정원', '휴가', '출장', '야근', '재택', '조식메뉴', '중식메뉴', '석식메뉴']"
      ],
      "metadata": {
        "id": "-3_sdTttQGpr"
      },
      "execution_count": null,
      "outputs": []
    },
    {
      "cell_type": "code",
      "source": [
        "test['일자']=pd.to_datetime(test['일자'])\n",
        "test['년']=test['일자'].dt.year\n",
        "test['월']=test['일자'].dt.month\n",
        "test['일']=test['일자'].dt.day"
      ],
      "metadata": {
        "id": "bOAeKapMOVnf"
      },
      "execution_count": null,
      "outputs": []
    },
    {
      "cell_type": "code",
      "source": [
        "test['식사가능인원수']=test.정원- test.휴가 -test.출장 -test.재택"
      ],
      "metadata": {
        "id": "rxYT6GAeA9DG"
      },
      "execution_count": null,
      "outputs": []
    },
    {
      "cell_type": "code",
      "source": [
        "#공휴일데이터\n",
        "test['공휴일전후'] = 0\n",
        "test['공휴일전후'][10] =1\n",
        "test['공휴일전후'][20] = 1"
      ],
      "metadata": {
        "id": "dPWMdVHro3nE"
      },
      "execution_count": null,
      "outputs": []
    },
    {
      "cell_type": "code",
      "source": [
        "#계절\n",
        "test['월_계절']=test['월'].apply(transform_season)"
      ],
      "metadata": {
        "id": "OpUcqzGc3-hA"
      },
      "execution_count": null,
      "outputs": []
    },
    {
      "cell_type": "code",
      "source": [
        "#weather데이터 년월일기준으로 일치한 것끼리 데이터프레임병합\n",
        "test=pd.merge(test,weather,how= 'left', on=['년','월','일'])\n",
        "\n",
        "#weather에 있던 일시 중복되므로 삭제\n",
        "test.drop('일시',axis=1,inplace=True)"
      ],
      "metadata": {
        "id": "Qf86HnvvOElr"
      },
      "execution_count": null,
      "outputs": []
    },
    {
      "cell_type": "markdown",
      "source": [
        "중식 메뉴처리"
      ],
      "metadata": {
        "id": "VpSF0lWuQKtD"
      }
    },
    {
      "cell_type": "code",
      "source": [
        "test.중식메뉴=test.중식메뉴.str.split(' ')\n",
        "for j in range(50):\n",
        "  menus= test.중식메뉴[j]\n",
        "  menu_add=test.중식메뉴[j]\n",
        "  index=[]\n",
        "  for menu in menus :\n",
        "    if (':' in menu) or (menu==''):\n",
        "      menu_add.remove(menu)\n",
        "  test.중식메뉴[j]=menu_add"
      ],
      "metadata": {
        "id": "pRZYYz3-MP6N"
      },
      "execution_count": null,
      "outputs": []
    },
    {
      "cell_type": "code",
      "source": [
        "bob=[]\n",
        "for j in range(50):\n",
        "  bob.append(test.중식메뉴[j][0])\n",
        "test['l_bob']=bob"
      ],
      "metadata": {
        "id": "090NeJe2MRF1"
      },
      "execution_count": null,
      "outputs": []
    },
    {
      "cell_type": "markdown",
      "source": [
        "석식 메뉴 처리"
      ],
      "metadata": {
        "id": "FvAylvVyQQ0a"
      }
    },
    {
      "cell_type": "code",
      "source": [
        "test.석식메뉴=test.석식메뉴.str.split(' ')"
      ],
      "metadata": {
        "id": "xyCiPtsCMSpF"
      },
      "execution_count": null,
      "outputs": []
    },
    {
      "cell_type": "code",
      "source": [
        "bob=[]\n",
        "for j in range(50):\n",
        "  bob.append(test.석식메뉴[j][0])\n",
        "test['d_bob']=bob"
      ],
      "metadata": {
        "id": "5U7uOp72MW71"
      },
      "execution_count": null,
      "outputs": []
    },
    {
      "cell_type": "code",
      "source": [
        "test_l_main=pd.read_csv('/content/drive/MyDrive/YB_2조/23년 1월 프로젝트/test_lunch_main_final.csv')\n",
        "test_d_main=pd.read_csv('/content/drive/MyDrive/YB_2조/23년 1월 프로젝트/test_dinner_main_final.csv')"
      ],
      "metadata": {
        "id": "joLJSQtsMi1s"
      },
      "execution_count": null,
      "outputs": []
    },
    {
      "cell_type": "code",
      "source": [
        "test_l_main = test_l_main.fillna(0)\n",
        "test_d_main = test_d_main.fillna(0)"
      ],
      "metadata": {
        "id": "18ZDPkqlMmpE"
      },
      "execution_count": null,
      "outputs": []
    },
    {
      "cell_type": "code",
      "source": [
        "test_l_main=test_l_main.iloc[:,1:]\n",
        "test_l_main=test_l_main.astype('int')\n",
        "test_d_main=test_d_main.iloc[:,1:]\n",
        "test_d_main=test_d_main.astype('int')"
      ],
      "metadata": {
        "id": "Np2EX-YlMnaU"
      },
      "execution_count": null,
      "outputs": []
    },
    {
      "cell_type": "code",
      "source": [
        "for i in range(len(test.l_bob)):\n",
        "  bob=test.l_bob[i]\n",
        "  if ('쌀밥' in bob) or ('흑미밥' in bob) or ('오곡' in bob)or ('초복' in bob)or ('삼계탕' in bob):\n",
        "    test.l_bob[i]='밥'\n",
        "  elif ('비빔밥' in bob ):\n",
        "    test.l_bob[i]='비빔밥'\n",
        "  elif ('카레' in bob ) or ('짜장' in bob ):\n",
        "    test.l_bob[i]='카레짜장'\n",
        "  elif ('볶음밥' in bob ) or ('필라프' in bob ):\n",
        "    test.l_bob[i]='볶음밥'\n",
        "  elif ('덮밥' in bob ):\n",
        "    test.l_bob[i]='덮밥'\n",
        "  elif ('곤드레' in bob ) or ('콩나물' in bob ):\n",
        "    test.l_bob[i]='나물밥'\n",
        "  elif ('영양밥' in bob ):\n",
        "    test.l_bob[i]='영양밥'"
      ],
      "metadata": {
        "id": "UdohE5w5Mo3s"
      },
      "execution_count": null,
      "outputs": []
    },
    {
      "cell_type": "code",
      "source": [
        "test.l_bob.value_counts()"
      ],
      "metadata": {
        "colab": {
          "base_uri": "https://localhost:8080/"
        },
        "id": "rjH4PSexMqNE",
        "outputId": "c6a01478-b400-445f-e7fd-8acc194f0447"
      },
      "execution_count": null,
      "outputs": [
        {
          "output_type": "execute_result",
          "data": {
            "text/plain": [
              "밥       48\n",
              "카레짜장     1\n",
              "비빔밥      1\n",
              "Name: l_bob, dtype: int64"
            ]
          },
          "metadata": {},
          "execution_count": 70
        }
      ]
    },
    {
      "cell_type": "code",
      "source": [
        "for i in range(len(test.d_bob)):\n",
        "  bob=test.d_bob[i]\n",
        "  if ('쌀밥' in bob) or ('흑미밥' in bob) or ('오곡' in bob)or ('초복' in bob)or ('삼계탕' in bob)  or ('작은밥' in bob) or ('추가밥' in bob) or ('＜' in bob):\n",
        "    test.d_bob[i]='밥'\n",
        "  elif ('비빔밥' in bob ) or ('꽁보리밥' in bob):\n",
        "    test.d_bob[i]='비빔밥'\n",
        "  elif ('카레' in bob ) or ('짜장' in bob ):\n",
        "    test.d_bob[i]='카레짜장'\n",
        "  elif ('볶음밥' in bob ) or ('필라프' in bob ):\n",
        "    test.d_bob[i]='볶음밥'\n",
        "  elif ('덮밥' in bob ):\n",
        "    test.d_bob[i]='덮밥'\n",
        "  elif ('곤드레' in bob ) or ('콩나물' in bob ):\n",
        "    test.d_bob[i]='나물밥'\n",
        "  elif ('영양밥' in bob ):\n",
        "    test.d_bob[i]='영양밥'\n",
        "  elif ('주먹밥' in bob ):\n",
        "    test.d_bob[i]='주먹밥'\n",
        "  elif ('초밥' in bob ) or ('김밥' in bob ):\n",
        "    test.d_bob[i]='초밥김밥'"
      ],
      "metadata": {
        "id": "KZdqDUuyMrLE"
      },
      "execution_count": null,
      "outputs": []
    },
    {
      "cell_type": "code",
      "source": [
        "test.d_bob.value_counts()"
      ],
      "metadata": {
        "colab": {
          "base_uri": "https://localhost:8080/"
        },
        "id": "RkacHaAtMs4V",
        "outputId": "c684f771-a524-43bc-b6e8-a706ab70e724"
      },
      "execution_count": null,
      "outputs": [
        {
          "output_type": "execute_result",
          "data": {
            "text/plain": [
              "밥        39\n",
              "초밥김밥      3\n",
              "카레짜장      3\n",
              "오므라이스     1\n",
              "나물밥       1\n",
              "비빔밥       1\n",
              "덮밥        1\n",
              "볶음밥       1\n",
              "Name: d_bob, dtype: int64"
            ]
          },
          "metadata": {},
          "execution_count": 72
        }
      ]
    },
    {
      "cell_type": "markdown",
      "source": [
        "# **train test 최종 형태**\n",
        "\n",
        "필요없는 변수 삭제 및 확인"
      ],
      "metadata": {
        "id": "x6rgwHW_OGeF"
      }
    },
    {
      "cell_type": "code",
      "source": [
        "train.drop(['일','일자','조식메뉴','중식메뉴','석식메뉴','l_gug','l_main','d_gug', 'd_main'],axis=1,inplace=True)\n",
        "test.drop(['일','일자','조식메뉴','중식메뉴','석식메뉴'],axis=1,inplace=True)"
      ],
      "metadata": {
        "id": "7uObmlhvNxI8"
      },
      "execution_count": null,
      "outputs": []
    },
    {
      "cell_type": "code",
      "source": [
        "train.head(5)"
      ],
      "metadata": {
        "colab": {
          "base_uri": "https://localhost:8080/"
        },
        "id": "E3VbCTe3Njf0",
        "outputId": "2e0f2417-1033-47db-ade1-545c2870150d"
      },
      "execution_count": null,
      "outputs": [
        {
          "output_type": "execute_result",
          "data": {
            "text/plain": [
              "  요일    정원   휴가   출장   야근   재택     중식계    석식계     년  월  식사가능인원수  공휴일전후 월_계절  \\\n",
              "0  월  2601   50  150  238  0.0  1039.0  331.0  2016  2   2401.0      0   겨울   \n",
              "1  화  2601   50  173  319  0.0   867.0  560.0  2016  2   2378.0      0   겨울   \n",
              "2  수  2601   56  180  111  0.0  1017.0  573.0  2016  2   2365.0      0   겨울   \n",
              "3  목  2601  104  220  355  0.0   978.0  525.0  2016  2   2277.0      1   겨울   \n",
              "4  금  2601  278  181   34  0.0   925.0  330.0  2016  2   2142.0      0   겨울   \n",
              "\n",
              "   평균기온(°C)  최저기온(°C)  최고기온(°C)  일강수량(mm)  평균 상대습도(%) l_bob d_bob  \n",
              "0      -0.6      -4.1       5.0       0.0        43.9     밥     밥  \n",
              "1      -2.3      -9.1       6.2       0.0        47.5     밥   나물밥  \n",
              "2      -1.7      -9.3       7.7       0.0        57.1  카레짜장     밥  \n",
              "3      -0.2      -7.7       7.7       0.0        53.4     밥  초밥김밥  \n",
              "4       1.3      -6.5       9.6       0.0        44.4     밥     밥  "
            ],
            "text/html": [
              "\n",
              "  <div id=\"df-4bb266c2-c4f0-4f06-87b0-a82fe4501f53\">\n",
              "    <div class=\"colab-df-container\">\n",
              "      <div>\n",
              "<style scoped>\n",
              "    .dataframe tbody tr th:only-of-type {\n",
              "        vertical-align: middle;\n",
              "    }\n",
              "\n",
              "    .dataframe tbody tr th {\n",
              "        vertical-align: top;\n",
              "    }\n",
              "\n",
              "    .dataframe thead th {\n",
              "        text-align: right;\n",
              "    }\n",
              "</style>\n",
              "<table border=\"1\" class=\"dataframe\">\n",
              "  <thead>\n",
              "    <tr style=\"text-align: right;\">\n",
              "      <th></th>\n",
              "      <th>요일</th>\n",
              "      <th>정원</th>\n",
              "      <th>휴가</th>\n",
              "      <th>출장</th>\n",
              "      <th>야근</th>\n",
              "      <th>재택</th>\n",
              "      <th>중식계</th>\n",
              "      <th>석식계</th>\n",
              "      <th>년</th>\n",
              "      <th>월</th>\n",
              "      <th>식사가능인원수</th>\n",
              "      <th>공휴일전후</th>\n",
              "      <th>월_계절</th>\n",
              "      <th>평균기온(°C)</th>\n",
              "      <th>최저기온(°C)</th>\n",
              "      <th>최고기온(°C)</th>\n",
              "      <th>일강수량(mm)</th>\n",
              "      <th>평균 상대습도(%)</th>\n",
              "      <th>l_bob</th>\n",
              "      <th>d_bob</th>\n",
              "    </tr>\n",
              "  </thead>\n",
              "  <tbody>\n",
              "    <tr>\n",
              "      <th>0</th>\n",
              "      <td>월</td>\n",
              "      <td>2601</td>\n",
              "      <td>50</td>\n",
              "      <td>150</td>\n",
              "      <td>238</td>\n",
              "      <td>0.0</td>\n",
              "      <td>1039.0</td>\n",
              "      <td>331.0</td>\n",
              "      <td>2016</td>\n",
              "      <td>2</td>\n",
              "      <td>2401.0</td>\n",
              "      <td>0</td>\n",
              "      <td>겨울</td>\n",
              "      <td>-0.6</td>\n",
              "      <td>-4.1</td>\n",
              "      <td>5.0</td>\n",
              "      <td>0.0</td>\n",
              "      <td>43.9</td>\n",
              "      <td>밥</td>\n",
              "      <td>밥</td>\n",
              "    </tr>\n",
              "    <tr>\n",
              "      <th>1</th>\n",
              "      <td>화</td>\n",
              "      <td>2601</td>\n",
              "      <td>50</td>\n",
              "      <td>173</td>\n",
              "      <td>319</td>\n",
              "      <td>0.0</td>\n",
              "      <td>867.0</td>\n",
              "      <td>560.0</td>\n",
              "      <td>2016</td>\n",
              "      <td>2</td>\n",
              "      <td>2378.0</td>\n",
              "      <td>0</td>\n",
              "      <td>겨울</td>\n",
              "      <td>-2.3</td>\n",
              "      <td>-9.1</td>\n",
              "      <td>6.2</td>\n",
              "      <td>0.0</td>\n",
              "      <td>47.5</td>\n",
              "      <td>밥</td>\n",
              "      <td>나물밥</td>\n",
              "    </tr>\n",
              "    <tr>\n",
              "      <th>2</th>\n",
              "      <td>수</td>\n",
              "      <td>2601</td>\n",
              "      <td>56</td>\n",
              "      <td>180</td>\n",
              "      <td>111</td>\n",
              "      <td>0.0</td>\n",
              "      <td>1017.0</td>\n",
              "      <td>573.0</td>\n",
              "      <td>2016</td>\n",
              "      <td>2</td>\n",
              "      <td>2365.0</td>\n",
              "      <td>0</td>\n",
              "      <td>겨울</td>\n",
              "      <td>-1.7</td>\n",
              "      <td>-9.3</td>\n",
              "      <td>7.7</td>\n",
              "      <td>0.0</td>\n",
              "      <td>57.1</td>\n",
              "      <td>카레짜장</td>\n",
              "      <td>밥</td>\n",
              "    </tr>\n",
              "    <tr>\n",
              "      <th>3</th>\n",
              "      <td>목</td>\n",
              "      <td>2601</td>\n",
              "      <td>104</td>\n",
              "      <td>220</td>\n",
              "      <td>355</td>\n",
              "      <td>0.0</td>\n",
              "      <td>978.0</td>\n",
              "      <td>525.0</td>\n",
              "      <td>2016</td>\n",
              "      <td>2</td>\n",
              "      <td>2277.0</td>\n",
              "      <td>1</td>\n",
              "      <td>겨울</td>\n",
              "      <td>-0.2</td>\n",
              "      <td>-7.7</td>\n",
              "      <td>7.7</td>\n",
              "      <td>0.0</td>\n",
              "      <td>53.4</td>\n",
              "      <td>밥</td>\n",
              "      <td>초밥김밥</td>\n",
              "    </tr>\n",
              "    <tr>\n",
              "      <th>4</th>\n",
              "      <td>금</td>\n",
              "      <td>2601</td>\n",
              "      <td>278</td>\n",
              "      <td>181</td>\n",
              "      <td>34</td>\n",
              "      <td>0.0</td>\n",
              "      <td>925.0</td>\n",
              "      <td>330.0</td>\n",
              "      <td>2016</td>\n",
              "      <td>2</td>\n",
              "      <td>2142.0</td>\n",
              "      <td>0</td>\n",
              "      <td>겨울</td>\n",
              "      <td>1.3</td>\n",
              "      <td>-6.5</td>\n",
              "      <td>9.6</td>\n",
              "      <td>0.0</td>\n",
              "      <td>44.4</td>\n",
              "      <td>밥</td>\n",
              "      <td>밥</td>\n",
              "    </tr>\n",
              "  </tbody>\n",
              "</table>\n",
              "</div>\n",
              "      <button class=\"colab-df-convert\" onclick=\"convertToInteractive('df-4bb266c2-c4f0-4f06-87b0-a82fe4501f53')\"\n",
              "              title=\"Convert this dataframe to an interactive table.\"\n",
              "              style=\"display:none;\">\n",
              "        \n",
              "  <svg xmlns=\"http://www.w3.org/2000/svg\" height=\"24px\"viewBox=\"0 0 24 24\"\n",
              "       width=\"24px\">\n",
              "    <path d=\"M0 0h24v24H0V0z\" fill=\"none\"/>\n",
              "    <path d=\"M18.56 5.44l.94 2.06.94-2.06 2.06-.94-2.06-.94-.94-2.06-.94 2.06-2.06.94zm-11 1L8.5 8.5l.94-2.06 2.06-.94-2.06-.94L8.5 2.5l-.94 2.06-2.06.94zm10 10l.94 2.06.94-2.06 2.06-.94-2.06-.94-.94-2.06-.94 2.06-2.06.94z\"/><path d=\"M17.41 7.96l-1.37-1.37c-.4-.4-.92-.59-1.43-.59-.52 0-1.04.2-1.43.59L10.3 9.45l-7.72 7.72c-.78.78-.78 2.05 0 2.83L4 21.41c.39.39.9.59 1.41.59.51 0 1.02-.2 1.41-.59l7.78-7.78 2.81-2.81c.8-.78.8-2.07 0-2.86zM5.41 20L4 18.59l7.72-7.72 1.47 1.35L5.41 20z\"/>\n",
              "  </svg>\n",
              "      </button>\n",
              "      \n",
              "  <style>\n",
              "    .colab-df-container {\n",
              "      display:flex;\n",
              "      flex-wrap:wrap;\n",
              "      gap: 12px;\n",
              "    }\n",
              "\n",
              "    .colab-df-convert {\n",
              "      background-color: #E8F0FE;\n",
              "      border: none;\n",
              "      border-radius: 50%;\n",
              "      cursor: pointer;\n",
              "      display: none;\n",
              "      fill: #1967D2;\n",
              "      height: 32px;\n",
              "      padding: 0 0 0 0;\n",
              "      width: 32px;\n",
              "    }\n",
              "\n",
              "    .colab-df-convert:hover {\n",
              "      background-color: #E2EBFA;\n",
              "      box-shadow: 0px 1px 2px rgba(60, 64, 67, 0.3), 0px 1px 3px 1px rgba(60, 64, 67, 0.15);\n",
              "      fill: #174EA6;\n",
              "    }\n",
              "\n",
              "    [theme=dark] .colab-df-convert {\n",
              "      background-color: #3B4455;\n",
              "      fill: #D2E3FC;\n",
              "    }\n",
              "\n",
              "    [theme=dark] .colab-df-convert:hover {\n",
              "      background-color: #434B5C;\n",
              "      box-shadow: 0px 1px 3px 1px rgba(0, 0, 0, 0.15);\n",
              "      filter: drop-shadow(0px 1px 2px rgba(0, 0, 0, 0.3));\n",
              "      fill: #FFFFFF;\n",
              "    }\n",
              "  </style>\n",
              "\n",
              "      <script>\n",
              "        const buttonEl =\n",
              "          document.querySelector('#df-4bb266c2-c4f0-4f06-87b0-a82fe4501f53 button.colab-df-convert');\n",
              "        buttonEl.style.display =\n",
              "          google.colab.kernel.accessAllowed ? 'block' : 'none';\n",
              "\n",
              "        async function convertToInteractive(key) {\n",
              "          const element = document.querySelector('#df-4bb266c2-c4f0-4f06-87b0-a82fe4501f53');\n",
              "          const dataTable =\n",
              "            await google.colab.kernel.invokeFunction('convertToInteractive',\n",
              "                                                     [key], {});\n",
              "          if (!dataTable) return;\n",
              "\n",
              "          const docLinkHtml = 'Like what you see? Visit the ' +\n",
              "            '<a target=\"_blank\" href=https://colab.research.google.com/notebooks/data_table.ipynb>data table notebook</a>'\n",
              "            + ' to learn more about interactive tables.';\n",
              "          element.innerHTML = '';\n",
              "          dataTable['output_type'] = 'display_data';\n",
              "          await google.colab.output.renderOutput(dataTable, element);\n",
              "          const docLink = document.createElement('div');\n",
              "          docLink.innerHTML = docLinkHtml;\n",
              "          element.appendChild(docLink);\n",
              "        }\n",
              "      </script>\n",
              "    </div>\n",
              "  </div>\n",
              "  "
            ]
          },
          "metadata": {},
          "execution_count": 74
        }
      ]
    },
    {
      "cell_type": "code",
      "source": [
        "test.head(5)"
      ],
      "metadata": {
        "colab": {
          "base_uri": "https://localhost:8080/"
        },
        "id": "cUV-cRsmNsDc",
        "outputId": "830120e7-f181-49b1-e63a-3dfdef1b78e1"
      },
      "execution_count": null,
      "outputs": [
        {
          "output_type": "execute_result",
          "data": {
            "text/plain": [
              "  요일    정원   휴가   출장   야근     재택     년  월  식사가능인원수  공휴일전후 월_계절  평균기온(°C)  \\\n",
              "0  수  2983   88  182    5  358.0  2021  1   2355.0      0   겨울       4.1   \n",
              "1  목  2983  104  212  409  348.0  2021  1   2319.0      0   겨울       1.4   \n",
              "2  금  2983  270  249    0  294.0  2021  1   2170.0      0   겨울      -2.3   \n",
              "3  월  2924  108  154  538  322.0  2021  2   2340.0      0   겨울       7.5   \n",
              "4  화  2924   62  186  455  314.0  2021  2   2362.0      0   겨울       0.4   \n",
              "\n",
              "   최저기온(°C)  최고기온(°C)  일강수량(mm)  평균 상대습도(%) l_bob d_bob  \n",
              "0      -1.2      11.4       0.0        61.5     밥     밥  \n",
              "1      -3.0      10.7       0.0        58.1     밥  초밥김밥  \n",
              "2      -6.0       3.0       0.0        39.4     밥     밥  \n",
              "3       4.3      10.6      16.0        84.5     밥     밥  \n",
              "4      -5.2       7.5       0.0        36.0     밥     밥  "
            ],
            "text/html": [
              "\n",
              "  <div id=\"df-8d22a501-5429-4ad7-b756-f75ad262d0f6\">\n",
              "    <div class=\"colab-df-container\">\n",
              "      <div>\n",
              "<style scoped>\n",
              "    .dataframe tbody tr th:only-of-type {\n",
              "        vertical-align: middle;\n",
              "    }\n",
              "\n",
              "    .dataframe tbody tr th {\n",
              "        vertical-align: top;\n",
              "    }\n",
              "\n",
              "    .dataframe thead th {\n",
              "        text-align: right;\n",
              "    }\n",
              "</style>\n",
              "<table border=\"1\" class=\"dataframe\">\n",
              "  <thead>\n",
              "    <tr style=\"text-align: right;\">\n",
              "      <th></th>\n",
              "      <th>요일</th>\n",
              "      <th>정원</th>\n",
              "      <th>휴가</th>\n",
              "      <th>출장</th>\n",
              "      <th>야근</th>\n",
              "      <th>재택</th>\n",
              "      <th>년</th>\n",
              "      <th>월</th>\n",
              "      <th>식사가능인원수</th>\n",
              "      <th>공휴일전후</th>\n",
              "      <th>월_계절</th>\n",
              "      <th>평균기온(°C)</th>\n",
              "      <th>최저기온(°C)</th>\n",
              "      <th>최고기온(°C)</th>\n",
              "      <th>일강수량(mm)</th>\n",
              "      <th>평균 상대습도(%)</th>\n",
              "      <th>l_bob</th>\n",
              "      <th>d_bob</th>\n",
              "    </tr>\n",
              "  </thead>\n",
              "  <tbody>\n",
              "    <tr>\n",
              "      <th>0</th>\n",
              "      <td>수</td>\n",
              "      <td>2983</td>\n",
              "      <td>88</td>\n",
              "      <td>182</td>\n",
              "      <td>5</td>\n",
              "      <td>358.0</td>\n",
              "      <td>2021</td>\n",
              "      <td>1</td>\n",
              "      <td>2355.0</td>\n",
              "      <td>0</td>\n",
              "      <td>겨울</td>\n",
              "      <td>4.1</td>\n",
              "      <td>-1.2</td>\n",
              "      <td>11.4</td>\n",
              "      <td>0.0</td>\n",
              "      <td>61.5</td>\n",
              "      <td>밥</td>\n",
              "      <td>밥</td>\n",
              "    </tr>\n",
              "    <tr>\n",
              "      <th>1</th>\n",
              "      <td>목</td>\n",
              "      <td>2983</td>\n",
              "      <td>104</td>\n",
              "      <td>212</td>\n",
              "      <td>409</td>\n",
              "      <td>348.0</td>\n",
              "      <td>2021</td>\n",
              "      <td>1</td>\n",
              "      <td>2319.0</td>\n",
              "      <td>0</td>\n",
              "      <td>겨울</td>\n",
              "      <td>1.4</td>\n",
              "      <td>-3.0</td>\n",
              "      <td>10.7</td>\n",
              "      <td>0.0</td>\n",
              "      <td>58.1</td>\n",
              "      <td>밥</td>\n",
              "      <td>초밥김밥</td>\n",
              "    </tr>\n",
              "    <tr>\n",
              "      <th>2</th>\n",
              "      <td>금</td>\n",
              "      <td>2983</td>\n",
              "      <td>270</td>\n",
              "      <td>249</td>\n",
              "      <td>0</td>\n",
              "      <td>294.0</td>\n",
              "      <td>2021</td>\n",
              "      <td>1</td>\n",
              "      <td>2170.0</td>\n",
              "      <td>0</td>\n",
              "      <td>겨울</td>\n",
              "      <td>-2.3</td>\n",
              "      <td>-6.0</td>\n",
              "      <td>3.0</td>\n",
              "      <td>0.0</td>\n",
              "      <td>39.4</td>\n",
              "      <td>밥</td>\n",
              "      <td>밥</td>\n",
              "    </tr>\n",
              "    <tr>\n",
              "      <th>3</th>\n",
              "      <td>월</td>\n",
              "      <td>2924</td>\n",
              "      <td>108</td>\n",
              "      <td>154</td>\n",
              "      <td>538</td>\n",
              "      <td>322.0</td>\n",
              "      <td>2021</td>\n",
              "      <td>2</td>\n",
              "      <td>2340.0</td>\n",
              "      <td>0</td>\n",
              "      <td>겨울</td>\n",
              "      <td>7.5</td>\n",
              "      <td>4.3</td>\n",
              "      <td>10.6</td>\n",
              "      <td>16.0</td>\n",
              "      <td>84.5</td>\n",
              "      <td>밥</td>\n",
              "      <td>밥</td>\n",
              "    </tr>\n",
              "    <tr>\n",
              "      <th>4</th>\n",
              "      <td>화</td>\n",
              "      <td>2924</td>\n",
              "      <td>62</td>\n",
              "      <td>186</td>\n",
              "      <td>455</td>\n",
              "      <td>314.0</td>\n",
              "      <td>2021</td>\n",
              "      <td>2</td>\n",
              "      <td>2362.0</td>\n",
              "      <td>0</td>\n",
              "      <td>겨울</td>\n",
              "      <td>0.4</td>\n",
              "      <td>-5.2</td>\n",
              "      <td>7.5</td>\n",
              "      <td>0.0</td>\n",
              "      <td>36.0</td>\n",
              "      <td>밥</td>\n",
              "      <td>밥</td>\n",
              "    </tr>\n",
              "  </tbody>\n",
              "</table>\n",
              "</div>\n",
              "      <button class=\"colab-df-convert\" onclick=\"convertToInteractive('df-8d22a501-5429-4ad7-b756-f75ad262d0f6')\"\n",
              "              title=\"Convert this dataframe to an interactive table.\"\n",
              "              style=\"display:none;\">\n",
              "        \n",
              "  <svg xmlns=\"http://www.w3.org/2000/svg\" height=\"24px\"viewBox=\"0 0 24 24\"\n",
              "       width=\"24px\">\n",
              "    <path d=\"M0 0h24v24H0V0z\" fill=\"none\"/>\n",
              "    <path d=\"M18.56 5.44l.94 2.06.94-2.06 2.06-.94-2.06-.94-.94-2.06-.94 2.06-2.06.94zm-11 1L8.5 8.5l.94-2.06 2.06-.94-2.06-.94L8.5 2.5l-.94 2.06-2.06.94zm10 10l.94 2.06.94-2.06 2.06-.94-2.06-.94-.94-2.06-.94 2.06-2.06.94z\"/><path d=\"M17.41 7.96l-1.37-1.37c-.4-.4-.92-.59-1.43-.59-.52 0-1.04.2-1.43.59L10.3 9.45l-7.72 7.72c-.78.78-.78 2.05 0 2.83L4 21.41c.39.39.9.59 1.41.59.51 0 1.02-.2 1.41-.59l7.78-7.78 2.81-2.81c.8-.78.8-2.07 0-2.86zM5.41 20L4 18.59l7.72-7.72 1.47 1.35L5.41 20z\"/>\n",
              "  </svg>\n",
              "      </button>\n",
              "      \n",
              "  <style>\n",
              "    .colab-df-container {\n",
              "      display:flex;\n",
              "      flex-wrap:wrap;\n",
              "      gap: 12px;\n",
              "    }\n",
              "\n",
              "    .colab-df-convert {\n",
              "      background-color: #E8F0FE;\n",
              "      border: none;\n",
              "      border-radius: 50%;\n",
              "      cursor: pointer;\n",
              "      display: none;\n",
              "      fill: #1967D2;\n",
              "      height: 32px;\n",
              "      padding: 0 0 0 0;\n",
              "      width: 32px;\n",
              "    }\n",
              "\n",
              "    .colab-df-convert:hover {\n",
              "      background-color: #E2EBFA;\n",
              "      box-shadow: 0px 1px 2px rgba(60, 64, 67, 0.3), 0px 1px 3px 1px rgba(60, 64, 67, 0.15);\n",
              "      fill: #174EA6;\n",
              "    }\n",
              "\n",
              "    [theme=dark] .colab-df-convert {\n",
              "      background-color: #3B4455;\n",
              "      fill: #D2E3FC;\n",
              "    }\n",
              "\n",
              "    [theme=dark] .colab-df-convert:hover {\n",
              "      background-color: #434B5C;\n",
              "      box-shadow: 0px 1px 3px 1px rgba(0, 0, 0, 0.15);\n",
              "      filter: drop-shadow(0px 1px 2px rgba(0, 0, 0, 0.3));\n",
              "      fill: #FFFFFF;\n",
              "    }\n",
              "  </style>\n",
              "\n",
              "      <script>\n",
              "        const buttonEl =\n",
              "          document.querySelector('#df-8d22a501-5429-4ad7-b756-f75ad262d0f6 button.colab-df-convert');\n",
              "        buttonEl.style.display =\n",
              "          google.colab.kernel.accessAllowed ? 'block' : 'none';\n",
              "\n",
              "        async function convertToInteractive(key) {\n",
              "          const element = document.querySelector('#df-8d22a501-5429-4ad7-b756-f75ad262d0f6');\n",
              "          const dataTable =\n",
              "            await google.colab.kernel.invokeFunction('convertToInteractive',\n",
              "                                                     [key], {});\n",
              "          if (!dataTable) return;\n",
              "\n",
              "          const docLinkHtml = 'Like what you see? Visit the ' +\n",
              "            '<a target=\"_blank\" href=https://colab.research.google.com/notebooks/data_table.ipynb>data table notebook</a>'\n",
              "            + ' to learn more about interactive tables.';\n",
              "          element.innerHTML = '';\n",
              "          dataTable['output_type'] = 'display_data';\n",
              "          await google.colab.output.renderOutput(dataTable, element);\n",
              "          const docLink = document.createElement('div');\n",
              "          docLink.innerHTML = docLinkHtml;\n",
              "          element.appendChild(docLink);\n",
              "        }\n",
              "      </script>\n",
              "    </div>\n",
              "  </div>\n",
              "  "
            ]
          },
          "metadata": {},
          "execution_count": 75
        }
      ]
    },
    {
      "cell_type": "markdown",
      "source": [
        "## **l_train, l_test**\n",
        "**중식계 예측에 사용할 데이터 분리**"
      ],
      "metadata": {
        "id": "e5XN0XM5M4hd"
      }
    },
    {
      "cell_type": "code",
      "source": [
        "l_train=train.drop(['석식계', 'd_bob'], axis=1)\n",
        "l_X=pd.concat([l_train.drop('중식계',axis=1), train_l_main], axis=1)\n",
        "l_y=l_train.중식계"
      ],
      "metadata": {
        "id": "ufQzWHIQPcXH"
      },
      "execution_count": null,
      "outputs": []
    },
    {
      "cell_type": "code",
      "source": [
        "l_test=pd.concat([test.drop(['d_bob'], axis=1), test_l_main], axis=1)"
      ],
      "metadata": {
        "id": "1qbPrJVKQRFW"
      },
      "execution_count": null,
      "outputs": []
    },
    {
      "cell_type": "markdown",
      "source": [
        "## **d_train, d_test**\n",
        "**석식계 예측에 사용할 데이터 분리**"
      ],
      "metadata": {
        "id": "-7WiM_bCOT7c"
      }
    },
    {
      "cell_type": "code",
      "source": [
        "d_train=train.drop(['중식계', 'l_bob'], axis=1)\n",
        "d_X=pd.concat([d_train.drop(['석식계','식사가능인원수'],axis=1), train_d_main], axis=1)\n",
        "d_y=d_train.석식계"
      ],
      "metadata": {
        "id": "6DVtKDcFQIfM"
      },
      "execution_count": null,
      "outputs": []
    },
    {
      "cell_type": "code",
      "source": [
        "d_test=pd.concat([test.drop(['l_bob','식사가능인원수'], axis=1), test_d_main], axis=1)"
      ],
      "metadata": {
        "id": "rsDoh55lQrZE"
      },
      "execution_count": null,
      "outputs": []
    },
    {
      "cell_type": "markdown",
      "source": [
        "# **인코딩**\n",
        "\n",
        "전처리 완료한 최종 데이터 형태에서 인코딩이 필요한 피처는 요일, 계절, 밥.\n",
        "\n",
        "train, test 데이터 모두 해당 피처에 대해 라벨인코딩 적용."
      ],
      "metadata": {
        "id": "d0HpnHgMaUqC"
      }
    },
    {
      "cell_type": "code",
      "source": [
        "#요일 피처에 라벨 인코딩 적용\n",
        "le=LabelEncoder()\n",
        "l_X.요일=le.fit_transform(l_X.요일)\n",
        "l_test.요일=le.transform(l_test.요일)\n",
        "l_train.요일=le.transform(l_train.요일)\n",
        "\n",
        "le=LabelEncoder()\n",
        "d_X.요일=le.fit_transform(d_X.요일)\n",
        "d_test.요일=le.transform(d_test.요일)\n",
        "d_train.요일=le.transform(d_train.요일)"
      ],
      "metadata": {
        "id": "A1fSCcutM00l"
      },
      "execution_count": null,
      "outputs": []
    },
    {
      "cell_type": "code",
      "source": [
        "#l_bob 피처에 라벨 인코딩 적용\n",
        "le=LabelEncoder()\n",
        "l_X.l_bob=le.fit_transform(l_X.l_bob)\n",
        "l_test.l_bob=le.transform(l_test.l_bob)\n",
        "l_train.l_bob=le.transform(l_train.l_bob)\n",
        "\n",
        "#d_bob 피처에 라벨 인코딩 적용\n",
        "le=LabelEncoder()\n",
        "d_X.d_bob=le.fit_transform(d_X.d_bob)\n",
        "d_test.d_bob=le.transform(d_test.d_bob)\n",
        "d_train.d_bob=le.transform(d_train.d_bob)"
      ],
      "metadata": {
        "id": "Oob7N4mOM3ot"
      },
      "execution_count": null,
      "outputs": []
    },
    {
      "cell_type": "code",
      "source": [
        "#계절 피처에 라벨 인코딩 적용\n",
        "le=LabelEncoder()\n",
        "l_X.월_계절=le.fit_transform(l_X.월_계절)\n",
        "l_test.월_계절=le.transform(l_test.월_계절)\n",
        "l_train.월_계절=le.transform(l_train.월_계절)\n",
        "\n",
        "le=LabelEncoder()\n",
        "d_X.월_계절=le.fit_transform(d_X.월_계절)\n",
        "d_test.월_계절=le.transform(d_test.월_계절)\n",
        "d_train.월_계절=le.transform(d_train.월_계절)"
      ],
      "metadata": {
        "id": "xOkPbmKc-o-Q"
      },
      "execution_count": null,
      "outputs": []
    },
    {
      "cell_type": "code",
      "source": [
        "l_X.head(3)"
      ],
      "metadata": {
        "colab": {
          "base_uri": "https://localhost:8080/"
        },
        "id": "zPdGQr1kRlAk",
        "outputId": "c196445e-8cf6-404d-aa68-adb2fc186c04"
      },
      "execution_count": null,
      "outputs": [
        {
          "output_type": "execute_result",
          "data": {
            "text/plain": [
              "   요일    정원  휴가   출장   야근   재택     년  월  식사가능인원수  공휴일전후  ...  난류  묵류  어패류  육류  \\\n",
              "0   3  2601  50  150  238  0.0  2016  2   2401.0      0  ...   0   0    0   1   \n",
              "1   4  2601  50  173  319  0.0  2016  2   2378.0      0  ...   0   0    1   0   \n",
              "2   2  2601  56  180  111  0.0  2016  2   2365.0      0  ...   0   0    0   1   \n",
              "\n",
              "   채소류  해조류  떡류  김치류  만두류  면류  \n",
              "0    0    0   0    0    0   0  \n",
              "1    0    0   0    0    0   0  \n",
              "2    0    0   0    0    0   0  \n",
              "\n",
              "[3 rows x 29 columns]"
            ],
            "text/html": [
              "\n",
              "  <div id=\"df-b8bb1b03-960c-4728-87df-11c137e16c38\">\n",
              "    <div class=\"colab-df-container\">\n",
              "      <div>\n",
              "<style scoped>\n",
              "    .dataframe tbody tr th:only-of-type {\n",
              "        vertical-align: middle;\n",
              "    }\n",
              "\n",
              "    .dataframe tbody tr th {\n",
              "        vertical-align: top;\n",
              "    }\n",
              "\n",
              "    .dataframe thead th {\n",
              "        text-align: right;\n",
              "    }\n",
              "</style>\n",
              "<table border=\"1\" class=\"dataframe\">\n",
              "  <thead>\n",
              "    <tr style=\"text-align: right;\">\n",
              "      <th></th>\n",
              "      <th>요일</th>\n",
              "      <th>정원</th>\n",
              "      <th>휴가</th>\n",
              "      <th>출장</th>\n",
              "      <th>야근</th>\n",
              "      <th>재택</th>\n",
              "      <th>년</th>\n",
              "      <th>월</th>\n",
              "      <th>식사가능인원수</th>\n",
              "      <th>공휴일전후</th>\n",
              "      <th>...</th>\n",
              "      <th>난류</th>\n",
              "      <th>묵류</th>\n",
              "      <th>어패류</th>\n",
              "      <th>육류</th>\n",
              "      <th>채소류</th>\n",
              "      <th>해조류</th>\n",
              "      <th>떡류</th>\n",
              "      <th>김치류</th>\n",
              "      <th>만두류</th>\n",
              "      <th>면류</th>\n",
              "    </tr>\n",
              "  </thead>\n",
              "  <tbody>\n",
              "    <tr>\n",
              "      <th>0</th>\n",
              "      <td>3</td>\n",
              "      <td>2601</td>\n",
              "      <td>50</td>\n",
              "      <td>150</td>\n",
              "      <td>238</td>\n",
              "      <td>0.0</td>\n",
              "      <td>2016</td>\n",
              "      <td>2</td>\n",
              "      <td>2401.0</td>\n",
              "      <td>0</td>\n",
              "      <td>...</td>\n",
              "      <td>0</td>\n",
              "      <td>0</td>\n",
              "      <td>0</td>\n",
              "      <td>1</td>\n",
              "      <td>0</td>\n",
              "      <td>0</td>\n",
              "      <td>0</td>\n",
              "      <td>0</td>\n",
              "      <td>0</td>\n",
              "      <td>0</td>\n",
              "    </tr>\n",
              "    <tr>\n",
              "      <th>1</th>\n",
              "      <td>4</td>\n",
              "      <td>2601</td>\n",
              "      <td>50</td>\n",
              "      <td>173</td>\n",
              "      <td>319</td>\n",
              "      <td>0.0</td>\n",
              "      <td>2016</td>\n",
              "      <td>2</td>\n",
              "      <td>2378.0</td>\n",
              "      <td>0</td>\n",
              "      <td>...</td>\n",
              "      <td>0</td>\n",
              "      <td>0</td>\n",
              "      <td>1</td>\n",
              "      <td>0</td>\n",
              "      <td>0</td>\n",
              "      <td>0</td>\n",
              "      <td>0</td>\n",
              "      <td>0</td>\n",
              "      <td>0</td>\n",
              "      <td>0</td>\n",
              "    </tr>\n",
              "    <tr>\n",
              "      <th>2</th>\n",
              "      <td>2</td>\n",
              "      <td>2601</td>\n",
              "      <td>56</td>\n",
              "      <td>180</td>\n",
              "      <td>111</td>\n",
              "      <td>0.0</td>\n",
              "      <td>2016</td>\n",
              "      <td>2</td>\n",
              "      <td>2365.0</td>\n",
              "      <td>0</td>\n",
              "      <td>...</td>\n",
              "      <td>0</td>\n",
              "      <td>0</td>\n",
              "      <td>0</td>\n",
              "      <td>1</td>\n",
              "      <td>0</td>\n",
              "      <td>0</td>\n",
              "      <td>0</td>\n",
              "      <td>0</td>\n",
              "      <td>0</td>\n",
              "      <td>0</td>\n",
              "    </tr>\n",
              "  </tbody>\n",
              "</table>\n",
              "<p>3 rows × 29 columns</p>\n",
              "</div>\n",
              "      <button class=\"colab-df-convert\" onclick=\"convertToInteractive('df-b8bb1b03-960c-4728-87df-11c137e16c38')\"\n",
              "              title=\"Convert this dataframe to an interactive table.\"\n",
              "              style=\"display:none;\">\n",
              "        \n",
              "  <svg xmlns=\"http://www.w3.org/2000/svg\" height=\"24px\"viewBox=\"0 0 24 24\"\n",
              "       width=\"24px\">\n",
              "    <path d=\"M0 0h24v24H0V0z\" fill=\"none\"/>\n",
              "    <path d=\"M18.56 5.44l.94 2.06.94-2.06 2.06-.94-2.06-.94-.94-2.06-.94 2.06-2.06.94zm-11 1L8.5 8.5l.94-2.06 2.06-.94-2.06-.94L8.5 2.5l-.94 2.06-2.06.94zm10 10l.94 2.06.94-2.06 2.06-.94-2.06-.94-.94-2.06-.94 2.06-2.06.94z\"/><path d=\"M17.41 7.96l-1.37-1.37c-.4-.4-.92-.59-1.43-.59-.52 0-1.04.2-1.43.59L10.3 9.45l-7.72 7.72c-.78.78-.78 2.05 0 2.83L4 21.41c.39.39.9.59 1.41.59.51 0 1.02-.2 1.41-.59l7.78-7.78 2.81-2.81c.8-.78.8-2.07 0-2.86zM5.41 20L4 18.59l7.72-7.72 1.47 1.35L5.41 20z\"/>\n",
              "  </svg>\n",
              "      </button>\n",
              "      \n",
              "  <style>\n",
              "    .colab-df-container {\n",
              "      display:flex;\n",
              "      flex-wrap:wrap;\n",
              "      gap: 12px;\n",
              "    }\n",
              "\n",
              "    .colab-df-convert {\n",
              "      background-color: #E8F0FE;\n",
              "      border: none;\n",
              "      border-radius: 50%;\n",
              "      cursor: pointer;\n",
              "      display: none;\n",
              "      fill: #1967D2;\n",
              "      height: 32px;\n",
              "      padding: 0 0 0 0;\n",
              "      width: 32px;\n",
              "    }\n",
              "\n",
              "    .colab-df-convert:hover {\n",
              "      background-color: #E2EBFA;\n",
              "      box-shadow: 0px 1px 2px rgba(60, 64, 67, 0.3), 0px 1px 3px 1px rgba(60, 64, 67, 0.15);\n",
              "      fill: #174EA6;\n",
              "    }\n",
              "\n",
              "    [theme=dark] .colab-df-convert {\n",
              "      background-color: #3B4455;\n",
              "      fill: #D2E3FC;\n",
              "    }\n",
              "\n",
              "    [theme=dark] .colab-df-convert:hover {\n",
              "      background-color: #434B5C;\n",
              "      box-shadow: 0px 1px 3px 1px rgba(0, 0, 0, 0.15);\n",
              "      filter: drop-shadow(0px 1px 2px rgba(0, 0, 0, 0.3));\n",
              "      fill: #FFFFFF;\n",
              "    }\n",
              "  </style>\n",
              "\n",
              "      <script>\n",
              "        const buttonEl =\n",
              "          document.querySelector('#df-b8bb1b03-960c-4728-87df-11c137e16c38 button.colab-df-convert');\n",
              "        buttonEl.style.display =\n",
              "          google.colab.kernel.accessAllowed ? 'block' : 'none';\n",
              "\n",
              "        async function convertToInteractive(key) {\n",
              "          const element = document.querySelector('#df-b8bb1b03-960c-4728-87df-11c137e16c38');\n",
              "          const dataTable =\n",
              "            await google.colab.kernel.invokeFunction('convertToInteractive',\n",
              "                                                     [key], {});\n",
              "          if (!dataTable) return;\n",
              "\n",
              "          const docLinkHtml = 'Like what you see? Visit the ' +\n",
              "            '<a target=\"_blank\" href=https://colab.research.google.com/notebooks/data_table.ipynb>data table notebook</a>'\n",
              "            + ' to learn more about interactive tables.';\n",
              "          element.innerHTML = '';\n",
              "          dataTable['output_type'] = 'display_data';\n",
              "          await google.colab.output.renderOutput(dataTable, element);\n",
              "          const docLink = document.createElement('div');\n",
              "          docLink.innerHTML = docLinkHtml;\n",
              "          element.appendChild(docLink);\n",
              "        }\n",
              "      </script>\n",
              "    </div>\n",
              "  </div>\n",
              "  "
            ]
          },
          "metadata": {},
          "execution_count": 83
        }
      ]
    },
    {
      "cell_type": "markdown",
      "source": [
        "라벨 인코딩 결과 아래와 같이 모든 피처들이 숫자형으로 변환됨."
      ],
      "metadata": {
        "id": "1NlFqfyaYgTa"
      }
    },
    {
      "cell_type": "code",
      "source": [
        "l_X.info()"
      ],
      "metadata": {
        "colab": {
          "base_uri": "https://localhost:8080/"
        },
        "id": "zwnDIcByRsuU",
        "outputId": "c18e9981-a236-44c9-a284-e6fa29913bc5"
      },
      "execution_count": null,
      "outputs": [
        {
          "output_type": "stream",
          "name": "stdout",
          "text": [
            "<class 'pandas.core.frame.DataFrame'>\n",
            "RangeIndex: 1161 entries, 0 to 1160\n",
            "Data columns (total 29 columns):\n",
            " #   Column      Non-Null Count  Dtype  \n",
            "---  ------      --------------  -----  \n",
            " 0   요일          1161 non-null   int64  \n",
            " 1   정원          1161 non-null   int64  \n",
            " 2   휴가          1161 non-null   int64  \n",
            " 3   출장          1161 non-null   int64  \n",
            " 4   야근          1161 non-null   int64  \n",
            " 5   재택          1161 non-null   float64\n",
            " 6   년           1161 non-null   int64  \n",
            " 7   월           1161 non-null   int64  \n",
            " 8   식사가능인원수     1161 non-null   float64\n",
            " 9   공휴일전후       1161 non-null   int64  \n",
            " 10  월_계절        1161 non-null   int64  \n",
            " 11  평균기온(°C)    1161 non-null   float64\n",
            " 12  최저기온(°C)    1161 non-null   float64\n",
            " 13  최고기온(°C)    1161 non-null   float64\n",
            " 14  일강수량(mm)    1161 non-null   float64\n",
            " 15  평균 상대습도(%)  1161 non-null   float64\n",
            " 16  l_bob       1161 non-null   int64  \n",
            " 17  곡류          1161 non-null   int64  \n",
            " 18  두류          1161 non-null   int64  \n",
            " 19  난류          1161 non-null   int64  \n",
            " 20  묵류          1161 non-null   int64  \n",
            " 21  어패류         1161 non-null   int64  \n",
            " 22  육류          1161 non-null   int64  \n",
            " 23  채소류         1161 non-null   int64  \n",
            " 24  해조류         1161 non-null   int64  \n",
            " 25  떡류          1161 non-null   int64  \n",
            " 26  김치류         1161 non-null   int64  \n",
            " 27  만두류         1161 non-null   int64  \n",
            " 28  면류          1161 non-null   int64  \n",
            "dtypes: float64(7), int64(22)\n",
            "memory usage: 263.2 KB\n"
          ]
        }
      ]
    },
    {
      "cell_type": "code",
      "source": [
        "d_X.info()"
      ],
      "metadata": {
        "id": "zwKv59L2RuRU",
        "colab": {
          "base_uri": "https://localhost:8080/"
        },
        "outputId": "d8480164-e5ef-4c62-81e0-b1c39a175e2d"
      },
      "execution_count": null,
      "outputs": [
        {
          "output_type": "stream",
          "name": "stdout",
          "text": [
            "<class 'pandas.core.frame.DataFrame'>\n",
            "RangeIndex: 1161 entries, 0 to 1160\n",
            "Data columns (total 28 columns):\n",
            " #   Column      Non-Null Count  Dtype  \n",
            "---  ------      --------------  -----  \n",
            " 0   요일          1161 non-null   int64  \n",
            " 1   정원          1161 non-null   int64  \n",
            " 2   휴가          1161 non-null   int64  \n",
            " 3   출장          1161 non-null   int64  \n",
            " 4   야근          1161 non-null   int64  \n",
            " 5   재택          1161 non-null   float64\n",
            " 6   년           1161 non-null   int64  \n",
            " 7   월           1161 non-null   int64  \n",
            " 8   공휴일전후       1161 non-null   int64  \n",
            " 9   월_계절        1161 non-null   int64  \n",
            " 10  평균기온(°C)    1161 non-null   float64\n",
            " 11  최저기온(°C)    1161 non-null   float64\n",
            " 12  최고기온(°C)    1161 non-null   float64\n",
            " 13  일강수량(mm)    1161 non-null   float64\n",
            " 14  평균 상대습도(%)  1161 non-null   float64\n",
            " 15  d_bob       1161 non-null   int64  \n",
            " 16  곡류          1161 non-null   int64  \n",
            " 17  두류          1161 non-null   int64  \n",
            " 18  난류          1161 non-null   int64  \n",
            " 19  묵류          1161 non-null   int64  \n",
            " 20  어패류         1161 non-null   int64  \n",
            " 21  육류          1161 non-null   int64  \n",
            " 22  채소류         1161 non-null   int64  \n",
            " 23  해조류         1161 non-null   int64  \n",
            " 24  떡류          1161 non-null   int64  \n",
            " 25  김치류         1161 non-null   int64  \n",
            " 26  만두류         1161 non-null   int64  \n",
            " 27  면류          1161 non-null   int64  \n",
            "dtypes: float64(6), int64(22)\n",
            "memory usage: 254.1 KB\n"
          ]
        }
      ]
    },
    {
      "cell_type": "markdown",
      "source": [
        "# **모델링**\n",
        "\n",
        "다양한 모델링을 적용했으나 xgboost와 lgbm의 혼합 형태의 점수가 가장 좋았기에 xgboost와 lgbm의 혼합 형태로 최종 모델링 진행."
      ],
      "metadata": {
        "id": "CAKZ6UnNaLtg"
      }
    },
    {
      "cell_type": "markdown",
      "source": [
        ">**<중식계 예측>**\n",
        "\n",
        "모델링 성능 향상을 위해 하이퍼 파라미터 조정"
      ],
      "metadata": {
        "id": "ur71vdaFZgSQ"
      }
    },
    {
      "cell_type": "code",
      "source": [
        "from sklearn.model_selection import GridSearchCV\n",
        "\n",
        "def print_best_params(model, params):\n",
        "    grid_model = GridSearchCV(model, param_grid=params, \n",
        "                              scoring='neg_mean_squared_error', cv=5)\n",
        "    grid_model.fit( l_X, l_y)\n",
        "    rmse = np.sqrt(-1* grid_model.best_score_)\n",
        "    print('{0} 5 CV 시 최적 평균 RMSE 값: {1}, 최적 alpha:{2}'.format(model.__class__.__name__,\n",
        "                                        np.round(rmse, 4), grid_model.best_params_))\n",
        "    return grid_model.best_estimator_\n",
        "\n",
        "#xgboost 회귀 트리\n",
        "from xgboost import XGBRegressor\n",
        "\n",
        "xgb_params = {'n_estimators':[0, 0.1 ,10,100,200,250,300]}\n",
        "xgb_reg = XGBRegressor(n_estimators=1000, learning_rate=0.05, \n",
        "                       colsample_bytree=0.5, subsample=0.8)\n",
        "best_xgb = print_best_params(xgb_reg, xgb_params)\n",
        "\n",
        "#ligthgbm 회귀 트리\n",
        "from lightgbm import LGBMRegressor\n",
        "\n",
        "lgbm_params = {'n_estimators':[0, 0.1 ,10,100,200,250,300]}\n",
        "lgbm_reg = LGBMRegressor(n_estimators=1000, learning_rate=0.05, num_leaves=4, \n",
        "                         subsample=0.6, colsample_bytree=0.4, reg_lambda=10, n_jobs=-1)\n",
        "best_lgbm = print_best_params(lgbm_reg, lgbm_params)"
      ],
      "metadata": {
        "colab": {
          "base_uri": "https://localhost:8080/"
        },
        "id": "cbdjSdPqx6A4",
        "outputId": "8322d780-c061-4a6a-f431-9c68d30e824c"
      },
      "execution_count": null,
      "outputs": [
        {
          "output_type": "stream",
          "name": "stdout",
          "text": [
            "[16:54:56] WARNING: /workspace/src/objective/regression_obj.cu:152: reg:linear is now deprecated in favor of reg:squarederror.\n",
            "[16:54:56] WARNING: /workspace/src/objective/regression_obj.cu:152: reg:linear is now deprecated in favor of reg:squarederror.\n",
            "[16:54:56] WARNING: /workspace/src/objective/regression_obj.cu:152: reg:linear is now deprecated in favor of reg:squarederror.\n",
            "[16:54:56] WARNING: /workspace/src/objective/regression_obj.cu:152: reg:linear is now deprecated in favor of reg:squarederror.\n",
            "[16:54:56] WARNING: /workspace/src/objective/regression_obj.cu:152: reg:linear is now deprecated in favor of reg:squarederror.\n",
            "[16:54:56] WARNING: /workspace/src/objective/regression_obj.cu:152: reg:linear is now deprecated in favor of reg:squarederror.\n",
            "[16:54:56] WARNING: /workspace/src/objective/regression_obj.cu:152: reg:linear is now deprecated in favor of reg:squarederror.\n",
            "[16:54:56] WARNING: /workspace/src/objective/regression_obj.cu:152: reg:linear is now deprecated in favor of reg:squarederror.\n",
            "[16:54:56] WARNING: /workspace/src/objective/regression_obj.cu:152: reg:linear is now deprecated in favor of reg:squarederror.\n",
            "[16:54:56] WARNING: /workspace/src/objective/regression_obj.cu:152: reg:linear is now deprecated in favor of reg:squarederror.\n",
            "[16:54:56] WARNING: /workspace/src/objective/regression_obj.cu:152: reg:linear is now deprecated in favor of reg:squarederror.\n",
            "[16:54:56] WARNING: /workspace/src/objective/regression_obj.cu:152: reg:linear is now deprecated in favor of reg:squarederror.\n",
            "[16:54:56] WARNING: /workspace/src/objective/regression_obj.cu:152: reg:linear is now deprecated in favor of reg:squarederror.\n",
            "[16:54:56] WARNING: /workspace/src/objective/regression_obj.cu:152: reg:linear is now deprecated in favor of reg:squarederror.\n",
            "[16:54:56] WARNING: /workspace/src/objective/regression_obj.cu:152: reg:linear is now deprecated in favor of reg:squarederror.\n",
            "[16:54:56] WARNING: /workspace/src/objective/regression_obj.cu:152: reg:linear is now deprecated in favor of reg:squarederror.\n",
            "[16:54:56] WARNING: /workspace/src/objective/regression_obj.cu:152: reg:linear is now deprecated in favor of reg:squarederror.\n",
            "[16:54:56] WARNING: /workspace/src/objective/regression_obj.cu:152: reg:linear is now deprecated in favor of reg:squarederror.\n",
            "[16:54:56] WARNING: /workspace/src/objective/regression_obj.cu:152: reg:linear is now deprecated in favor of reg:squarederror.\n",
            "[16:54:57] WARNING: /workspace/src/objective/regression_obj.cu:152: reg:linear is now deprecated in favor of reg:squarederror.\n",
            "[16:54:57] WARNING: /workspace/src/objective/regression_obj.cu:152: reg:linear is now deprecated in favor of reg:squarederror.\n",
            "[16:54:57] WARNING: /workspace/src/objective/regression_obj.cu:152: reg:linear is now deprecated in favor of reg:squarederror.\n",
            "[16:54:57] WARNING: /workspace/src/objective/regression_obj.cu:152: reg:linear is now deprecated in favor of reg:squarederror.\n",
            "[16:54:57] WARNING: /workspace/src/objective/regression_obj.cu:152: reg:linear is now deprecated in favor of reg:squarederror.\n",
            "[16:54:57] WARNING: /workspace/src/objective/regression_obj.cu:152: reg:linear is now deprecated in favor of reg:squarederror.\n",
            "[16:54:57] WARNING: /workspace/src/objective/regression_obj.cu:152: reg:linear is now deprecated in favor of reg:squarederror.\n",
            "[16:54:58] WARNING: /workspace/src/objective/regression_obj.cu:152: reg:linear is now deprecated in favor of reg:squarederror.\n",
            "[16:54:58] WARNING: /workspace/src/objective/regression_obj.cu:152: reg:linear is now deprecated in favor of reg:squarederror.\n",
            "[16:54:58] WARNING: /workspace/src/objective/regression_obj.cu:152: reg:linear is now deprecated in favor of reg:squarederror.\n",
            "[16:54:58] WARNING: /workspace/src/objective/regression_obj.cu:152: reg:linear is now deprecated in favor of reg:squarederror.\n",
            "[16:54:58] WARNING: /workspace/src/objective/regression_obj.cu:152: reg:linear is now deprecated in favor of reg:squarederror.\n",
            "XGBRegressor 5 CV 시 최적 평균 RMSE 값: 99.2665, 최적 alpha:{'n_estimators': 250}\n",
            "LGBMRegressor 5 CV 시 최적 평균 RMSE 값: 101.1563, 최적 alpha:{'n_estimators': 300}\n"
          ]
        }
      ]
    },
    {
      "cell_type": "markdown",
      "source": [
        "하이퍼 파라마터 조정 결과, 중식계 예측 시 XGBRegressor는 n_estimators가 250일 때, LGBMRegressor가 300일 때 가장 뛰어남.\n",
        "\n",
        "조정된 하이퍼 파라미터를 적용한 두 모델을 9대 1로 혼합해 성능 향상."
      ],
      "metadata": {
        "id": "i3d4R3kbZ9UY"
      }
    },
    {
      "cell_type": "code",
      "source": [
        "#  XGBoost 와 lightGBM을 혼합\n",
        "xgb_reg = XGBRegressor(n_estimators=250, learning_rate=0.05, \n",
        "                       colsample_bytree=0.5, subsample=0.8)\n",
        "lgbm_reg = LGBMRegressor(n_estimators=300, learning_rate=0.05, num_leaves=4, \n",
        "                         subsample=0.6, colsample_bytree=0.4, reg_lambda=10, n_jobs=-1)\n",
        "xgb_reg.fit( l_X, l_y)\n",
        "lgbm_reg.fit( l_X, l_y)\n",
        "xgb_pred_ln = xgb_reg.predict(l_test)\n",
        "lgbm_pred_ln = lgbm_reg.predict( l_test)\n",
        "\n",
        "pred_ln = 0.9 * xgb_pred_ln + 0.1 * lgbm_pred_ln\n",
        "preds_ln = {'최종 혼합': pred_ln,\n",
        "         'XGBM': xgb_pred_ln,\n",
        "         'LGBM': lgbm_pred_ln}\n"
      ],
      "metadata": {
        "colab": {
          "base_uri": "https://localhost:8080/"
        },
        "id": "yQJSutBkx6DP",
        "outputId": "03f350d3-7d21-4cd2-ef27-19354989b406"
      },
      "execution_count": null,
      "outputs": [
        {
          "output_type": "stream",
          "name": "stdout",
          "text": [
            "[16:54:59] WARNING: /workspace/src/objective/regression_obj.cu:152: reg:linear is now deprecated in favor of reg:squarederror.\n"
          ]
        }
      ]
    },
    {
      "cell_type": "markdown",
      "source": [
        ">**<석식계 예측>**"
      ],
      "metadata": {
        "id": "f-eBlBZhZaRx"
      }
    },
    {
      "cell_type": "markdown",
      "source": [
        "중식계 예측과 마찬가지로, 하이퍼 파라미터 조정 과정을 먼저 거침."
      ],
      "metadata": {
        "id": "O1ECygFHaTl-"
      }
    },
    {
      "cell_type": "code",
      "source": [
        "from sklearn.model_selection import GridSearchCV\n",
        "\n",
        "def print_best_params(model, params):\n",
        "    grid_model = GridSearchCV(model, param_grid=params, \n",
        "                              scoring='neg_mean_squared_error', cv=5)\n",
        "    grid_model.fit( d_X, d_y)\n",
        "    rmse = np.sqrt(-1* grid_model.best_score_)\n",
        "    print('{0} 5 CV 시 최적 평균 RMSE 값: {1}, 최적 alpha:{2}'.format(model.__class__.__name__,\n",
        "                                        np.round(rmse, 4), grid_model.best_params_))\n",
        "    return grid_model.best_estimator_\n",
        "\n",
        "#xgboost 회귀 트리\n",
        "from xgboost import XGBRegressor\n",
        "\n",
        "xgb_params = {'n_estimators':[0, 0.1 ,10,100,200,250,300]}\n",
        "xgb_reg = XGBRegressor(n_estimators=1000, learning_rate=0.05, \n",
        "                       colsample_bytree=0.5, subsample=0.8)\n",
        "best_xgb = print_best_params(xgb_reg, xgb_params)\n",
        "\n",
        "#ligthgbm 회귀 트리\n",
        "from lightgbm import LGBMRegressor\n",
        "\n",
        "lgbm_params = {'n_estimators':[0, 0.1 ,10,100,200,250,300]}\n",
        "lgbm_reg = LGBMRegressor(n_estimators=1000, learning_rate=0.05, num_leaves=4, \n",
        "                         subsample=0.6, colsample_bytree=0.4, reg_lambda=10, n_jobs=-1)\n",
        "best_lgbm = print_best_params(lgbm_reg, lgbm_params)"
      ],
      "metadata": {
        "colab": {
          "base_uri": "https://localhost:8080/"
        },
        "id": "xo4o_rNWxxEt",
        "outputId": "948540ae-cd8b-4cd2-e7e4-cdbe8106d713"
      },
      "execution_count": null,
      "outputs": [
        {
          "output_type": "stream",
          "name": "stdout",
          "text": [
            "[16:54:59] WARNING: /workspace/src/objective/regression_obj.cu:152: reg:linear is now deprecated in favor of reg:squarederror.\n",
            "[16:54:59] WARNING: /workspace/src/objective/regression_obj.cu:152: reg:linear is now deprecated in favor of reg:squarederror.\n",
            "[16:54:59] WARNING: /workspace/src/objective/regression_obj.cu:152: reg:linear is now deprecated in favor of reg:squarederror.\n",
            "[16:54:59] WARNING: /workspace/src/objective/regression_obj.cu:152: reg:linear is now deprecated in favor of reg:squarederror.\n",
            "[16:55:00] WARNING: /workspace/src/objective/regression_obj.cu:152: reg:linear is now deprecated in favor of reg:squarederror.\n",
            "[16:55:00] WARNING: /workspace/src/objective/regression_obj.cu:152: reg:linear is now deprecated in favor of reg:squarederror.\n",
            "[16:55:00] WARNING: /workspace/src/objective/regression_obj.cu:152: reg:linear is now deprecated in favor of reg:squarederror.\n",
            "[16:55:00] WARNING: /workspace/src/objective/regression_obj.cu:152: reg:linear is now deprecated in favor of reg:squarederror.\n",
            "[16:55:00] WARNING: /workspace/src/objective/regression_obj.cu:152: reg:linear is now deprecated in favor of reg:squarederror.\n",
            "[16:55:00] WARNING: /workspace/src/objective/regression_obj.cu:152: reg:linear is now deprecated in favor of reg:squarederror.\n",
            "[16:55:00] WARNING: /workspace/src/objective/regression_obj.cu:152: reg:linear is now deprecated in favor of reg:squarederror.\n",
            "[16:55:00] WARNING: /workspace/src/objective/regression_obj.cu:152: reg:linear is now deprecated in favor of reg:squarederror.\n",
            "[16:55:00] WARNING: /workspace/src/objective/regression_obj.cu:152: reg:linear is now deprecated in favor of reg:squarederror.\n",
            "[16:55:00] WARNING: /workspace/src/objective/regression_obj.cu:152: reg:linear is now deprecated in favor of reg:squarederror.\n",
            "[16:55:00] WARNING: /workspace/src/objective/regression_obj.cu:152: reg:linear is now deprecated in favor of reg:squarederror.\n",
            "[16:55:00] WARNING: /workspace/src/objective/regression_obj.cu:152: reg:linear is now deprecated in favor of reg:squarederror.\n",
            "[16:55:00] WARNING: /workspace/src/objective/regression_obj.cu:152: reg:linear is now deprecated in favor of reg:squarederror.\n",
            "[16:55:00] WARNING: /workspace/src/objective/regression_obj.cu:152: reg:linear is now deprecated in favor of reg:squarederror.\n",
            "[16:55:00] WARNING: /workspace/src/objective/regression_obj.cu:152: reg:linear is now deprecated in favor of reg:squarederror.\n",
            "[16:55:00] WARNING: /workspace/src/objective/regression_obj.cu:152: reg:linear is now deprecated in favor of reg:squarederror.\n",
            "[16:55:00] WARNING: /workspace/src/objective/regression_obj.cu:152: reg:linear is now deprecated in favor of reg:squarederror.\n",
            "[16:55:01] WARNING: /workspace/src/objective/regression_obj.cu:152: reg:linear is now deprecated in favor of reg:squarederror.\n",
            "[16:55:01] WARNING: /workspace/src/objective/regression_obj.cu:152: reg:linear is now deprecated in favor of reg:squarederror.\n",
            "[16:55:01] WARNING: /workspace/src/objective/regression_obj.cu:152: reg:linear is now deprecated in favor of reg:squarederror.\n",
            "[16:55:01] WARNING: /workspace/src/objective/regression_obj.cu:152: reg:linear is now deprecated in favor of reg:squarederror.\n",
            "[16:55:01] WARNING: /workspace/src/objective/regression_obj.cu:152: reg:linear is now deprecated in favor of reg:squarederror.\n",
            "[16:55:01] WARNING: /workspace/src/objective/regression_obj.cu:152: reg:linear is now deprecated in favor of reg:squarederror.\n",
            "[16:55:01] WARNING: /workspace/src/objective/regression_obj.cu:152: reg:linear is now deprecated in favor of reg:squarederror.\n",
            "[16:55:02] WARNING: /workspace/src/objective/regression_obj.cu:152: reg:linear is now deprecated in favor of reg:squarederror.\n",
            "[16:55:02] WARNING: /workspace/src/objective/regression_obj.cu:152: reg:linear is now deprecated in favor of reg:squarederror.\n",
            "[16:55:02] WARNING: /workspace/src/objective/regression_obj.cu:152: reg:linear is now deprecated in favor of reg:squarederror.\n",
            "XGBRegressor 5 CV 시 최적 평균 RMSE 값: 72.7058, 최적 alpha:{'n_estimators': 300}\n",
            "LGBMRegressor 5 CV 시 최적 평균 RMSE 값: 75.5122, 최적 alpha:{'n_estimators': 300}\n"
          ]
        }
      ]
    },
    {
      "cell_type": "markdown",
      "source": [
        "하이퍼 파라마터 조정 결과, 석식계 예측 시에는 XGBRegressor와 LGBMRegressor의 n_estimators가 모두 300일 때 가장 뛰어남.\n",
        "\n",
        "조정된 하이퍼 파라미터를 적용한 두 모델을 9대 1로 혼합해 성능 향상."
      ],
      "metadata": {
        "id": "qLU3-5tqafep"
      }
    },
    {
      "cell_type": "code",
      "source": [
        "#  XGBoost 와 lightGBM을 혼합\n",
        "xgb_reg = XGBRegressor(n_estimators=300, learning_rate=0.05, \n",
        "                       colsample_bytree=0.5, subsample=0.8)\n",
        "lgbm_reg = LGBMRegressor(n_estimators=300, learning_rate=0.05, num_leaves=4, \n",
        "                         subsample=0.6, colsample_bytree=0.4, reg_lambda=10, n_jobs=-1)\n",
        "xgb_reg.fit( d_X, d_y)\n",
        "lgbm_reg.fit( d_X, d_y)\n",
        "xgb_pred_dn = xgb_reg.predict(d_test)\n",
        "lgbm_pred_dn = lgbm_reg.predict(d_test)\n",
        "\n",
        "pred_dn = 0.9 * xgb_pred_dn + 0.1 * lgbm_pred_dn\n",
        "preds_dn = {'최종 혼합': pred_dn,\n",
        "         'XGBM': xgb_pred_dn,\n",
        "         'LGBM': lgbm_pred_dn}"
      ],
      "metadata": {
        "colab": {
          "base_uri": "https://localhost:8080/"
        },
        "id": "2Ek52LqJx19P",
        "outputId": "cfa8e76c-9dd7-4e35-d58b-d7f185b44318"
      },
      "execution_count": null,
      "outputs": [
        {
          "output_type": "stream",
          "name": "stdout",
          "text": [
            "[16:55:03] WARNING: /workspace/src/objective/regression_obj.cu:152: reg:linear is now deprecated in favor of reg:squarederror.\n"
          ]
        }
      ]
    },
    {
      "cell_type": "code",
      "source": [
        "submission= pd.read_table('/content/drive/MyDrive/YB_2조/23년 1월 프로젝트/sample_submission.csv',sep=',')\n",
        "\n",
        "submission['중식계'] = pred_ln\n",
        "submission['석식계'] = pred_dn\n",
        "submission.to_csv('submission_최종.csv', index = False)"
      ],
      "metadata": {
        "id": "jFPHttXIzBCn"
      },
      "execution_count": null,
      "outputs": []
    },
    {
      "cell_type": "markdown",
      "source": [
        "# **결과**"
      ],
      "metadata": {
        "id": "9ohjhukea2pP"
      }
    },
    {
      "cell_type": "markdown",
      "source": [
        "xgboost와 lgbm을 혼합했을 때 78.43점으로 점수가 가장 좋았음.\n",
        "\n",
        "그 외에는 모델링에 pyaret 적용 시 84점, catboost 적용 시 85점이 나옴."
      ],
      "metadata": {
        "id": "YzH7-6b6a5rv"
      }
    }
  ]
}