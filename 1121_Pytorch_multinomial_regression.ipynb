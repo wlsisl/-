{
  "cells": [
    {
      "cell_type": "markdown",
      "metadata": {
        "id": "view-in-github",
        "colab_type": "text"
      },
      "source": [
        "<a href=\"https://colab.research.google.com/github/wlsisl/-/blob/main/1121_Pytorch_multinomial_regression.ipynb\" target=\"_parent\"><img src=\"https://colab.research.google.com/assets/colab-badge.svg\" alt=\"Open In Colab\"/></a>"
      ]
    },
    {
      "cell_type": "markdown",
      "source": [
        "# 2129015 통계학과 백지연"
      ],
      "metadata": {
        "id": "3LnMCXt3Q8g2"
      },
      "id": "3LnMCXt3Q8g2"
    },
    {
      "cell_type": "markdown",
      "id": "3oSL_cLemi3d",
      "metadata": {
        "id": "3oSL_cLemi3d"
      },
      "source": [
        "# 1. Multinomial regression with Python\n"
      ]
    },
    {
      "cell_type": "markdown",
      "id": "a2wB8GZWTAtV",
      "metadata": {
        "id": "a2wB8GZWTAtV"
      },
      "source": [
        "## Exercise 2.3.4 Revisiting Iris data (HW)\n",
        "\n",
        "We use `train_loader` to train the model, and use `test_loader` to calculate the test accuracy. Use the following code to train the model, and calculate the test accuracy. In this case, you need to define your own loss function to calculate cross-entropy function from `q_hat` and `tt`.\n",
        "```\n",
        "z_model = nn.Linear(784, 10, bias=True)\n",
        "```\n",
        "and\n",
        "```\n",
        "for xx, tt in train_loader:\n",
        "  zhat = z_model(xx)\n",
        "  q_hat = torch.softmax()\n",
        "```"
      ]
    },
    {
      "cell_type": "markdown",
      "id": "_dPfo6OoSXGe",
      "metadata": {
        "id": "_dPfo6OoSXGe"
      },
      "source": [
        "We will be using the famous Iris dataset, which contains measurements of the sepal length, sepal width, petal length, and petal width for three species of iris flowers (Iris setosa, Iris versicolor, and Iris virginica). The goal is to predict the species of an iris flower based on these measurements."
      ]
    },
    {
      "cell_type": "code",
      "source": [
        "import torch\n",
        "import torchvision\n",
        "import numpy as np\n",
        "import matplotlib.pyplot as plt\n",
        "import sklearn.datasets\n",
        "import torch.nn as nn\n",
        "from torch.utils.data import Dataset, DataLoader, TensorDataset\n",
        "import pandas as pd\n",
        "from tqdm import tqdm\n",
        "\n",
        "from sklearn.datasets import load_iris\n",
        "from sklearn.model_selection import train_test_split"
      ],
      "metadata": {
        "id": "YbeyxYBXDy8n"
      },
      "id": "YbeyxYBXDy8n",
      "execution_count": 6,
      "outputs": []
    },
    {
      "cell_type": "code",
      "execution_count": 41,
      "id": "Kyo_KXiCSHBM",
      "metadata": {
        "colab": {
          "base_uri": "https://localhost:8080/",
          "height": 0
        },
        "id": "Kyo_KXiCSHBM",
        "outputId": "22d271b7-d6ed-4d3c-e88c-965d81a6393b"
      },
      "outputs": [
        {
          "output_type": "stream",
          "name": "stderr",
          "text": [
            "<ipython-input-41-33c8e6db8fad>:11: UserWarning: To copy construct from a tensor, it is recommended to use sourceTensor.clone().detach() or sourceTensor.clone().detach().requires_grad_(True), rather than torch.tensor(sourceTensor).\n",
            "  t = torch.nn.functional.one_hot(torch.tensor(y, dtype=torch.int64), num_classes=3)\n",
            "<ipython-input-41-33c8e6db8fad>:12: UserWarning: To copy construct from a tensor, it is recommended to use sourceTensor.clone().detach() or sourceTensor.clone().detach().requires_grad_(True), rather than torch.tensor(sourceTensor).\n",
            "  t = torch.tensor(t, dtype=torch.float32)\n"
          ]
        }
      ],
      "source": [
        "from sklearn.datasets import load_iris\n",
        "from sklearn.model_selection import train_test_split\n",
        "\n",
        "# Load the Iris dataset\n",
        "iris = load_iris()\n",
        "\n",
        "# Convert the data to PyTorch tensors\n",
        "X = torch.tensor(iris.data, dtype=torch.float32)\n",
        "y = torch.tensor(iris.target, dtype=torch.long)\n",
        "\n",
        "t = torch.nn.functional.one_hot(torch.tensor(y, dtype=torch.int64), num_classes=3)\n",
        "t = torch.tensor(t, dtype=torch.float32)\n",
        "\n",
        "#linear regression 하려면 정규화 해야 잘 되기때문에\n",
        "# Normalize the input data\n",
        "mean = torch.mean(X, dim=0)\n",
        "std = torch.std(X, dim=0)\n",
        "X = (X - mean) / std\n",
        "\n",
        "# Split the dataset into training and validation sets\n",
        "X_train, X_val, t_train, t_val = train_test_split(X, t, test_size=0.2, random_state=42)\n",
        "\n",
        "# Create PyTorch Datasets\n",
        "train_dataset = TensorDataset(X_train, t_train)\n",
        "val_dataset = TensorDataset(X_val, t_val)\n",
        "\n",
        "# Define the data loaders\n",
        "batch_size = 16\n",
        "train_loader = DataLoader(train_dataset, batch_size=batch_size, shuffle=True)\n",
        "test_loader = DataLoader(val_dataset, batch_size=batch_size, shuffle=False)\n"
      ]
    },
    {
      "cell_type": "markdown",
      "source": [
        "* X: 설명변수\n",
        "* y: 클래스 값\n",
        "* t: y의 원핫인코딩"
      ],
      "metadata": {
        "id": "UT_WR8nd5lmZ"
      },
      "id": "UT_WR8nd5lmZ"
    },
    {
      "cell_type": "markdown",
      "id": "NNktCPQ3Sf-w",
      "metadata": {
        "id": "NNktCPQ3Sf-w"
      },
      "source": [
        "Use multinomial logistic regression model to classiy the iris, and calculate the test error."
      ]
    },
    {
      "cell_type": "code",
      "source": [
        "X[:1]"
      ],
      "metadata": {
        "colab": {
          "base_uri": "https://localhost:8080/",
          "height": 0
        },
        "id": "xeCI37wLEPaN",
        "outputId": "a9d3a055-4fa2-45ca-a187-da979c033c02"
      },
      "id": "xeCI37wLEPaN",
      "execution_count": 7,
      "outputs": [
        {
          "output_type": "execute_result",
          "data": {
            "text/plain": [
              "tensor([[-0.8977,  1.0156, -1.3358, -1.3111]])"
            ]
          },
          "metadata": {},
          "execution_count": 7
        }
      ]
    },
    {
      "cell_type": "code",
      "source": [
        "y[:1]"
      ],
      "metadata": {
        "colab": {
          "base_uri": "https://localhost:8080/",
          "height": 0
        },
        "id": "g99R_XreEdYu",
        "outputId": "bf739e71-bcf4-470b-ef99-cc35c64111a3"
      },
      "id": "g99R_XreEdYu",
      "execution_count": 8,
      "outputs": [
        {
          "output_type": "execute_result",
          "data": {
            "text/plain": [
              "tensor([0])"
            ]
          },
          "metadata": {},
          "execution_count": 8
        }
      ]
    },
    {
      "cell_type": "markdown",
      "source": [
        "현재 train_loader에는 원핫인코딩 된 값에다가 x값을 받음"
      ],
      "metadata": {
        "id": "gcCYlHQM5zpE"
      },
      "id": "gcCYlHQM5zpE"
    },
    {
      "cell_type": "code",
      "source": [
        "for xx, tt in train_loader:\n",
        "    print(xx, tt)"
      ],
      "metadata": {
        "colab": {
          "base_uri": "https://localhost:8080/",
          "height": 0
        },
        "id": "xxerprELKhtp",
        "outputId": "3c969ff6-8321-4a45-ee23-8b7f7ed03dc4"
      },
      "id": "xxerprELKhtp",
      "execution_count": 42,
      "outputs": [
        {
          "output_type": "stream",
          "name": "stdout",
          "text": [
            "tensor([[-0.7769,  2.3922, -1.2791, -1.4422],\n",
            "        [-1.0184,  1.0156, -1.3924, -1.1799],\n",
            "        [-0.7769,  1.0156, -1.2791, -1.3111],\n",
            "        [ 2.1214, -0.1315,  1.6099,  1.1816],\n",
            "        [ 0.3100, -0.1315,  0.4770,  0.2633],\n",
            "        [-0.6561,  1.4745, -1.2791, -1.3111],\n",
            "        [-0.1731, -1.2787,  0.7036,  1.0504],\n",
            "        [ 1.0345,  0.5567,  1.1001,  1.1816],\n",
            "        [-0.5354, -0.1315,  0.4203,  0.3945],\n",
            "        [-0.8977,  1.7039, -1.0525, -1.0487],\n",
            "        [ 0.1892, -1.9670,  0.1371, -0.2615],\n",
            "        [ 0.1892, -0.1315,  0.5903,  0.7880],\n",
            "        [ 0.6722, -0.8198,  0.8735,  0.9192],\n",
            "        [ 0.3100, -0.3610,  0.5336,  0.2633],\n",
            "        [-0.7769, -0.8198,  0.0804,  0.2633],\n",
            "        [ 1.0345, -0.1315,  0.7036,  0.6568]]) tensor([[1., 0., 0.],\n",
            "        [1., 0., 0.],\n",
            "        [1., 0., 0.],\n",
            "        [0., 0., 1.],\n",
            "        [0., 1., 0.],\n",
            "        [1., 0., 0.],\n",
            "        [0., 0., 1.],\n",
            "        [0., 0., 1.],\n",
            "        [0., 1., 0.],\n",
            "        [1., 0., 0.],\n",
            "        [0., 1., 0.],\n",
            "        [0., 0., 1.],\n",
            "        [0., 0., 1.],\n",
            "        [0., 1., 0.],\n",
            "        [0., 1., 0.],\n",
            "        [0., 1., 0.]])\n",
            "tensor([[ 1.2761e+00,  9.7889e-02,  9.3015e-01,  1.1816e+00],\n",
            "        [-4.1462e-01,  2.6216e+00, -1.3358e+00, -1.3111e+00],\n",
            "        [ 1.0345e+00,  9.7889e-02,  3.6368e-01,  2.6326e-01],\n",
            "        [-1.3807e+00,  3.2732e-01, -1.3924e+00, -1.3111e+00],\n",
            "        [ 5.5149e-01, -1.7375e+00,  3.6368e-01,  1.3207e-01],\n",
            "        [ 1.6384e+00, -1.3154e-01,  1.1567e+00,  5.2565e-01],\n",
            "        [-8.9767e-01, -1.2787e+00, -4.2939e-01, -1.3032e-01],\n",
            "        [-1.1392e+00, -1.3154e-01, -1.3358e+00, -1.3111e+00],\n",
            "        [-5.2330e-02, -5.9039e-01,  7.6021e-01,  1.5752e+00],\n",
            "        [ 1.8799e+00, -5.9039e-01,  1.3267e+00,  9.1922e-01],\n",
            "        [-5.2330e-02, -1.0493e+00,  1.3709e-01,  8.7455e-04],\n",
            "        [-7.7691e-01,  7.8617e-01, -1.3358e+00, -1.3111e+00],\n",
            "        [ 7.9301e-01, -1.3154e-01,  9.8680e-01,  7.8803e-01],\n",
            "        [-5.3538e-01,  7.8617e-01, -1.1658e+00, -1.3111e+00],\n",
            "        [-1.7430e+00,  3.2732e-01, -1.3924e+00, -1.3111e+00],\n",
            "        [ 4.3072e-01, -5.9039e-01,  5.9027e-01,  7.8803e-01]]) tensor([[0., 0., 1.],\n",
            "        [1., 0., 0.],\n",
            "        [0., 1., 0.],\n",
            "        [1., 0., 0.],\n",
            "        [0., 1., 0.],\n",
            "        [0., 0., 1.],\n",
            "        [0., 1., 0.],\n",
            "        [1., 0., 0.],\n",
            "        [0., 0., 1.],\n",
            "        [0., 0., 1.],\n",
            "        [0., 1., 0.],\n",
            "        [1., 0., 0.],\n",
            "        [0., 0., 1.],\n",
            "        [1., 0., 0.],\n",
            "        [1., 0., 0.],\n",
            "        [0., 0., 1.]])\n",
            "tensor([[-0.4146, -1.5081,  0.0238, -0.1303],\n",
            "        [ 1.6384,  0.3273,  1.2700,  0.7880],\n",
            "        [-0.5354,  1.9333, -1.3924, -1.0487],\n",
            "        [ 0.5515, -1.2787,  0.6469,  0.3945],\n",
            "        [-1.2600,  0.7862, -1.0525, -1.3111],\n",
            "        [ 0.5515,  0.5567,  1.2700,  1.7064],\n",
            "        [-0.8977,  1.0156, -1.3358, -1.1799],\n",
            "        [-0.5354,  1.9333, -1.1658, -1.0487],\n",
            "        [ 1.7591, -0.3610,  1.4400,  0.7880],\n",
            "        [ 0.4307, -0.3610,  0.3070,  0.1321],\n",
            "        [-0.4146, -1.2787,  0.1371,  0.1321],\n",
            "        [-0.8977,  1.0156, -1.3358, -1.3111],\n",
            "        [ 0.1892,  0.7862,  0.4203,  0.5256],\n",
            "        [ 1.2761,  0.0979,  0.6469,  0.3945],\n",
            "        [ 1.0345,  0.0979,  1.0434,  1.5752],\n",
            "        [-0.0523, -0.8198,  0.7602,  0.9192]]) tensor([[0., 1., 0.],\n",
            "        [0., 0., 1.],\n",
            "        [1., 0., 0.],\n",
            "        [0., 1., 0.],\n",
            "        [1., 0., 0.],\n",
            "        [0., 0., 1.],\n",
            "        [1., 0., 0.],\n",
            "        [1., 0., 0.],\n",
            "        [0., 0., 1.],\n",
            "        [0., 1., 0.],\n",
            "        [0., 1., 0.],\n",
            "        [1., 0., 0.],\n",
            "        [0., 1., 0.],\n",
            "        [0., 1., 0.],\n",
            "        [0., 0., 1.],\n",
            "        [0., 0., 1.]])\n",
            "tensor([[-0.4146, -1.7375,  0.1371,  0.1321],\n",
            "        [-1.5015,  0.0979, -1.2791, -1.3111],\n",
            "        [ 1.0345,  0.0979,  0.5336,  0.3945],\n",
            "        [-1.5015,  0.3273, -1.3358, -1.3111],\n",
            "        [-1.0184, -0.1315, -1.2225, -1.3111],\n",
            "        [ 0.5515, -1.2787,  0.7036,  0.9192],\n",
            "        [ 0.1892, -0.8198,  0.7602,  0.5256],\n",
            "        [-0.5354,  1.4745, -1.2791, -1.3111],\n",
            "        [ 0.6722,  0.3273,  0.8735,  1.4440],\n",
            "        [-1.1392, -1.5081, -0.2594, -0.2615],\n",
            "        [ 0.6722,  0.3273,  0.4203,  0.3945],\n",
            "        [-1.0184, -1.7375, -0.2594, -0.2615],\n",
            "        [-0.2939, -0.1315,  0.4203,  0.3945],\n",
            "        [ 1.3968,  0.3273,  0.5336,  0.2633],\n",
            "        [ 0.9138, -0.1315,  0.3637,  0.2633],\n",
            "        [-0.1731, -0.5904,  0.1937,  0.1321]]) tensor([[0., 1., 0.],\n",
            "        [1., 0., 0.],\n",
            "        [0., 1., 0.],\n",
            "        [1., 0., 0.],\n",
            "        [1., 0., 0.],\n",
            "        [0., 0., 1.],\n",
            "        [0., 1., 0.],\n",
            "        [1., 0., 0.],\n",
            "        [0., 0., 1.],\n",
            "        [0., 1., 0.],\n",
            "        [0., 1., 0.],\n",
            "        [0., 1., 0.],\n",
            "        [0., 1., 0.],\n",
            "        [0., 1., 0.],\n",
            "        [0., 1., 0.],\n",
            "        [0., 1., 0.]])\n",
            "tensor([[ 0.5515, -0.3610,  1.0434,  0.7880],\n",
            "        [ 0.9138, -0.3610,  0.4770,  0.1321],\n",
            "        [-1.0184, -2.4258, -0.1462, -0.2615],\n",
            "        [-0.8977,  0.5567, -1.1658, -0.9175],\n",
            "        [-1.0184,  0.3273, -1.4490, -1.3111],\n",
            "        [-1.7430, -0.1315, -1.3924, -1.3111],\n",
            "        [ 1.6384,  1.2450,  1.3267,  1.7064],\n",
            "        [-0.0523, -0.8198,  0.7602,  0.9192],\n",
            "        [ 0.5515, -0.5904,  0.7602,  0.3945],\n",
            "        [-1.1392,  1.2450, -1.3358, -1.4422],\n",
            "        [-0.1731, -1.0493, -0.1462, -0.2615],\n",
            "        [ 2.2422, -0.5904,  1.6666,  1.0504],\n",
            "        [-0.4146, -1.5081, -0.0329, -0.2615],\n",
            "        [-1.0184,  1.0156, -1.2225, -0.7863],\n",
            "        [ 0.7930, -0.1315,  0.8169,  1.0504],\n",
            "        [-0.8977,  1.7039, -1.2225, -1.3111]]) tensor([[0., 0., 1.],\n",
            "        [0., 1., 0.],\n",
            "        [0., 1., 0.],\n",
            "        [1., 0., 0.],\n",
            "        [1., 0., 0.],\n",
            "        [1., 0., 0.],\n",
            "        [0., 0., 1.],\n",
            "        [0., 0., 1.],\n",
            "        [0., 0., 1.],\n",
            "        [1., 0., 0.],\n",
            "        [0., 1., 0.],\n",
            "        [0., 0., 1.],\n",
            "        [0., 1., 0.],\n",
            "        [1., 0., 0.],\n",
            "        [0., 0., 1.],\n",
            "        [1., 0., 0.]])\n",
            "tensor([[-1.1392e+00,  9.7889e-02, -1.2791e+00, -1.3111e+00],\n",
            "        [ 3.0996e-01, -1.0493e+00,  1.0434e+00,  2.6326e-01],\n",
            "        [-1.8638e+00, -1.3154e-01, -1.5057e+00, -1.4422e+00],\n",
            "        [-1.2600e+00,  7.8617e-01, -1.2225e+00, -1.3111e+00],\n",
            "        [ 6.7225e-01,  9.7889e-02,  9.8680e-01,  7.8803e-01],\n",
            "        [ 4.3072e-01,  7.8617e-01,  9.3015e-01,  1.4440e+00],\n",
            "        [-2.9386e-01, -8.1982e-01,  2.5038e-01,  1.3207e-01],\n",
            "        [ 6.8433e-02, -1.3154e-01,  7.6021e-01,  7.8803e-01],\n",
            "        [-1.7430e+00, -3.6097e-01, -1.3358e+00, -1.3111e+00],\n",
            "        [ 1.1553e+00, -1.3154e-01,  9.8680e-01,  1.1816e+00],\n",
            "        [-2.9386e-01, -5.9039e-01,  6.4692e-01,  1.0504e+00],\n",
            "        [ 5.5149e-01,  7.8617e-01,  1.0434e+00,  1.5752e+00],\n",
            "        [ 5.5149e-01, -8.1982e-01,  6.4692e-01,  7.8803e-01],\n",
            "        [-4.1462e-01, -1.0493e+00,  3.6368e-01,  8.7455e-04],\n",
            "        [ 1.8920e-01, -1.9670e+00,  7.0356e-01,  3.9445e-01],\n",
            "        [-5.2330e-02,  2.1627e+00, -1.4490e+00, -1.3111e+00]]) tensor([[1., 0., 0.],\n",
            "        [0., 0., 1.],\n",
            "        [1., 0., 0.],\n",
            "        [1., 0., 0.],\n",
            "        [0., 0., 1.],\n",
            "        [0., 0., 1.],\n",
            "        [0., 1., 0.],\n",
            "        [0., 0., 1.],\n",
            "        [1., 0., 0.],\n",
            "        [0., 0., 1.],\n",
            "        [0., 0., 1.],\n",
            "        [0., 0., 1.],\n",
            "        [0., 0., 1.],\n",
            "        [0., 1., 0.],\n",
            "        [0., 0., 1.],\n",
            "        [1., 0., 0.]])\n",
            "tensor([[ 0.3100, -0.5904,  0.1371,  0.1321],\n",
            "        [-0.0523, -0.8198,  0.1937, -0.2615],\n",
            "        [ 0.7930, -0.5904,  0.4770,  0.3945],\n",
            "        [ 0.0684,  0.3273,  0.5903,  0.7880],\n",
            "        [-0.1731, -0.3610,  0.2504,  0.1321],\n",
            "        [-1.0184,  1.2450, -1.3358, -1.3111],\n",
            "        [ 2.2422,  1.7039,  1.6666,  1.3128],\n",
            "        [-1.5015,  1.2450, -1.5623, -1.3111],\n",
            "        [-0.8977,  1.4745, -1.2791, -1.0487],\n",
            "        [-1.1392, -1.2787,  0.4203,  0.6568],\n",
            "        [ 1.5176, -0.1315,  1.2134,  1.1816],\n",
            "        [ 2.2422, -0.1315,  1.3267,  1.4440],\n",
            "        [ 1.0345,  0.5567,  1.1001,  1.7064],\n",
            "        [ 1.2761,  0.3273,  1.1001,  1.4440],\n",
            "        [ 0.0684, -0.1315,  0.2504,  0.3945],\n",
            "        [-1.0184,  0.5567, -1.3358, -1.3111]]) tensor([[0., 1., 0.],\n",
            "        [0., 1., 0.],\n",
            "        [0., 1., 0.],\n",
            "        [0., 1., 0.],\n",
            "        [0., 1., 0.],\n",
            "        [1., 0., 0.],\n",
            "        [0., 0., 1.],\n",
            "        [1., 0., 0.],\n",
            "        [1., 0., 0.],\n",
            "        [0., 0., 1.],\n",
            "        [0., 0., 1.],\n",
            "        [0., 0., 1.],\n",
            "        [0., 0., 1.],\n",
            "        [0., 0., 1.],\n",
            "        [0., 1., 0.],\n",
            "        [1., 0., 0.]])\n",
            "tensor([[-1.7309e-01, -1.3154e-01,  2.5038e-01,  8.7455e-04],\n",
            "        [-1.7309e-01,  3.0805e+00, -1.2791e+00, -1.0487e+00],\n",
            "        [-8.9767e-01,  7.8617e-01, -1.2791e+00, -1.3111e+00],\n",
            "        [-1.6223e+00, -1.7375e+00, -1.3924e+00, -1.1799e+00],\n",
            "        [ 6.7225e-01, -3.6097e-01,  3.0703e-01,  1.3207e-01],\n",
            "        [-2.9386e-01, -1.3154e-01,  1.9374e-01,  1.3207e-01],\n",
            "        [-1.0184e+00,  7.8617e-01, -1.2791e+00, -1.3111e+00],\n",
            "        [-1.5015e+00,  7.8617e-01, -1.3358e+00, -1.1799e+00]]) tensor([[0., 1., 0.],\n",
            "        [1., 0., 0.],\n",
            "        [1., 0., 0.],\n",
            "        [1., 0., 0.],\n",
            "        [0., 1., 0.],\n",
            "        [0., 1., 0.],\n",
            "        [1., 0., 0.],\n",
            "        [1., 0., 0.]])\n"
          ]
        }
      ]
    },
    {
      "cell_type": "code",
      "source": [
        "#예측값 확률 잘 들어갔는지 확인해보기\n",
        "z_model = nn.Linear(4,3,bias = True)\n",
        "zhat = z_model(xx)\n",
        "qhat = torch.softmax(zhat, dim = 1)\n",
        "qhat"
      ],
      "metadata": {
        "colab": {
          "base_uri": "https://localhost:8080/",
          "height": 0
        },
        "id": "vnNtnPsY6Kuf",
        "outputId": "5e43cf2f-78cf-4538-bf78-9a6ecb159f46"
      },
      "id": "vnNtnPsY6Kuf",
      "execution_count": 43,
      "outputs": [
        {
          "output_type": "execute_result",
          "data": {
            "text/plain": [
              "tensor([[0.2407, 0.4206, 0.3387],\n",
              "        [0.1623, 0.1270, 0.7107],\n",
              "        [0.2789, 0.1677, 0.5534],\n",
              "        [0.4989, 0.2037, 0.2974],\n",
              "        [0.1562, 0.4880, 0.3557],\n",
              "        [0.2734, 0.4166, 0.3101],\n",
              "        [0.2968, 0.1647, 0.5385],\n",
              "        [0.4000, 0.1521, 0.4478]], grad_fn=<SoftmaxBackward0>)"
            ]
          },
          "metadata": {},
          "execution_count": 43
        }
      ]
    },
    {
      "cell_type": "markdown",
      "source": [
        "클래스별 예측 확률을 softmax함수를 이용해 잘 나타내었다.\n",
        "qhat은 설정한 3개의 클래스별로 속할 확률을 나타낸다."
      ],
      "metadata": {
        "id": "Z48yVBON6Rrz"
      },
      "id": "Z48yVBON6Rrz"
    },
    {
      "cell_type": "code",
      "source": [
        "# modeling\n",
        "\n",
        "# Loss ftn\n",
        "def loss_ftn(qhat, tt):\n",
        "    loss = -torch.mean(torch.sum(tt * torch.log(qhat), axis = 1))\n",
        "    return loss\n",
        "\n",
        "# linear model 생성\n",
        "z_model = nn.Linear(4,3,bias = True) #4는 파라미터 개수이며 3은 클래스 개수이다. (다중분류)\n",
        "\n",
        "# optimizer 정의\n",
        "optimizer = torch.optim.SGD(z_model.parameters(),lr = 0.01)\n",
        "\n",
        "n = X_train.shape[0]\n",
        "epochs = 100\n",
        "history = []\n",
        "\n",
        "for epoch in tqdm(range(epochs)):\n",
        "    Loss = 0\n",
        "    for xx, tt in train_loader:\n",
        "    # zhat\n",
        "        zhat = z_model(xx)\n",
        "        qhat = torch.softmax(zhat, dim = 1) # np.exp(zhat[0])/np.sum(np.exp([zhat[0],  zhat[1],  zhat[2]])) 즉 열 방향으로 y에 대한 예측값인 Ey, 확률 산출 -> 하나 꺼내서 확인해보기\n",
        "        loss = loss_ftn(qhat, tt) #원핫인코딩된 상태 그대로 넣기\n",
        "        Loss = Loss + loss.item() * len(xx)\n",
        "\n",
        "        optimizer.zero_grad() #초기화 시키고\n",
        "        loss.backward() #미분\n",
        "        optimizer.step() #모델 파라미터 업데이트\n",
        "\n",
        "    history.append(Loss/n) #Loss는 현재 sum으로 들어가기 때문에(누적손실이므로) n으로 나눠줘야함!\n",
        "plt.plot(history)"
      ],
      "metadata": {
        "colab": {
          "base_uri": "https://localhost:8080/",
          "height": 466
        },
        "id": "9YKym9B-7IiC",
        "outputId": "4397dfae-5821-4235-ba4f-9ed718505679"
      },
      "id": "9YKym9B-7IiC",
      "execution_count": 44,
      "outputs": [
        {
          "output_type": "stream",
          "name": "stderr",
          "text": [
            "100%|██████████| 100/100 [00:00<00:00, 174.33it/s]\n"
          ]
        },
        {
          "output_type": "execute_result",
          "data": {
            "text/plain": [
              "[<matplotlib.lines.Line2D at 0x788f73d516f0>]"
            ]
          },
          "metadata": {},
          "execution_count": 44
        },
        {
          "output_type": "display_data",
          "data": {
            "text/plain": [
              "<Figure size 640x480 with 1 Axes>"
            ],
            "image/png": "[encoded data removed]"
          },
          "metadata": {}
        }
      ]
    },
    {
      "cell_type": "markdown",
      "source": [
        "그래프를 확인해보니 그래프가 평평하지 못함"
      ],
      "metadata": {
        "id": "6__p2HAG7J4h"
      },
      "id": "6__p2HAG7J4h"
    },
    {
      "cell_type": "code",
      "source": [
        "#epochs 를 1000으로 설정\n",
        "# modeling\n",
        "\n",
        "# Loss ftn\n",
        "def loss_ftn(qhat, tt):\n",
        "    loss = -torch.mean(torch.sum(tt * torch.log(qhat), axis = 1))\n",
        "    return loss\n",
        "\n",
        "# linear model 생성\n",
        "z_model = nn.Linear(4,3,bias = True) #4는 파라미터 개수이며 3은 클래스 개수이다. (다중분류)\n",
        "\n",
        "# optimizer 정의\n",
        "optimizer = torch.optim.SGD(z_model.parameters(),lr = 0.01)\n",
        "\n",
        "n = X_train.shape[0]\n",
        "epochs = 1000\n",
        "history = []\n",
        "\n",
        "for epoch in tqdm(range(epochs)):\n",
        "    Loss = 0\n",
        "    for xx, tt in train_loader:\n",
        "    # zhat\n",
        "        zhat = z_model(xx)\n",
        "        qhat = torch.softmax(zhat, dim = 1) # np.exp(zhat[0])/np.sum(np.exp([zhat[0],  zhat[1],  zhat[2]])) 즉 열 방향으로 y에 대한 예측값인 Ey, 확률 산출 -> 하나 꺼내서 확인해보기\n",
        "        loss = loss_ftn(qhat, tt) #원핫인코딩된 상태 그대로 넣기\n",
        "        Loss = Loss + loss.item() * len(xx)\n",
        "\n",
        "        optimizer.zero_grad() #초기화 시키고\n",
        "        loss.backward() #미분\n",
        "        optimizer.step() #모델 파라미터 업데이트\n",
        "\n",
        "    history.append(Loss/n) #Loss는 현재 sum으로 들어가기 때문에(누적손실이므로) n으로 나눠줘야함!\n",
        "plt.plot(history)\n"
      ],
      "metadata": {
        "colab": {
          "base_uri": "https://localhost:8080/",
          "height": 466
        },
        "id": "IXiGXyLkHH9f",
        "outputId": "6fbd6dc0-8a00-4b99-809c-9fd8b0ee4599"
      },
      "id": "IXiGXyLkHH9f",
      "execution_count": 49,
      "outputs": [
        {
          "output_type": "stream",
          "name": "stderr",
          "text": [
            "100%|██████████| 1000/1000 [00:06<00:00, 150.70it/s]\n"
          ]
        },
        {
          "output_type": "execute_result",
          "data": {
            "text/plain": [
              "[<matplotlib.lines.Line2D at 0x788f73cf6b00>]"
            ]
          },
          "metadata": {},
          "execution_count": 49
        },
        {
          "output_type": "display_data",
          "data": {
            "text/plain": [
              "<Figure size 640x480 with 1 Axes>"
            ],
            "image/png": "[encoded data removed]"
          },
          "metadata": {}
        }
      ]
    },
    {
      "cell_type": "code",
      "source": [
        "y[0:5]"
      ],
      "metadata": {
        "colab": {
          "base_uri": "https://localhost:8080/",
          "height": 0
        },
        "id": "4UgB2Z1qhG2D",
        "outputId": "246a60d8-91db-457b-b7cb-c63b7eaabf8d"
      },
      "id": "4UgB2Z1qhG2D",
      "execution_count": 50,
      "outputs": [
        {
          "output_type": "execute_result",
          "data": {
            "text/plain": [
              "tensor([0, 0, 0, 0, 0])"
            ]
          },
          "metadata": {},
          "execution_count": 50
        }
      ]
    },
    {
      "cell_type": "code",
      "source": [
        "qhat"
      ],
      "metadata": {
        "colab": {
          "base_uri": "https://localhost:8080/",
          "height": 0
        },
        "id": "cXq11pJohALF",
        "outputId": "ae97ba62-05ff-4338-c60d-e5f497862586"
      },
      "id": "cXq11pJohALF",
      "execution_count": 51,
      "outputs": [
        {
          "output_type": "execute_result",
          "data": {
            "text/plain": [
              "tensor([[9.9879e-01, 1.2083e-03, 1.0306e-08],\n",
              "        [4.1056e-04, 4.8251e-01, 5.1708e-01],\n",
              "        [2.2914e-02, 8.8009e-01, 9.6991e-02],\n",
              "        [1.3576e-02, 9.5715e-01, 2.9274e-02],\n",
              "        [7.9157e-04, 1.3057e-01, 8.6863e-01],\n",
              "        [9.3011e-03, 8.8418e-01, 1.0652e-01],\n",
              "        [5.3315e-03, 8.4991e-01, 1.4476e-01],\n",
              "        [9.9452e-01, 5.4772e-03, 1.0348e-07]], grad_fn=<SoftmaxBackward0>)"
            ]
          },
          "metadata": {},
          "execution_count": 51
        }
      ]
    },
    {
      "cell_type": "code",
      "source": [
        "def accuracy_ftn(qhat, t):\n",
        "  yhat = torch.argmax(qhat, axis = 1).to(torch.float32) #열기준으로 max인 class를 뽑음\n",
        "  print(yhat)\n",
        "  y = torch.argmax(t, axis=1).to(torch.float32)\n",
        "  print(y)\n",
        "  accuracy = torch.sum((y==yhat).to(torch.float32))\n",
        "  print(accuracy)\n",
        "  return accuracy\n",
        "\n",
        "accuracy_sum = 0\n",
        "\n",
        "for X, T in test_loader:\n",
        "    zhat = z_model(X)\n",
        "    qhat = torch.softmax(zhat, dim = 1)\n",
        "    print(qhat)\n",
        "    accuracy_sum = accuracy_sum + accuracy_ftn(qhat, T).item()\n",
        "    print(accuracy_sum)\n",
        "\n",
        "print(accuracy_sum/len(X_val))"
      ],
      "metadata": {
        "colab": {
          "base_uri": "https://localhost:8080/",
          "height": 0
        },
        "id": "JeffrnEXTGOe",
        "outputId": "e5059a88-d20d-47a4-daf3-130f0113d07b"
      },
      "id": "JeffrnEXTGOe",
      "execution_count": 52,
      "outputs": [
        {
          "output_type": "stream",
          "name": "stdout",
          "text": [
            "tensor([[5.5546e-03, 8.7848e-01, 1.1596e-01],\n",
            "        [9.8256e-01, 1.7442e-02, 5.7010e-07],\n",
            "        [9.8635e-09, 4.1516e-03, 9.9585e-01],\n",
            "        [7.4249e-03, 7.1744e-01, 2.7513e-01],\n",
            "        [7.5089e-04, 7.4393e-01, 2.5532e-01],\n",
            "        [9.6198e-01, 3.8018e-02, 2.2808e-06],\n",
            "        [7.2886e-02, 8.7607e-01, 5.1041e-02],\n",
            "        [2.9578e-05, 4.3010e-02, 9.5696e-01],\n",
            "        [2.6219e-04, 5.9172e-01, 4.0802e-01],\n",
            "        [1.8430e-02, 9.2573e-01, 5.5842e-02],\n",
            "        [5.2123e-04, 1.5609e-01, 8.4339e-01],\n",
            "        [9.6793e-01, 3.2071e-02, 6.5679e-07],\n",
            "        [9.7918e-01, 2.0815e-02, 3.6377e-07],\n",
            "        [9.6982e-01, 3.0176e-02, 6.2789e-07],\n",
            "        [9.9609e-01, 3.9078e-03, 1.0823e-07],\n",
            "        [1.1988e-02, 6.4995e-01, 3.3806e-01]], grad_fn=<SoftmaxBackward0>)\n",
            "tensor([1., 0., 2., 1., 1., 0., 1., 2., 1., 1., 2., 0., 0., 0., 0., 1.])\n",
            "tensor([1., 0., 2., 1., 1., 0., 1., 2., 1., 1., 2., 0., 0., 0., 0., 1.])\n",
            "tensor(16.)\n",
            "16.0\n",
            "tensor([[1.5564e-05, 2.7672e-02, 9.7231e-01],\n",
            "        [1.4780e-02, 9.4156e-01, 4.3660e-02],\n",
            "        [1.4013e-02, 8.4055e-01, 1.4544e-01],\n",
            "        [1.1534e-05, 2.8817e-02, 9.7117e-01],\n",
            "        [9.8312e-01, 1.6874e-02, 5.7979e-07],\n",
            "        [1.7931e-03, 3.1746e-01, 6.8074e-01],\n",
            "        [9.8160e-01, 1.8397e-02, 1.2847e-06],\n",
            "        [2.0006e-05, 4.4722e-02, 9.5526e-01],\n",
            "        [3.0701e-05, 7.6515e-02, 9.2345e-01],\n",
            "        [2.2312e-05, 3.4854e-02, 9.6512e-01],\n",
            "        [8.5436e-06, 1.0446e-01, 8.9553e-01],\n",
            "        [9.9696e-06, 1.9362e-02, 9.8063e-01],\n",
            "        [9.6025e-01, 3.9745e-02, 2.0263e-06],\n",
            "        [9.6958e-01, 3.0423e-02, 1.1287e-06]], grad_fn=<SoftmaxBackward0>)\n",
            "tensor([2., 1., 1., 2., 0., 2., 0., 2., 2., 2., 2., 2., 0., 0.])\n",
            "tensor([2., 1., 1., 2., 0., 2., 0., 2., 2., 2., 2., 2., 0., 0.])\n",
            "tensor(14.)\n",
            "30.0\n",
            "1.0\n"
          ]
        }
      ]
    },
    {
      "cell_type": "markdown",
      "source": [
        "test loader로 정확도를 확인한 결과 1이 나왔다. 과적합이 됐을 가능성도 보임."
      ],
      "metadata": {
        "id": "GtFcNkze85H0"
      },
      "id": "GtFcNkze85H0"
    },
    {
      "cell_type": "markdown",
      "id": "6MMnjhQOPR-2",
      "metadata": {
        "id": "6MMnjhQOPR-2"
      },
      "source": [
        "## Exercise 2.3.5: Fashion MNIST data (HW)"
      ]
    },
    {
      "cell_type": "markdown",
      "id": "Q0wBOhSpRP6A",
      "metadata": {
        "id": "Q0wBOhSpRP6A"
      },
      "source": [
        "You are given the following fashion MNIST data. Do the multinomial regression so that the regression machine can determine the label from the images. Calculate the test accuracy. In the test dataset, identify at least 5 cases where your predictions are wrong, and explain why possibly they were mis-classified.\n",
        "\n",
        "1. the picture\n",
        "\n",
        "2. predicted label\n",
        "\n",
        "3. real label\n",
        "\n",
        "4. Explain the possible reason why your model is wrong in this case."
      ]
    },
    {
      "cell_type": "markdown",
      "id": "f0332X2pWmn0",
      "metadata": {
        "id": "f0332X2pWmn0"
      },
      "source": [
        "Hint: Each training and test example is assigned to one of the following labels:\n",
        "\n",
        "0 T-shirt/top\n",
        "\n",
        "1 Trouser\n",
        "\n",
        "2 Pullover\n",
        "\n",
        "3 Dress\n",
        "\n",
        "4 Coat\n",
        "\n",
        "5 Sandal\n",
        "\n",
        "6 Shirt\n",
        "\n",
        "7 Sneaker\n",
        "\n",
        "8 Bag\n",
        "\n",
        "9 Ankle boot"
      ]
    },
    {
      "cell_type": "markdown",
      "id": "HB5bG9moWmlE",
      "metadata": {
        "id": "HB5bG9moWmlE"
      },
      "source": []
    },
    {
      "cell_type": "code",
      "execution_count": 1,
      "id": "E-OllAGT6pr-",
      "metadata": {
        "id": "E-OllAGT6pr-"
      },
      "outputs": [],
      "source": [
        "import torch\n",
        "from torch import nn, optim\n",
        "import torch.nn.functional as F\n",
        "from torch.utils.data import DataLoader\n",
        "from torchvision import datasets, transforms"
      ]
    },
    {
      "cell_type": "code",
      "execution_count": 2,
      "id": "Y2dqyxnr6psU",
      "metadata": {
        "id": "Y2dqyxnr6psU"
      },
      "outputs": [],
      "source": [
        "# transform to normalize the data\n",
        "transform = transforms.Compose([transforms.ToTensor(),\n",
        "                                transforms.Normalize((0.5,), (0.5,))])\n",
        "\n",
        "# Download and load the training data\n",
        "trainset = datasets.FashionMNIST('./data', download=True, train=True, transform=transform)\n",
        "train_loader = DataLoader(trainset, batch_size=64, shuffle=True)\n",
        "\n",
        "# Download and load the test data\n",
        "validationset = datasets.FashionMNIST('./data', download=True, train=False, transform=transform)\n",
        "test_loader = DataLoader(validationset, batch_size=64, shuffle=True)"
      ]
    },
    {
      "cell_type": "code",
      "execution_count": 3,
      "id": "fH_-sM1iXlj4",
      "metadata": {
        "id": "fH_-sM1iXlj4"
      },
      "outputs": [],
      "source": [
        "xx, yy = trainset[0]"
      ]
    },
    {
      "cell_type": "code",
      "source": [
        "xx.shape"
      ],
      "metadata": {
        "colab": {
          "base_uri": "https://localhost:8080/",
          "height": 0
        },
        "id": "np2XllkgX9Qq",
        "outputId": "41180e59-f388-4d98-9b9c-76b2d61b1a8c"
      },
      "id": "np2XllkgX9Qq",
      "execution_count": 4,
      "outputs": [
        {
          "output_type": "execute_result",
          "data": {
            "text/plain": [
              "torch.Size([1, 28, 28])"
            ]
          },
          "metadata": {},
          "execution_count": 4
        }
      ]
    },
    {
      "cell_type": "code",
      "execution_count": 7,
      "id": "PEu4G4HsXug4",
      "metadata": {
        "colab": {
          "base_uri": "https://localhost:8080/",
          "height": 448
        },
        "id": "PEu4G4HsXug4",
        "outputId": "0b15c798-b440-44e9-8cc8-f88d210c2858"
      },
      "outputs": [
        {
          "output_type": "stream",
          "name": "stdout",
          "text": [
            "Ankle boot\n"
          ]
        },
        {
          "output_type": "display_data",
          "data": {
            "text/plain": [
              "<Figure size 640x480 with 1 Axes>"
            ],
            "image/png": "[encoded data removed]"
          },
          "metadata": {}
        }
      ],
      "source": [
        "plt.imshow(xx.reshape(28,28))\n",
        "my_name = { 0: \"T-shirt/top\", 1: \"Trouser\",\n",
        "              2: \"Pullover\", 3: \"Dress\", 4: \"Coat\", 5: \"Sandal\", 6: \"Shirt\", 7: \"Sneaker\", 8: \"Bag\", 9: \"Ankle boot\"} #그림데이터로 10가지 분류데이터\n",
        "print(my_name[yy])"
      ]
    },
    {
      "cell_type": "markdown",
      "source": [
        "the picture\n",
        "\n",
        "predicted label\n",
        "\n",
        "real label\n",
        "\n",
        "Explain the possible reason why your model is wrong in this case."
      ],
      "metadata": {
        "id": "f42mIoLZSL0v"
      },
      "id": "f42mIoLZSL0v"
    },
    {
      "cell_type": "markdown",
      "source": [
        "1. 모델링\n",
        "\n",
        "2. 모델링을 통해 구한 각 class별 확률을 기준으로 그 예측값이 분류한 class라벨 붙임\n",
        "\n",
        "3. 실제 라벨과 함께 비교\n"
      ],
      "metadata": {
        "id": "caYDXmyaSWre"
      },
      "id": "caYDXmyaSWre"
    },
    {
      "cell_type": "code",
      "source": [
        "trainset"
      ],
      "metadata": {
        "colab": {
          "base_uri": "https://localhost:8080/",
          "height": 0
        },
        "id": "IkVo39Z_bl0A",
        "outputId": "49c63105-aa36-4d7e-87a6-cf42b2b99991"
      },
      "id": "IkVo39Z_bl0A",
      "execution_count": 8,
      "outputs": [
        {
          "output_type": "execute_result",
          "data": {
            "text/plain": [
              "Dataset FashionMNIST\n",
              "    Number of datapoints: 60000\n",
              "    Root location: ./data\n",
              "    Split: Train\n",
              "    StandardTransform\n",
              "Transform: Compose(\n",
              "               ToTensor()\n",
              "               Normalize(mean=(0.5,), std=(0.5,))\n",
              "           )"
            ]
          },
          "metadata": {},
          "execution_count": 8
        }
      ]
    },
    {
      "cell_type": "markdown",
      "source": [
        "nn.Linear에 28*28픽셀을 하나의 벡터로 나타내기 위해 28*28개 만들어 하나의 벡터로 표현한다."
      ],
      "metadata": {
        "id": "BMF9KxaJ9_-X"
      },
      "id": "BMF9KxaJ9_-X"
    },
    {
      "cell_type": "code",
      "execution_count": 9,
      "id": "jx4Y_8aqRHOd",
      "metadata": {
        "id": "jx4Y_8aqRHOd",
        "colab": {
          "base_uri": "https://localhost:8080/",
          "height": 559
        },
        "outputId": "675b802f-3806-4ff8-9d5d-1f623105ddd3"
      },
      "outputs": [
        {
          "output_type": "stream",
          "name": "stderr",
          "text": [
            "\r  0%|          | 0/20 [00:00<?, ?it/s]<ipython-input-9-a33738d5c966>:26: UserWarning: To copy construct from a tensor, it is recommended to use sourceTensor.clone().detach() or sourceTensor.clone().detach().requires_grad_(True), rather than torch.tensor(sourceTensor).\n",
            "  t_ = torch.nn.functional.one_hot(torch.tensor(tt, dtype=torch.int64), num_classes=10) #현재 tt를 사용하였다. 이는 원핫인코딩된 상태 . 따라서 여기에서도 원핫인코딩 진행 해야함.\n",
            "<ipython-input-9-a33738d5c966>:27: UserWarning: To copy construct from a tensor, it is recommended to use sourceTensor.clone().detach() or sourceTensor.clone().detach().requires_grad_(True), rather than torch.tensor(sourceTensor).\n",
            "  t_ = torch.tensor(t_, dtype=torch.float32)\n",
            "100%|██████████| 20/20 [04:30<00:00, 13.52s/it]\n"
          ]
        },
        {
          "output_type": "execute_result",
          "data": {
            "text/plain": [
              "[<matplotlib.lines.Line2D at 0x79c2e5e18c40>]"
            ]
          },
          "metadata": {},
          "execution_count": 9
        },
        {
          "output_type": "display_data",
          "data": {
            "text/plain": [
              "<Figure size 640x480 with 1 Axes>"
            ],
            "image/png": "[encoded data removed]"
          },
          "metadata": {}
        }
      ],
      "source": [
        "# 모델링 epochs를 20으로 설정한다.\n",
        "\n",
        "# modeling\n",
        "\n",
        "# Loss ftn\n",
        "def loss_ftn(qhat, tt):\n",
        "    loss = -torch.mean(torch.sum(tt * torch.log(qhat), axis = 1)) #tt는 원핫인코딩 된 형태임\n",
        "    return loss\n",
        "\n",
        "# linear model 생성\n",
        "z_model = nn.Linear(28 * 28 ,10,bias = True) # input: 28*28, output class = 10\n",
        "\n",
        "# optimizer 정의\n",
        "optimizer = torch.optim.SGD(z_model.parameters(),lr = 0.01)\n",
        "\n",
        "n = 60000\n",
        "epochs = 20\n",
        "history = []\n",
        "\n",
        "for epoch in tqdm(range(epochs)):\n",
        "    Loss = 0\n",
        "    for xx, tt in train_loader:\n",
        "    # zhat\n",
        "        zhat = z_model(xx.reshape([-1,28*28])) # 784 vec의 꼴로 바꿔줌.\n",
        "        qhat = torch.softmax(zhat, dim = 1) # np.exp(zhat[0])/np.sum(np.exp([zhat[0],  zhat[1],  zhat[2]])) 즉 열 방향으로 y에 대한 예측값인 Ey, 확률 산출 -> 하나 꺼내서 확인해보기\n",
        "        t_ = torch.nn.functional.one_hot(torch.tensor(tt, dtype=torch.int64), num_classes=10) #현재 tt를 사용하였다. 이는 원핫인코딩된 상태 . 따라서 여기에서도 원핫인코딩 진행 해야함.\n",
        "        t_ = torch.tensor(t_, dtype=torch.float32)\n",
        "        loss = loss_ftn(qhat, t_) # loss = nn.Crossentropy(qhat,y)\n",
        "        Loss = Loss + loss.item() * len(xx)\n",
        "\n",
        "        optimizer.zero_grad()\n",
        "        loss.backward()\n",
        "        optimizer.step()\n",
        "\n",
        "    history.append(Loss/n)\n",
        "plt.plot(history)\n"
      ]
    },
    {
      "cell_type": "markdown",
      "source": [
        "```\n",
        "def accuracy_ftn(qhat, t):\n",
        "  yhat = torch.argmax(qhat, axis = 1).to(torch.float32)\n",
        "  y = torch.argmax(t, axis=1).to(torch.float32)\n",
        "  accuracy = torch.sum((y==yhat).to(torch.float32))\n",
        "  return accuracy\n",
        "```\n",
        "\n",
        "  즉, class별로 나타낸 Y와 확률을 기반으로 class로 분류된 Yhat이 같아지는 것이 accuracy임.   \n",
        "\n",
        "  달라지는 걸 mis_pred으로 담아 그림으로 확인!"
      ],
      "metadata": {
        "id": "KOwtDG3YcGvf"
      },
      "id": "KOwtDG3YcGvf"
    },
    {
      "cell_type": "code",
      "source": [
        "# 모델링으로 각 class별 확률을 기준으로 label 생성\n",
        "accuracy_sum = 0\n",
        "for X, Y in test_loader:\n",
        "    # 모델 확률 예측\n",
        "    zhat = z_model(X.reshape([-1,28*28]))\n",
        "    qhat = torch.softmax(zhat, dim = 1)\n",
        "    # 확률기반 클래스 분류\n",
        "    Yhat = torch.argmax(qhat, axis = 1).to(torch.float32)\n",
        "\n",
        "    Y = Y.to(torch.float32)\n",
        "\n",
        "    # test 데이터의 실제 class값과 비교 및 정확한 값 1로 구해서 sum\n",
        "    accuracy_sum += torch.sum((Y==Yhat)).to(torch.float32)\n",
        "\n",
        "accuracy = accuracy_sum/len(validationset)\n",
        "accuracy"
      ],
      "metadata": {
        "colab": {
          "base_uri": "https://localhost:8080/",
          "height": 0
        },
        "id": "4wh9gU7lguDd",
        "outputId": "2c62a3a1-366c-4fc0-d5a5-fad40fd2a320"
      },
      "id": "4wh9gU7lguDd",
      "execution_count": 11,
      "outputs": [
        {
          "output_type": "execute_result",
          "data": {
            "text/plain": [
              "tensor(0.8420)"
            ]
          },
          "metadata": {},
          "execution_count": 11
        }
      ]
    },
    {
      "cell_type": "code",
      "source": [
        "print(Y!=Yhat,Y[Y!=Yhat]) #miss데이터"
      ],
      "metadata": {
        "colab": {
          "base_uri": "https://localhost:8080/",
          "height": 0
        },
        "id": "_Y73mFPgd-ZN",
        "outputId": "0dd03f1d-e7bb-40b2-d7a8-28190ae2abe9"
      },
      "id": "_Y73mFPgd-ZN",
      "execution_count": 12,
      "outputs": [
        {
          "output_type": "stream",
          "name": "stdout",
          "text": [
            "tensor([False, False, False, False, False,  True, False, False,  True, False,\n",
            "        False, False, False,  True, False, False]) tensor([6., 7., 9.])\n"
          ]
        }
      ]
    },
    {
      "cell_type": "code",
      "source": [
        "X.shape"
      ],
      "metadata": {
        "colab": {
          "base_uri": "https://localhost:8080/",
          "height": 0
        },
        "id": "NljKcbr0fIfd",
        "outputId": "e2a4482d-5b2f-417b-dd40-572820f4cb72"
      },
      "id": "NljKcbr0fIfd",
      "execution_count": 28,
      "outputs": [
        {
          "output_type": "execute_result",
          "data": {
            "text/plain": [
              "torch.Size([16, 1, 28, 28])"
            ]
          },
          "metadata": {},
          "execution_count": 28
        }
      ]
    },
    {
      "cell_type": "code",
      "source": [
        "X[Y!=Yhat].shape # Y!=Yhat 3개 있음"
      ],
      "metadata": {
        "colab": {
          "base_uri": "https://localhost:8080/",
          "height": 0
        },
        "id": "jjTUdjCqfU81",
        "outputId": "958aba04-7a74-4f34-bb6e-c5d1f247692c"
      },
      "id": "jjTUdjCqfU81",
      "execution_count": 29,
      "outputs": [
        {
          "output_type": "execute_result",
          "data": {
            "text/plain": [
              "torch.Size([0, 1, 28, 28])"
            ]
          },
          "metadata": {},
          "execution_count": 29
        }
      ]
    },
    {
      "cell_type": "code",
      "source": [
        "print(Y,Yhat) # 실제로 값이 3개가 예측 분류와 실제 값이 다름을 알 수 있음"
      ],
      "metadata": {
        "colab": {
          "base_uri": "https://localhost:8080/",
          "height": 0
        },
        "id": "TgCKotURfYJF",
        "outputId": "c788191d-96da-4424-84db-49bdfdd8690f"
      },
      "id": "TgCKotURfYJF",
      "execution_count": 32,
      "outputs": [
        {
          "output_type": "stream",
          "name": "stdout",
          "text": [
            "tensor([2., 9., 7., 5., 7., 1., 2., 2., 4., 8., 0., 8., 7., 3., 7., 6.]) tensor([2., 9., 7., 5., 7., 1., 2., 2., 4., 8., 0., 8., 7., 3., 7., 6.])\n"
          ]
        }
      ]
    },
    {
      "cell_type": "markdown",
      "source": [
        "```\n",
        "plt.imshow(xx.reshape(28,28))\n",
        "my_name = { 0: \"T-shirt/top\", 1: \"Trouser\",\n",
        "              2: \"Pullover\", 3: \"Dress\", 4: \"Coat\", 5: \"Sandal\", 6: \"Shirt\", 7: \"Sneaker\", 8: \"Bag\", 9: \"Ankle boot\"}\n",
        "print(my_name[yy])\n",
        "```\n"
      ],
      "metadata": {
        "id": "VvPt2bF-iQ0k"
      },
      "id": "VvPt2bF-iQ0k"
    },
    {
      "cell_type": "code",
      "source": [
        "# 모델링으로 각 class별 확률을 기준으로 label 생성\n",
        "mis_sample = []\n",
        "mis_label = []\n",
        "true_label = []\n",
        "\n",
        "for X, Y in test_loader:\n",
        "    # 모델 확률 예측\n",
        "    zhat = z_model(X.reshape([-1, 28*28]))\n",
        "    qhat = torch.softmax(zhat, dim=1)\n",
        "    # 확률기반 클래스 분류\n",
        "    Yhat = torch.argmax(qhat, axis=1).to(torch.float32)\n",
        "\n",
        "    Y = Y.to(torch.float32)\n",
        "\n",
        "    # 현재 배치에서 잘못 분류된 데이터를 for문을 사용하여 누적\n",
        "    for i in range(len(Y)):\n",
        "        if Y[i] != Yhat[i]:\n",
        "            mis_sample.append(X[i])\n",
        "            mis_label.append(Yhat[i])\n",
        "            true_label.append(Y[i])\n"
      ],
      "metadata": {
        "id": "kigtLgE-dBsQ"
      },
      "id": "kigtLgE-dBsQ",
      "execution_count": 36,
      "outputs": []
    },
    {
      "cell_type": "code",
      "source": [
        "len(mis_sample)"
      ],
      "metadata": {
        "colab": {
          "base_uri": "https://localhost:8080/",
          "height": 0
        },
        "id": "r1oZAolxkVZa",
        "outputId": "f3123576-3516-45c9-f45c-9276047576e8"
      },
      "id": "r1oZAolxkVZa",
      "execution_count": 43,
      "outputs": [
        {
          "output_type": "execute_result",
          "data": {
            "text/plain": [
              "1580"
            ]
          },
          "metadata": {},
          "execution_count": 43
        }
      ]
    },
    {
      "cell_type": "code",
      "source": [
        "plt.imshow(mis_sample[0].reshape(28,28))\n",
        "print(mis_label[0]) #잘못예측\n",
        "print(true_label[0]) #실제 값"
      ],
      "metadata": {
        "colab": {
          "base_uri": "https://localhost:8080/",
          "height": 466
        },
        "id": "nupkB11Ck6vS",
        "outputId": "78252830-0e85-41fb-a5b3-5abdd7496c84"
      },
      "id": "nupkB11Ck6vS",
      "execution_count": 39,
      "outputs": [
        {
          "output_type": "stream",
          "name": "stdout",
          "text": [
            "tensor(7.)\n",
            "tensor(5.)\n"
          ]
        },
        {
          "output_type": "display_data",
          "data": {
            "text/plain": [
              "<Figure size 640x480 with 1 Axes>"
            ],
            "image/png": "[encoded data removed]"
          },
          "metadata": {}
        }
      ]
    },
    {
      "cell_type": "code",
      "source": [
        "plt.imshow(mis_sample[1].reshape(28,28))\n",
        "print(mis_label[1])\n",
        "print(true_label[1])"
      ],
      "metadata": {
        "colab": {
          "base_uri": "https://localhost:8080/",
          "height": 466
        },
        "id": "fkNzslB2oqbA",
        "outputId": "073f789f-02aa-4370-ac60-954bf0fd6ee5"
      },
      "id": "fkNzslB2oqbA",
      "execution_count": 40,
      "outputs": [
        {
          "output_type": "stream",
          "name": "stdout",
          "text": [
            "tensor(8.)\n",
            "tensor(0.)\n"
          ]
        },
        {
          "output_type": "display_data",
          "data": {
            "text/plain": [
              "<Figure size 640x480 with 1 Axes>"
            ],
            "image/png": "[encoded data removed]"
          },
          "metadata": {}
        }
      ]
    },
    {
      "cell_type": "code",
      "source": [
        "plt.imshow(mis_sample[2].reshape(28,28))\n",
        "print(mis_label[2])\n",
        "print(true_label[2])"
      ],
      "metadata": {
        "colab": {
          "base_uri": "https://localhost:8080/",
          "height": 466
        },
        "id": "GMLzfUDykmrR",
        "outputId": "e55fdc99-a3bd-4e54-978e-ff1cd09247b9"
      },
      "id": "GMLzfUDykmrR",
      "execution_count": 41,
      "outputs": [
        {
          "output_type": "stream",
          "name": "stdout",
          "text": [
            "tensor(2.)\n",
            "tensor(6.)\n"
          ]
        },
        {
          "output_type": "display_data",
          "data": {
            "text/plain": [
              "<Figure size 640x480 with 1 Axes>"
            ],
            "image/png": "[encoded data removed]"
          },
          "metadata": {}
        }
      ]
    }
  ],
  "metadata": {
    "accelerator": "GPU",
    "colab": {
      "machine_shape": "hm",
      "provenance": [],
      "include_colab_link": true
    },
    "kernelspec": {
      "display_name": "Python 3 (ipykernel)",
      "language": "python",
      "name": "python3"
    },
    "language_info": {
      "codemirror_mode": {
        "name": "ipython",
        "version": 3
      },
      "file_extension": ".py",
      "mimetype": "text/x-python",
      "name": "python",
      "nbconvert_exporter": "python",
      "pygments_lexer": "ipython3",
      "version": "3.9.13"
    }
  },
  "nbformat": 4,
  "nbformat_minor": 5
}